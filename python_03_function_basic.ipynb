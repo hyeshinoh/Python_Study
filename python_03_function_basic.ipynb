{
 "cells": [
  {
   "cell_type": "markdown",
   "metadata": {},
   "source": [
    "# **Python 03: Function - Basic**"
   ]
  },
  {
   "cell_type": "markdown",
   "metadata": {},
   "source": [
    "### 다룰 내용\n",
    "- 함수의 개념\n",
    "- 함수 선언, 호출\n",
    "- parameter & argument 개념\n",
    "- return\n",
    "- `*args`, `**kwargs`\n",
    "- docstring"
   ]
  },
  {
   "cell_type": "markdown",
   "metadata": {},
   "source": [
    "여럿이 함께 프로그램을 개발하려면 필요한 부분을 나눠서 작성한 후 합쳐야 한다. 이 때 프로그램을 기능별로 나누는 방법은 (1)함수 (2)객체 (3)모듈이 있는데 그 중에서 먼저 함수에 대해서 살펴보도록 하자"
   ]
  },
  {
   "cell_type": "markdown",
   "metadata": {},
   "source": [
    "## 1. 함수의 기초"
   ]
  },
  {
   "cell_type": "markdown",
   "metadata": {},
   "source": [
    "함수: 어떤 일을 수행하는 코드의 덩어리, 묶음  "
   ]
  },
  {
   "cell_type": "markdown",
   "metadata": {},
   "source": [
    "함수의 기능\n",
    "- 반복적인 수행을 1회만 작성한 후 호출해서 사용\n",
    "- 코드를 논리적인 단위로 분리\n",
    "- 캡슐화: 인터페이스(인풋, 아웃풋)만 알면 타인의 코드를 쉽게 사용"
   ]
  },
  {
   "cell_type": "markdown",
   "metadata": {},
   "source": [
    "### 1.1 선언"
   ]
  },
  {
   "cell_type": "markdown",
   "metadata": {},
   "source": [
    "함수 선언 문법  \n",
    "``` \n",
    "def <function_name>(parameter):\n",
    "    <code>\n",
    "    return <return value>\n",
    "```"
   ]
  },
  {
   "cell_type": "markdown",
   "metadata": {},
   "source": [
    "함수 선언 예시"
   ]
  },
  {
   "cell_type": "code",
   "execution_count": 1,
   "metadata": {},
   "outputs": [],
   "source": [
    "def sum_func(a, b):\n",
    "    print(a + b)"
   ]
  },
  {
   "cell_type": "markdown",
   "metadata": {},
   "source": [
    "### 1.2 호출"
   ]
  },
  {
   "cell_type": "code",
   "execution_count": null,
   "metadata": {},
   "outputs": [],
   "source": [
    "'''\n",
    "<function_name(argument)>\n",
    "'''"
   ]
  },
  {
   "cell_type": "code",
   "execution_count": 2,
   "metadata": {},
   "outputs": [
    {
     "name": "stdout",
     "output_type": "stream",
     "text": [
      "3\n"
     ]
    }
   ],
   "source": [
    "sum_func(1, 2)"
   ]
  },
  {
   "cell_type": "code",
   "execution_count": 3,
   "metadata": {},
   "outputs": [
    {
     "data": {
      "text/plain": [
       "function"
      ]
     },
     "execution_count": 3,
     "metadata": {},
     "output_type": "execute_result"
    }
   ],
   "source": [
    "type(sum_func)"
   ]
  },
  {
   "cell_type": "markdown",
   "metadata": {},
   "source": [
    "#### 함수 호출 방식\n",
    "함수 인자를 전달하는 방식에는 다음의 두 가지가 있음\n",
    "- 값에 의한 호출 (call by value)\n",
    "    - 함수에 인자를 넘길 때 값만 넘김\n",
    "    - 함수 내에 인자 값 변경 시, 호출자에게 영향을 주지 않음\n",
    "- 참조에 의한 호출 (call by reference)\n",
    "    - 함수에 인자를 넘길 때 메모리 주소를 넘김\n",
    "    - 함수 내에 인자 값 변경 시, 호출자의 값도 변경됨\n",
    "    \n",
    "파이썬은 객체의 주소가 함수로 전달되는 방식\n",
    "- 전달된 객체를 참조하여 ***변경시*** 호출자에게 영향을 줌\n",
    "- 새로운 객체를 만들 경우 호출자에게 영향을 주지 않음"
   ]
  },
  {
   "cell_type": "code",
   "execution_count": 2,
   "metadata": {},
   "outputs": [
    {
     "name": "stdout",
     "output_type": "stream",
     "text": [
      "[0, 1]\n"
     ]
    }
   ],
   "source": [
    "def spam(eggs):\n",
    "    eggs.append(1)\n",
    "    eggs = [2, 3]\n",
    "\n",
    "    \n",
    "ham = [0]\n",
    "spam(ham)\n",
    "print(ham)"
   ]
  },
  {
   "cell_type": "code",
   "execution_count": 4,
   "metadata": {},
   "outputs": [
    {
     "name": "stdout",
     "output_type": "stream",
     "text": [
      "Before:  10\n",
      "In function:  20\n",
      "After:  10\n"
     ]
    }
   ],
   "source": [
    "def test(t):\n",
    "    t = 20\n",
    "    print(\"In function: \", t)\n",
    "    \n",
    "    \n",
    "x = 10\n",
    "print(\"Before: \", x)\n",
    "test(x)\n",
    "print(\"After: \", x)"
   ]
  },
  {
   "cell_type": "markdown",
   "metadata": {},
   "source": [
    "### 1.3 parameter & argument\n",
    "- parameter: 함수의 입력 값 인터페이스\n",
    "- argument: 실제 parameter에 대입된 값\n",
    "- 현업에서는 혼용해서 말하는 경우도 있음"
   ]
  },
  {
   "cell_type": "code",
   "execution_count": 4,
   "metadata": {},
   "outputs": [],
   "source": [
    "def sum_func(a, b):        # a, b: parameter\n",
    "    print(a + b)"
   ]
  },
  {
   "cell_type": "code",
   "execution_count": 5,
   "metadata": {},
   "outputs": [
    {
     "name": "stdout",
     "output_type": "stream",
     "text": [
      "3\n"
     ]
    }
   ],
   "source": [
    "sum_func(1, 2)             # 1, 2: argument"
   ]
  },
  {
   "cell_type": "markdown",
   "metadata": {},
   "source": [
    "#### keyword argument\n",
    "- 함수에 입력되는 parameter의 변수명을 사용하여 argument를 넘김"
   ]
  },
  {
   "cell_type": "code",
   "execution_count": 6,
   "metadata": {},
   "outputs": [],
   "source": [
    "def div_func(a, b):        \n",
    "    print(a / b)"
   ]
  },
  {
   "cell_type": "code",
   "execution_count": 7,
   "metadata": {},
   "outputs": [
    {
     "name": "stdout",
     "output_type": "stream",
     "text": [
      "5.0\n",
      "0.2\n"
     ]
    },
    {
     "data": {
      "text/plain": [
       "(None, None)"
      ]
     },
     "execution_count": 7,
     "metadata": {},
     "output_type": "execute_result"
    }
   ],
   "source": [
    "div_func(10,2), div_func(b=10, a=2) # keyword argument"
   ]
  },
  {
   "cell_type": "markdown",
   "metadata": {},
   "source": [
    "#### default parameter\n",
    "- parameter의 기본 값을 사용, 입력하지 않을 경우 기본값을 출력\n",
    "- non-default parameter를 몰아서 써주고 나서 맨 끝에 넣어줌"
   ]
  },
  {
   "cell_type": "code",
   "execution_count": 9,
   "metadata": {
    "scrolled": true
   },
   "outputs": [
    {
     "name": "stdout",
     "output_type": "stream",
     "text": [
      "2\n",
      "5\n"
     ]
    },
    {
     "data": {
      "text/plain": [
       "(None, None)"
      ]
     },
     "execution_count": 9,
     "metadata": {},
     "output_type": "execute_result"
    }
   ],
   "source": [
    "def sum_func(a, b = 0):  # b는 default 값이 0인 parameter\n",
    "    print(a + b)\n",
    "    \n",
    "    \n",
    "sum_func(2), sum_func(2, 3)"
   ]
  },
  {
   "cell_type": "markdown",
   "metadata": {},
   "source": [
    "### 1.4 return\n",
    "- 함수를 호출했을 때 결과를 반환하는 용도로 사용\n",
    "- return data가 있는 함수 & 없는 함수가 있음"
   ]
  },
  {
   "cell_type": "code",
   "execution_count": 11,
   "metadata": {
    "scrolled": true
   },
   "outputs": [
    {
     "data": {
      "text/plain": [
       "3"
      ]
     },
     "execution_count": 11,
     "metadata": {},
     "output_type": "execute_result"
    }
   ],
   "source": [
    "def sum_func(a, b):\n",
    "    return a + b\n",
    "\n",
    "result = sum_func(1, 2)\n",
    "result"
   ]
  },
  {
   "cell_type": "markdown",
   "metadata": {},
   "source": [
    "### 1.5 함수의 형태"
   ]
  },
  {
   "cell_type": "markdown",
   "metadata": {},
   "source": [
    "parameter의 유무, return value의 유무에 따라 함수 형태가 다름\n",
    "\n",
    "\n",
    "   \n",
    "   | - |parameter 없음 | parameter 존재 \n",
    "------------- |------------- | ------------- \n",
    "return value 없음 | 함수 내의 수행문만 수행  | 인자를 사용하여 <br> 수행문 수행\n",
    "return value 존재 | 인자 없이 수행문 수행 후 <br> 결과값 반환 | 인자를 사용하여 <br> 수행문 수행 후 결과값 반환\n",
    "  "
   ]
  },
  {
   "cell_type": "markdown",
   "metadata": {},
   "source": [
    "## 2. Variable-length arguments\n",
    "- 개수가 정해지지 않은 변수를 함수의 parameter로 사용하는 방법\n",
    "- asterisk(`*`): 전부, 모두, all\n",
    "- `*args`: keyword가 없는 argument를 parameter로 받을 때 사용\n",
    "- `**kwargs`: keyword가 있는 argument를 parameter로 받을 때 사용"
   ]
  },
  {
   "cell_type": "markdown",
   "metadata": {},
   "source": [
    "### 2.1 가변인자: `*args`\n",
    "- 가변인자는 일반적으로 `*args`를 변수명으로 사용\n",
    "- 기존 parameter 이후에 나오는 값을 tuple로 저장함\n",
    "- 가변인자는 마지막 parameter 위치에 사용 가능"
   ]
  },
  {
   "cell_type": "code",
   "execution_count": 5,
   "metadata": {},
   "outputs": [
    {
     "data": {
      "text/plain": [
       "15"
      ]
     },
     "execution_count": 5,
     "metadata": {},
     "output_type": "execute_result"
    }
   ],
   "source": [
    "def varlen_test(a, b, *args):\n",
    "    return a + b + sum(args)\n",
    "\n",
    "varlen_test(1, 2, 3, 4, 5)"
   ]
  },
  {
   "cell_type": "code",
   "execution_count": 12,
   "metadata": {},
   "outputs": [
    {
     "name": "stdout",
     "output_type": "stream",
     "text": [
      "(1, 2, 3, 4, 5)\n",
      "<class 'tuple'>\n",
      "3\n"
     ]
    }
   ],
   "source": [
    "def sum_func(*args):\n",
    "    print(args)\n",
    "    print(type(args))\n",
    "    print(args[2])\n",
    "    \n",
    "    \n",
    "sum_func(1, 2, 3, 4, 5) # 묶여서 tuple형태로 들어감"
   ]
  },
  {
   "cell_type": "markdown",
   "metadata": {},
   "source": [
    "### 2.2 키워드 가변인자: `**kwargs`\n",
    "- parameter의 이름을 따로 지정하지 않고 입력하는 방법\n",
    "- asterisk(`*`) 두개를 사용하여 함수의 parameter를 표시함\n",
    "- 입력된 값은 dict type으로 사용할 수 있음\n",
    "- 키워드 가변인자는 오직 한 개만 기존 가변인자(있을 경우) 다음에 사용함 "
   ]
  },
  {
   "cell_type": "code",
   "execution_count": 6,
   "metadata": {},
   "outputs": [
    {
     "name": "stdout",
     "output_type": "stream",
     "text": [
      "42\n",
      "{'first': 3, 'second': 4, 'third': 5}\n"
     ]
    }
   ],
   "source": [
    "def kwargs_test_1(**kwargs): \n",
    "    print(kwargs)\n",
    "\n",
    "def kwargs_test_2(**kwargs): \n",
    "    print(kwargs)\n",
    "    print(\"First value is {first}\".format(**kwargs)) \n",
    "    print(\"Second value is {second}\".format(**kwargs)) \n",
    "    print(\"Third value is {third}\".format(**kwargs))\n",
    "    \n",
    "def kwargs_test_3(one,two, *args, **kwargs): \n",
    "    print(one+two+sum(args))\n",
    "    print(kwargs)\n",
    "\n",
    "    \n",
    "kwargs_test_3(3,4,5,6,7,8,9, first=3, second=4, third=5)"
   ]
  },
  {
   "cell_type": "code",
   "execution_count": 13,
   "metadata": {},
   "outputs": [
    {
     "name": "stdout",
     "output_type": "stream",
     "text": [
      "{'math': 90, 'science': 70}\n",
      "<class 'dict'>\n",
      "90\n"
     ]
    }
   ],
   "source": [
    "def points(**kwargs):\n",
    "    print(kwargs)\n",
    "    print(type(kwargs))\n",
    "    print(kwargs['math'])\n",
    "\n",
    "\n",
    "points(math = 90, science = 70)"
   ]
  },
  {
   "cell_type": "code",
   "execution_count": 14,
   "metadata": {},
   "outputs": [
    {
     "name": "stdout",
     "output_type": "stream",
     "text": [
      "(2, 3)\n",
      "{'num1': 10, 'num2': 20}\n"
     ]
    }
   ],
   "source": [
    "def dss(*args, **kwargs):\n",
    "    print(args)\n",
    "    print(kwargs)\n",
    "    \n",
    "    \n",
    "dss(2, 3, num1 = 10, num2 = 20)"
   ]
  },
  {
   "cell_type": "code",
   "execution_count": 15,
   "metadata": {},
   "outputs": [
    {
     "name": "stdout",
     "output_type": "stream",
     "text": [
      "([1, 2, 3, 4],)\n"
     ]
    }
   ],
   "source": [
    "def dss(*args):\n",
    "    print(args)\n",
    "    \n",
    "ls = [1, 2, 3, 4]\n",
    "dss(ls)              # ls가 *args의 0번째 데이터로 들어감"
   ]
  },
  {
   "cell_type": "markdown",
   "metadata": {},
   "source": [
    "#### argument에 가변인자 사용하기"
   ]
  },
  {
   "cell_type": "code",
   "execution_count": 16,
   "metadata": {},
   "outputs": [
    {
     "name": "stdout",
     "output_type": "stream",
     "text": [
      "(1, 2, 3, 4)\n",
      "<class 'tuple'>\n"
     ]
    }
   ],
   "source": [
    "def dss(*args):\n",
    "    print(args)\n",
    "    print(type(args))\n",
    "    \n",
    "ls = [1, 2, 3, 4]\n",
    "dss(*ls)   # list 가 argument로 하나씩 들어가게 됨"
   ]
  },
  {
   "cell_type": "code",
   "execution_count": 17,
   "metadata": {},
   "outputs": [
    {
     "name": "stdout",
     "output_type": "stream",
     "text": [
      "([1, 2, 3, 4],)\n",
      "<class 'tuple'>\n"
     ]
    }
   ],
   "source": [
    "# 그냥 보낼 경우 args의 0번째 데이터로 보내게 됨\n",
    "dss(ls)"
   ]
  },
  {
   "cell_type": "markdown",
   "metadata": {},
   "source": [
    "## 3. docstring\n",
    "- 함수에 대한 설명을 넣는 것 (함수와 parameter에 관한 설명은 필수)\n",
    "```\n",
    "def dss():\n",
    "    \"description\"\n",
    "    \n",
    "    or\n",
    "    \n",
    "    \"\"\"\n",
    "    description\n",
    "    description\n",
    "    \"\"\"\n",
    "```\n",
    "- PEP 20: The Zen of Python - \"Readability counts\"\n",
    "- PEP 8: Style Guide for Python Code"
   ]
  },
  {
   "cell_type": "code",
   "execution_count": 18,
   "metadata": {},
   "outputs": [
    {
     "name": "stdout",
     "output_type": "stream",
     "text": [
      "The Zen of Python, by Tim Peters\n",
      "\n",
      "Beautiful is better than ugly.\n",
      "Explicit is better than implicit.\n",
      "Simple is better than complex.\n",
      "Complex is better than complicated.\n",
      "Flat is better than nested.\n",
      "Sparse is better than dense.\n",
      "Readability counts.\n",
      "Special cases aren't special enough to break the rules.\n",
      "Although practicality beats purity.\n",
      "Errors should never pass silently.\n",
      "Unless explicitly silenced.\n",
      "In the face of ambiguity, refuse the temptation to guess.\n",
      "There should be one-- and preferably only one --obvious way to do it.\n",
      "Although that way may not be obvious at first unless you're Dutch.\n",
      "Now is better than never.\n",
      "Although never is often better than *right* now.\n",
      "If the implementation is hard to explain, it's a bad idea.\n",
      "If the implementation is easy to explain, it may be a good idea.\n",
      "Namespaces are one honking great idea -- let's do more of those!\n"
     ]
    }
   ],
   "source": [
    "# PEP 20\n",
    "import this"
   ]
  },
  {
   "cell_type": "markdown",
   "metadata": {},
   "source": [
    "#### naming convention - 함수의 경우는 주로 snake case 사용\n",
    "- snake case: first_name       \n",
    "- camel case: firstNameAddrEmail    \n",
    "- pascal case: FirstNameAddrEmail"
   ]
  },
  {
   "cell_type": "code",
   "execution_count": 19,
   "metadata": {},
   "outputs": [],
   "source": [
    "def echo(anything):\n",
    "    'echo returns its input argument'\n",
    "    return anything\n",
    "\n",
    "\n",
    "result1 = echo(\"data_science\")"
   ]
  },
  {
   "cell_type": "code",
   "execution_count": 20,
   "metadata": {},
   "outputs": [
    {
     "data": {
      "text/plain": [
       "\u001b[0;31mSignature:\u001b[0m \u001b[0mecho\u001b[0m\u001b[0;34m(\u001b[0m\u001b[0manything\u001b[0m\u001b[0;34m)\u001b[0m\u001b[0;34m\u001b[0m\u001b[0m\n",
       "\u001b[0;31mDocstring:\u001b[0m echo returns its input argument\n",
       "\u001b[0;31mFile:\u001b[0m      ~/Workspace/Python_Study/<ipython-input-19-387cc7da3925>\n",
       "\u001b[0;31mType:\u001b[0m      function\n"
      ]
     },
     "metadata": {},
     "output_type": "display_data"
    }
   ],
   "source": [
    "echo?"
   ]
  },
  {
   "cell_type": "code",
   "execution_count": 21,
   "metadata": {},
   "outputs": [
    {
     "data": {
      "text/plain": [
       "\u001b[0;31mSignature:\u001b[0m \u001b[0mecho\u001b[0m\u001b[0;34m(\u001b[0m\u001b[0manything\u001b[0m\u001b[0;34m)\u001b[0m\u001b[0;34m\u001b[0m\u001b[0m\n",
       "\u001b[0;31mSource:\u001b[0m   \n",
       "\u001b[0;32mdef\u001b[0m \u001b[0mecho\u001b[0m\u001b[0;34m(\u001b[0m\u001b[0manything\u001b[0m\u001b[0;34m)\u001b[0m\u001b[0;34m:\u001b[0m\u001b[0;34m\u001b[0m\n",
       "\u001b[0;34m\u001b[0m    \u001b[0;34m'echo returns its input argument'\u001b[0m\u001b[0;34m\u001b[0m\n",
       "\u001b[0;34m\u001b[0m    \u001b[0;32mreturn\u001b[0m \u001b[0manything\u001b[0m\u001b[0;34m\u001b[0m\u001b[0m\n",
       "\u001b[0;31mFile:\u001b[0m      ~/Workspace/Python_Study/<ipython-input-19-387cc7da3925>\n",
       "\u001b[0;31mType:\u001b[0m      function\n"
      ]
     },
     "metadata": {},
     "output_type": "display_data"
    }
   ],
   "source": [
    "echo??"
   ]
  },
  {
   "cell_type": "code",
   "execution_count": 22,
   "metadata": {},
   "outputs": [
    {
     "name": "stdout",
     "output_type": "stream",
     "text": [
      "echo2 function : data_science\n"
     ]
    }
   ],
   "source": [
    "def echo2(anything):\n",
    "    \"\"\"\n",
    "    echo returns it's input argument\n",
    "    The operation is:\n",
    "    1. print anything parameter\n",
    "    2. return anything parameter\n",
    "    \"\"\"\n",
    "    print(\"echo2 function : {}\".format(anything))\n",
    "    return anything\n",
    "\n",
    "\n",
    "result2 = echo2(\"data_science\")"
   ]
  },
  {
   "cell_type": "markdown",
   "metadata": {},
   "source": [
    "#### help"
   ]
  },
  {
   "cell_type": "code",
   "execution_count": 23,
   "metadata": {},
   "outputs": [
    {
     "name": "stdout",
     "output_type": "stream",
     "text": [
      "Help on function echo in module __main__:\n",
      "\n",
      "echo(anything)\n",
      "    echo returns its input argument\n",
      "\n"
     ]
    }
   ],
   "source": [
    "help(echo)"
   ]
  },
  {
   "cell_type": "code",
   "execution_count": 24,
   "metadata": {},
   "outputs": [
    {
     "data": {
      "text/plain": [
       "\u001b[0;31mDocstring:\u001b[0m\n",
       "print(value, ..., sep=' ', end='\\n', file=sys.stdout, flush=False)\n",
       "\n",
       "Prints the values to a stream, or to sys.stdout by default.\n",
       "Optional keyword arguments:\n",
       "file:  a file-like object (stream); defaults to the current sys.stdout.\n",
       "sep:   string inserted between values, default a space.\n",
       "end:   string appended after the last value, default a newline.\n",
       "flush: whether to forcibly flush the stream.\n",
       "\u001b[0;31mType:\u001b[0m      builtin_function_or_method\n"
      ]
     },
     "metadata": {},
     "output_type": "display_data"
    }
   ],
   "source": [
    "print?"
   ]
  },
  {
   "cell_type": "markdown",
   "metadata": {},
   "source": [
    "#### 참고자료\n",
    "- 패스트캠퍼스, ⟪데이터사이언스스쿨 8기⟫ 수업자료\n",
    "- 인프런, ⟪프로그래밍, 데이터 과학을 위한 파이썬 입문⟫ 수업 자료"
   ]
  }
 ],
 "metadata": {
  "kernelspec": {
   "display_name": "Python 3",
   "language": "python",
   "name": "python3"
  },
  "language_info": {
   "codemirror_mode": {
    "name": "ipython",
    "version": 3
   },
   "file_extension": ".py",
   "mimetype": "text/x-python",
   "name": "python",
   "nbconvert_exporter": "python",
   "pygments_lexer": "ipython3",
   "version": "3.7.4"
  }
 },
 "nbformat": 4,
 "nbformat_minor": 4
}
