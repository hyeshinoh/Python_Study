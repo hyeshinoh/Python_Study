{
 "cells": [
  {
   "cell_type": "markdown",
   "metadata": {},
   "source": [
    "## OS & shutil\n",
    "OS와 shutil 두 가지 라이브러리를 통해 파이썬으로 파일과 폴더와 관련된 작업들을 할 수 있다.\n",
    "- OS: 운영체제와 관련된 함수와 클래스를 제공하는 라이브러리로 파일, 폴더와 관련된 함수와 클래스 제공\n",
    "- shutil: 파일, 폴더와 관련된 함수와 클래스를 제공하는 라이브러리\n",
    "- 두 라이브러리 모두 파이썬에 기본으로 포함되어 있어 따로 설치할 필요는 없음"
   ]
  },
  {
   "cell_type": "code",
   "execution_count": 1,
   "metadata": {},
   "outputs": [],
   "source": [
    "import os\n",
    "import shutil"
   ]
  },
  {
   "cell_type": "markdown",
   "metadata": {},
   "source": [
    "### **1. 폴더 만들기**"
   ]
  },
  {
   "cell_type": "markdown",
   "metadata": {},
   "source": [
    "#### 1.1 현재 디렉토리와 파일 리스트 확인"
   ]
  },
  {
   "cell_type": "code",
   "execution_count": 2,
   "metadata": {},
   "outputs": [
    {
     "data": {
      "text/plain": [
       "'D:\\\\Workspace\\\\Study_Python'"
      ]
     },
     "execution_count": 2,
     "metadata": {},
     "output_type": "execute_result"
    },
    {
     "name": "stdout",
     "output_type": "stream",
     "text": [
      "LICENSE\n",
      "python_01_basic_syntax.ipynb\n",
      "python_02_condition & loop.ipynb\n",
      "python_03_function_basic.ipynb\n",
      "python_04_function_intermediate.ipynb\n",
      "python_05_class_basic.ipynb\n",
      "python_06_class_intermediate.ipynb\n",
      "python_07_module & package.ipynb\n",
      "python_08_file & pickle.ipynb\n",
      "python_09_OS.ipynb\n",
      "python_10_try & except.ipynb\n",
      "python_11_regex.ipynb\n",
      "README.md\n"
     ]
    }
   ],
   "source": [
    "os.getcwd()\n",
    "!ls"
   ]
  },
  {
   "cell_type": "markdown",
   "metadata": {},
   "source": [
    "#### 1.2 폴더 만들기\n",
    "- `os.makedirs()`"
   ]
  },
  {
   "cell_type": "code",
   "execution_count": 3,
   "metadata": {},
   "outputs": [
    {
     "name": "stdout",
     "output_type": "stream",
     "text": [
      "LICENSE\n",
      "os_dir\n",
      "python_01_basic_syntax.ipynb\n",
      "python_02_condition & loop.ipynb\n",
      "python_03_function_basic.ipynb\n",
      "python_04_function_intermediate.ipynb\n",
      "python_05_class_basic.ipynb\n",
      "python_06_class_intermediate.ipynb\n",
      "python_07_module & package.ipynb\n",
      "python_08_file & pickle.ipynb\n",
      "python_09_OS.ipynb\n",
      "python_10_try & except.ipynb\n",
      "python_11_regex.ipynb\n",
      "README.md\n"
     ]
    }
   ],
   "source": [
    "os.makedirs(\"os_dir\")\n",
    "!ls"
   ]
  },
  {
   "cell_type": "markdown",
   "metadata": {},
   "source": [
    "#### 1.3 만들려는 폴더가 이미 존재하는지 확인하고 없으면 생성하기\n",
    "- os.path.isdir()"
   ]
  },
  {
   "cell_type": "code",
   "execution_count": 4,
   "metadata": {},
   "outputs": [],
   "source": [
    "def make_dir(name):\n",
    "    if not os.path.isdir(name):\n",
    "        os.makedirs(name)\n",
    "        print(name, \"폴더가 생성되었습니다.\")\n",
    "    else:\n",
    "        print(\"해당 폴더가 이미 존재합니다.\")\n",
    "    !ls"
   ]
  },
  {
   "cell_type": "code",
   "execution_count": 5,
   "metadata": {},
   "outputs": [
    {
     "name": "stdout",
     "output_type": "stream",
     "text": [
      "해당 폴더가 이미 존재합니다.\n",
      "LICENSE\n",
      "os_dir\n",
      "python_01_basic_syntax.ipynb\n",
      "python_02_condition & loop.ipynb\n",
      "python_03_function_basic.ipynb\n",
      "python_04_function_intermediate.ipynb\n",
      "python_05_class_basic.ipynb\n",
      "python_06_class_intermediate.ipynb\n",
      "python_07_module & package.ipynb\n",
      "python_08_file & pickle.ipynb\n",
      "python_09_OS.ipynb\n",
      "python_10_try & except.ipynb\n",
      "python_11_regex.ipynb\n",
      "README.md\n"
     ]
    }
   ],
   "source": [
    "make_dir(\"os_dir\")"
   ]
  },
  {
   "cell_type": "code",
   "execution_count": 6,
   "metadata": {},
   "outputs": [
    {
     "name": "stdout",
     "output_type": "stream",
     "text": [
      "os_dir2 폴더가 생성되었습니다.\n",
      "LICENSE\n",
      "os_dir\n",
      "os_dir2\n",
      "python_01_basic_syntax.ipynb\n",
      "python_02_condition & loop.ipynb\n",
      "python_03_function_basic.ipynb\n",
      "python_04_function_intermediate.ipynb\n",
      "python_05_class_basic.ipynb\n",
      "python_06_class_intermediate.ipynb\n",
      "python_07_module & package.ipynb\n",
      "python_08_file & pickle.ipynb\n",
      "python_09_OS.ipynb\n",
      "python_10_try & except.ipynb\n",
      "python_11_regex.ipynb\n",
      "README.md\n"
     ]
    }
   ],
   "source": [
    "make_dir(\"os_dir2\")"
   ]
  },
  {
   "cell_type": "markdown",
   "metadata": {},
   "source": [
    "### **2. 파일 쓰기**"
   ]
  },
  {
   "cell_type": "code",
   "execution_count": 9,
   "metadata": {},
   "outputs": [
    {
     "data": {
      "text/plain": [
       "12"
      ]
     },
     "execution_count": 9,
     "metadata": {},
     "output_type": "execute_result"
    },
    {
     "data": {
      "text/plain": [
       "13"
      ]
     },
     "execution_count": 9,
     "metadata": {},
     "output_type": "execute_result"
    },
    {
     "data": {
      "text/plain": [
       "13"
      ]
     },
     "execution_count": 9,
     "metadata": {},
     "output_type": "execute_result"
    }
   ],
   "source": [
    "s1 = \"data science\"\n",
    "with open(\"os_dir/test1.txt\", \"wt\") as f:\n",
    "    f.write(s1)\n",
    "\n",
    "s2 = \"data science2\"\n",
    "with open(\"os_dir/test2.txt\", \"wt\") as f:\n",
    "    f.write(s2)\n",
    "\n",
    "s3 = \"data science3\"\n",
    "with open(\"os_dir/test3.csv\", \"wt\") as f:\n",
    "    f.write(s3)"
   ]
  },
  {
   "cell_type": "markdown",
   "metadata": {},
   "source": [
    "### **3. 파일 리스트 읽기**"
   ]
  },
  {
   "cell_type": "markdown",
   "metadata": {},
   "source": [
    "- `os.listdir()`: 경로를 입력하면 경로 안의 파일 목록을 리스트로 반환"
   ]
  },
  {
   "cell_type": "code",
   "execution_count": 11,
   "metadata": {},
   "outputs": [
    {
     "data": {
      "text/plain": [
       "['test1.txt', 'test2.txt', 'test3.csv']"
      ]
     },
     "execution_count": 11,
     "metadata": {},
     "output_type": "execute_result"
    }
   ],
   "source": [
    "files = os.listdir(\"os_dir\")\n",
    "files"
   ]
  },
  {
   "cell_type": "markdown",
   "metadata": {},
   "source": [
    "- txt 파일만 파일 리스트 출력하기"
   ]
  },
  {
   "cell_type": "code",
   "execution_count": 12,
   "metadata": {},
   "outputs": [
    {
     "data": {
      "text/plain": [
       "['test1.txt', 'test2.txt']"
      ]
     },
     "execution_count": 12,
     "metadata": {},
     "output_type": "execute_result"
    }
   ],
   "source": [
    "txt_files = [file for file in files if file.endswith(\".txt\")]\n",
    "txt_files"
   ]
  },
  {
   "cell_type": "markdown",
   "metadata": {},
   "source": [
    "- txt 파일이 아닌 파일 리스트만 출력하기"
   ]
  },
  {
   "cell_type": "code",
   "execution_count": 13,
   "metadata": {},
   "outputs": [
    {
     "data": {
      "text/plain": [
       "['test3.csv']"
      ]
     },
     "execution_count": 13,
     "metadata": {},
     "output_type": "execute_result"
    }
   ],
   "source": [
    "ntxt_files = [file for file in files if not file.endswith(\".txt\")]\n",
    "ntxt_files"
   ]
  },
  {
   "cell_type": "markdown",
   "metadata": {},
   "source": [
    "### **4. 파일 및 폴더 존재 여부 확인**"
   ]
  },
  {
   "cell_type": "code",
   "execution_count": 14,
   "metadata": {},
   "outputs": [
    {
     "data": {
      "text/plain": [
       "True"
      ]
     },
     "execution_count": 14,
     "metadata": {},
     "output_type": "execute_result"
    },
    {
     "data": {
      "text/plain": [
       "False"
      ]
     },
     "execution_count": 14,
     "metadata": {},
     "output_type": "execute_result"
    }
   ],
   "source": [
    "os.path.exists(\"os_dir/test1.txt\")\n",
    "os.path.exists(\"os_dir3\")"
   ]
  },
  {
   "cell_type": "markdown",
   "metadata": {},
   "source": [
    "### **5. 파일 및 폴더 타입 확인**\n",
    "- `os.path.isfile()`\n",
    "- `os.path.isdir()`"
   ]
  },
  {
   "cell_type": "code",
   "execution_count": 15,
   "metadata": {},
   "outputs": [
    {
     "data": {
      "text/plain": [
       "(True, False)"
      ]
     },
     "execution_count": 15,
     "metadata": {},
     "output_type": "execute_result"
    },
    {
     "data": {
      "text/plain": [
       "(False, True)"
      ]
     },
     "execution_count": 15,
     "metadata": {},
     "output_type": "execute_result"
    }
   ],
   "source": [
    "os.path.isdir(\"os_dir\"), os.path.isfile(\"os_dir\")\n",
    "os.path.isdir(\"os_dir/test1.txt\"), os.path.isfile(\"os_dir/test1.txt\")"
   ]
  },
  {
   "cell_type": "markdown",
   "metadata": {},
   "source": [
    "### **6. 파일 및 폴더 복사하기**\n",
    "- `shutil.copy(원본 경로, 대상 경로)`\n",
    "- `shutil.copyfile(원본 파일 경로, 대상 파일 경로)`: 원본이 파일이 아니라 폴더이면 에러 발생\n",
    "- `shutil.copytree(원본 폴더 경로, 대상 폴더 경로)`: 원본이 폴더가 아니라 파일이면 에러 발생"
   ]
  },
  {
   "cell_type": "code",
   "execution_count": 16,
   "metadata": {},
   "outputs": [
    {
     "data": {
      "text/plain": [
       "'os_dir/copy1.txt'"
      ]
     },
     "execution_count": 16,
     "metadata": {},
     "output_type": "execute_result"
    },
    {
     "data": {
      "text/plain": [
       "'os_dir/copy2.txt'"
      ]
     },
     "execution_count": 16,
     "metadata": {},
     "output_type": "execute_result"
    },
    {
     "data": {
      "text/plain": [
       "['copy1.txt', 'copy2.txt', 'test1.txt', 'test2.txt', 'test3.csv']"
      ]
     },
     "execution_count": 16,
     "metadata": {},
     "output_type": "execute_result"
    }
   ],
   "source": [
    "shutil.copy(\"os_dir/test1.txt\", \"os_dir/copy1.txt\")\n",
    "shutil.copyfile(\"os_dir/test1.txt\", \"os_dir/copy2.txt\")\n",
    "os.listdir(\"os_dir\")"
   ]
  },
  {
   "cell_type": "code",
   "execution_count": 17,
   "metadata": {},
   "outputs": [
    {
     "data": {
      "text/plain": [
       "'os_dir_copy'"
      ]
     },
     "execution_count": 17,
     "metadata": {},
     "output_type": "execute_result"
    },
    {
     "name": "stdout",
     "output_type": "stream",
     "text": [
      "LICENSE\n",
      "os_dir\n",
      "os_dir_copy\n",
      "os_dir2\n",
      "python_01_basic_syntax.ipynb\n",
      "python_02_condition & loop.ipynb\n",
      "python_03_function_basic.ipynb\n",
      "python_04_function_intermediate.ipynb\n",
      "python_05_class_basic.ipynb\n",
      "python_06_class_intermediate.ipynb\n",
      "python_07_module & package.ipynb\n",
      "python_08_file & pickle.ipynb\n",
      "python_09_OS.ipynb\n",
      "python_10_try & except.ipynb\n",
      "python_11_regex.ipynb\n",
      "README.md\n"
     ]
    }
   ],
   "source": [
    "shutil.copytree(\"os_dir\", \"os_dir_copy\")\n",
    "!ls"
   ]
  },
  {
   "cell_type": "markdown",
   "metadata": {},
   "source": [
    "### **7. 이름 바꾸기**\n",
    "- `os.rename(기존 파일명, 새로운 파일명)`"
   ]
  },
  {
   "cell_type": "code",
   "execution_count": 18,
   "metadata": {},
   "outputs": [
    {
     "data": {
      "text/plain": [
       "['copy2.txt', 'renamed.txt', 'test1.txt', 'test2.txt', 'test3.csv']"
      ]
     },
     "execution_count": 18,
     "metadata": {},
     "output_type": "execute_result"
    }
   ],
   "source": [
    "os.rename(\"os_dir/copy1.txt\", \"os_dir/renamed.txt\")\n",
    "os.listdir(\"os_dir\")"
   ]
  },
  {
   "cell_type": "markdown",
   "metadata": {},
   "source": [
    "### **8. 파일 및 폴더 삭제**"
   ]
  },
  {
   "cell_type": "markdown",
   "metadata": {},
   "source": [
    "#### 8.1 파일 삭제"
   ]
  },
  {
   "cell_type": "code",
   "execution_count": 19,
   "metadata": {},
   "outputs": [
    {
     "data": {
      "text/plain": [
       "['copy2.txt', 'renamed.txt', 'test1.txt', 'test2.txt']"
      ]
     },
     "execution_count": 19,
     "metadata": {},
     "output_type": "execute_result"
    }
   ],
   "source": [
    "os.remove(\"os_dir/test3.csv\")\n",
    "os.listdir(\"os_dir\")"
   ]
  },
  {
   "cell_type": "markdown",
   "metadata": {},
   "source": [
    "#### 8.2 폴더 삭제\n",
    "- `os.removedirs()`: 폴더 안에 파일이 있으면 삭제되지 않음\n",
    "- `shutil.rmtree()`: 폴더 안에 파일이 있어도 삭제 가능"
   ]
  },
  {
   "cell_type": "code",
   "execution_count": 20,
   "metadata": {},
   "outputs": [
    {
     "ename": "OSError",
     "evalue": "[WinError 145] 디렉터리가 비어 있지 않습니다: 'os_dir'",
     "output_type": "error",
     "traceback": [
      "\u001b[1;31m---------------------------------------------------------------------------\u001b[0m",
      "\u001b[1;31mOSError\u001b[0m                                   Traceback (most recent call last)",
      "\u001b[1;32m<ipython-input-20-b28c6d42127c>\u001b[0m in \u001b[0;36m<module>\u001b[1;34m\u001b[0m\n\u001b[1;32m----> 1\u001b[1;33m \u001b[0mos\u001b[0m\u001b[1;33m.\u001b[0m\u001b[0mremovedirs\u001b[0m\u001b[1;33m(\u001b[0m\u001b[1;34m\"os_dir\"\u001b[0m\u001b[1;33m)\u001b[0m\u001b[1;33m\u001b[0m\u001b[1;33m\u001b[0m\u001b[0m\n\u001b[0m",
      "\u001b[1;32m~\\Anaconda3\\lib\\os.py\u001b[0m in \u001b[0;36mremovedirs\u001b[1;34m(name)\u001b[0m\n\u001b[0;32m    236\u001b[0m \u001b[1;33m\u001b[0m\u001b[0m\n\u001b[0;32m    237\u001b[0m     \"\"\"\n\u001b[1;32m--> 238\u001b[1;33m     \u001b[0mrmdir\u001b[0m\u001b[1;33m(\u001b[0m\u001b[0mname\u001b[0m\u001b[1;33m)\u001b[0m\u001b[1;33m\u001b[0m\u001b[1;33m\u001b[0m\u001b[0m\n\u001b[0m\u001b[0;32m    239\u001b[0m     \u001b[0mhead\u001b[0m\u001b[1;33m,\u001b[0m \u001b[0mtail\u001b[0m \u001b[1;33m=\u001b[0m \u001b[0mpath\u001b[0m\u001b[1;33m.\u001b[0m\u001b[0msplit\u001b[0m\u001b[1;33m(\u001b[0m\u001b[0mname\u001b[0m\u001b[1;33m)\u001b[0m\u001b[1;33m\u001b[0m\u001b[1;33m\u001b[0m\u001b[0m\n\u001b[0;32m    240\u001b[0m     \u001b[1;32mif\u001b[0m \u001b[1;32mnot\u001b[0m \u001b[0mtail\u001b[0m\u001b[1;33m:\u001b[0m\u001b[1;33m\u001b[0m\u001b[1;33m\u001b[0m\u001b[0m\n",
      "\u001b[1;31mOSError\u001b[0m: [WinError 145] 디렉터리가 비어 있지 않습니다: 'os_dir'"
     ]
    }
   ],
   "source": [
    "os.removedirs(\"os_dir\")"
   ]
  },
  {
   "cell_type": "code",
   "execution_count": 21,
   "metadata": {},
   "outputs": [],
   "source": [
    "os.removedirs(\"os_dir2\")"
   ]
  },
  {
   "cell_type": "code",
   "execution_count": 22,
   "metadata": {},
   "outputs": [
    {
     "name": "stdout",
     "output_type": "stream",
     "text": [
      "LICENSE\n",
      "os_dir_copy\n",
      "python_01_basic_syntax.ipynb\n",
      "python_02_condition & loop.ipynb\n",
      "python_03_function_basic.ipynb\n",
      "python_04_function_intermediate.ipynb\n",
      "python_05_class_basic.ipynb\n",
      "python_06_class_intermediate.ipynb\n",
      "python_07_module & package.ipynb\n",
      "python_08_file & pickle.ipynb\n",
      "python_09_OS.ipynb\n",
      "python_10_try & except.ipynb\n",
      "python_11_regex.ipynb\n",
      "README.md\n"
     ]
    }
   ],
   "source": [
    "shutil.rmtree(\"os_dir\")\n",
    "!ls"
   ]
  },
  {
   "cell_type": "markdown",
   "metadata": {},
   "source": [
    "### **9. 권한설정**\n",
    "\n",
    "#### 9.1 권한 설정 이해\n",
    "- 10자리의 문자로 되어 있음 (e.g. `-rw-r--r--`)\n",
    "    - [:1]: type (\"-\" 파일, \"d\" 디렉토리)\n",
    "    - [1:4]: 소유자의 권한\n",
    "    - [4:7]: 그룹에 대한 권한\n",
    "    - [7:]: 모든 사용자에 대한 권한\n",
    "- 소유자/그룹/모든 사용자의 권한은 rwx로 나뉨\n",
    "    - rwx: r(읽기), w(쓰기), x(실행)\n",
    "    - rwx 각 권한이 있으면 1, 없으면 0의 2진수로 표시 ⇒ 3자리의 2진수를 8진수로 변환\n",
    "        - rwx: 111(2진수) → 7(8진수)\n",
    "        - r--: 100(2진수) → 4(8진수) \n",
    "        - -wx: 011(2진수) → 3(8진수)"
   ]
  },
  {
   "cell_type": "markdown",
   "metadata": {},
   "source": [
    "#### 9.2 권한 설정 실습\n",
    "- `os.chmod(파일경로, 권한)`"
   ]
  },
  {
   "cell_type": "markdown",
   "metadata": {},
   "source": [
    "##### 1) 모든 사용자가 read권한만 갖도록 설정: `-r--r--r--`\n",
    "각 사용자의 권한은 `r--`, 즉 2진수 '100'임 → 8진수 '4'로 변환됨"
   ]
  },
  {
   "cell_type": "code",
   "execution_count": 25,
   "metadata": {},
   "outputs": [],
   "source": [
    "os.chmod(\"os_dir_copy/test1.txt\", 0o444)"
   ]
  },
  {
   "cell_type": "markdown",
   "metadata": {},
   "source": [
    "##### 2) 파일소유자가 작성권한을 갖도록: `-rw-r--r--`\n",
    "파일소유자의 권한은 `rw-`, 즉 2진수 '110' → 8진수 '6'로 변환됨"
   ]
  },
  {
   "cell_type": "code",
   "execution_count": 26,
   "metadata": {},
   "outputs": [],
   "source": [
    "os.chmod(\"os_dir_copy/test1.txt\", 0o644)"
   ]
  },
  {
   "cell_type": "markdown",
   "metadata": {},
   "source": [
    "##### 3) 모든 권한 제거: `----------`  \n",
    "각 사용자의 권한은 `---`, 즉 2진수 '000' → 8진수 '0'으로 변환됨"
   ]
  },
  {
   "cell_type": "code",
   "execution_count": 27,
   "metadata": {},
   "outputs": [],
   "source": [
    "os.chmod(\"os_dir_copy/test1.txt\", 0o000)"
   ]
  },
  {
   "cell_type": "markdown",
   "metadata": {},
   "source": [
    "#### 참고자료\n",
    "- 패스트캠퍼스, ⟪데이터사이언스스쿨 8기⟫ 수업자료\n",
    "- 이태화, ⟪일잘하는 평사원의 업무자동화⟫ "
   ]
  }
 ],
 "metadata": {
  "kernelspec": {
   "display_name": "Python 3",
   "language": "python",
   "name": "python3"
  },
  "language_info": {
   "codemirror_mode": {
    "name": "ipython",
    "version": 3
   },
   "file_extension": ".py",
   "mimetype": "text/x-python",
   "name": "python",
   "nbconvert_exporter": "python",
   "pygments_lexer": "ipython3",
   "version": "3.7.4"
  }
 },
 "nbformat": 4,
 "nbformat_minor": 4
}
