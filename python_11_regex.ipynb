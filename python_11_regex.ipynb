{
 "cells": [
  {
   "cell_type": "markdown",
   "metadata": {},
   "source": [
    "# **정규표현식**\n",
    "- 특정 패턴을 이용해 문자열을 처리하는 방법\n",
    "- 호불호가 있지만 강사님은 필요시에만 사용하는 것이 좋다고 생각함\n",
    "    - 작성하면서 실수하기도 쉽고, 이해하는데도 가독성이 떨어짐\n",
    "    - 문자열 함수를 쓰는 것이 가독성이 더 좋음"
   ]
  },
  {
   "cell_type": "markdown",
   "metadata": {},
   "source": [
    "## 다룰 내용\n",
    "\n",
    "1. 정규표현식 함수\n",
    "    - match: 문자열의 가장 앞에서 일치하는 패턴을 찾기\n",
    "    - search: 문자열에서 가장 첫번째로 일치하는 패턴 찾기\n",
    "    - findall: 일치하는 패턴을 모두 찾기\n",
    "    - split: 문자열을 특정 패턴으로 나누기\n",
    "    - sub: 특정 패턴에 맞는 문자열을 대체하기\n",
    "2. Pattern\n",
    "3. Examples\n",
    "    - e.g. 중고나라 전화번호 01o일이삼3구칠82 → (정규표현식 패턴 + sub) → 01012339782"
   ]
  },
  {
   "cell_type": "code",
   "execution_count": 1,
   "metadata": {},
   "outputs": [],
   "source": [
    "import re"
   ]
  },
  {
   "cell_type": "markdown",
   "metadata": {},
   "source": [
    "## **1. 함수**"
   ]
  },
  {
   "cell_type": "markdown",
   "metadata": {},
   "source": [
    "### 1.1 match\n",
    "- 문자열의 **가장 앞**(시작)에서부터 일치하는 패턴 찾기\n",
    "- `re.match(패턴, 문자열)`"
   ]
  },
  {
   "cell_type": "code",
   "execution_count": 2,
   "metadata": {},
   "outputs": [],
   "source": [
    "s = \"fast campus datascience fighitng. datascience fighting. fast campus fighting.\""
   ]
  },
  {
   "cell_type": "code",
   "execution_count": 3,
   "metadata": {},
   "outputs": [
    {
     "name": "stdout",
     "output_type": "stream",
     "text": [
      "result1: <_sre.SRE_Match object; span=(0, 4), match='fast'>\n",
      "result2: None\n"
     ]
    }
   ],
   "source": [
    "result1 = re.match(\"fast\", s)       \n",
    "result2 = re.match(\"campus\", s)     \n",
    "print(\"result1:\", result1)\n",
    "print(\"result2:\", result2)"
   ]
  },
  {
   "cell_type": "markdown",
   "metadata": {},
   "source": [
    "### 1.2 search\n",
    "- 문자열에서 **가장 첫번째로** 일치하는 패턴 찾기 (일치하는 것 중 첫번째만)\n",
    "- `re.search(패턴, 문자열)`"
   ]
  },
  {
   "cell_type": "code",
   "execution_count": 4,
   "metadata": {},
   "outputs": [
    {
     "name": "stdout",
     "output_type": "stream",
     "text": [
      "result3: <_sre.SRE_Match object; span=(0, 4), match='fast'>\n",
      "result4: <_sre.SRE_Match object; span=(5, 11), match='campus'>\n"
     ]
    }
   ],
   "source": [
    "result3 = re.search(\"fast\", s)  \n",
    "result4 = re.search(\"campus\", s) \n",
    "print(\"result3:\", result3)\n",
    "print(\"result4:\", result4)"
   ]
  },
  {
   "cell_type": "markdown",
   "metadata": {},
   "source": [
    "### 1.3 findall\n",
    "- 일치하는 패턴을 모두 찾아서 리스트로 돌려줌\n",
    "- 가장 많이 사용하게됨\n",
    "- `re.findall(패턴, 문자열)`"
   ]
  },
  {
   "cell_type": "code",
   "execution_count": 5,
   "metadata": {},
   "outputs": [
    {
     "name": "stdout",
     "output_type": "stream",
     "text": [
      "result5: ['fast', 'fast'] 2\n",
      "result6: ['campus', 'campus'] 2\n"
     ]
    }
   ],
   "source": [
    "result5 = re.findall(\"fast\", s)    \n",
    "result6 = re.findall(\"campus\", s)     \n",
    "print(\"result5:\", result5, len(result5))\n",
    "print(\"result6:\", result6, len(result6))"
   ]
  },
  {
   "cell_type": "markdown",
   "metadata": {},
   "source": [
    "### 1.4 split\n",
    "- 패턴을 기준으로 문자열을 나눠서 리스트로 만들어 줌\n",
    "- `re.split(패턴, 문자열)`\n",
    "- 여러가지 문자로 나누고 싶을 때\n",
    "    - `string.split()`은 chaining을 이용해 여러 번 함수를 호출해야함\n",
    "    - regex는 패턴을 이용해서 함수를 한번만 호출해도 됨"
   ]
  },
  {
   "cell_type": "code",
   "execution_count": 6,
   "metadata": {},
   "outputs": [
    {
     "data": {
      "text/plain": [
       "['fast campus datasc', 'ence f', 'ght', 'ng!']"
      ]
     },
     "execution_count": 6,
     "metadata": {},
     "output_type": "execute_result"
    }
   ],
   "source": [
    "s1 = \"fast campus datascience fighting!\"\n",
    "result = re.split(\"i\", s1)\n",
    "result"
   ]
  },
  {
   "cell_type": "markdown",
   "metadata": {},
   "source": [
    "### 1.5 sub\n",
    "- 일치하는 패턴을 대체\n",
    "- `re.sub(패턴, 바꿀 문자, (전체)문자열)`"
   ]
  },
  {
   "cell_type": "code",
   "execution_count": 7,
   "metadata": {},
   "outputs": [
    {
     "name": "stdout",
     "output_type": "stream",
     "text": [
      "fast campus datascience fighitng. datascience fighting. fast campus fighting.\n"
     ]
    },
    {
     "data": {
      "text/plain": [
       "'slow campus datascience fighitng. datascience fighting. slow campus fighting.'"
      ]
     },
     "execution_count": 7,
     "metadata": {},
     "output_type": "execute_result"
    }
   ],
   "source": [
    "print(s)\n",
    "re.sub(\"fast\",\"slow\", s)"
   ]
  },
  {
   "cell_type": "markdown",
   "metadata": {},
   "source": [
    "## **2. Pattern**\n",
    "- 문자: 숫자인지 문자인지 특수문자인지 등을 구분\n",
    "- 지정자: '범위가 몇회 반복' 같은 패턴을 구분"
   ]
  },
  {
   "cell_type": "markdown",
   "metadata": {},
   "source": [
    "### 2.1 문자\n",
    "- `\\d` & `\\D`: 숫자와 비숫자를 찾는 패턴\n",
    "- `\\w` & `\\W` : 숫자, 문자, _  & 숫자, 문자, _ 제외\n",
    "- `\\s` & `\\S`: 공백문자 & 비공백문자 "
   ]
  },
  {
   "cell_type": "code",
   "execution_count": 8,
   "metadata": {},
   "outputs": [],
   "source": [
    "import string"
   ]
  },
  {
   "cell_type": "code",
   "execution_count": 13,
   "metadata": {},
   "outputs": [
    {
     "name": "stdout",
     "output_type": "stream",
     "text": [
      "100\n"
     ]
    },
    {
     "data": {
      "text/plain": [
       "'0123456789abcdefghijklmnopqrstuvwxyzABCDEFGHIJKLMNOPQRSTUVWXYZ!\"#$%&\\'()*+,-./:;<=>?@[\\\\]^_`{|}~ \\t\\n\\r\\x0b\\x0c'"
      ]
     },
     "execution_count": 13,
     "metadata": {},
     "output_type": "execute_result"
    }
   ],
   "source": [
    "# string.printable: 사용가능한 모든 문자\n",
    "pt = string.printable\n",
    "print(len(pt))\n",
    "pt"
   ]
  },
  {
   "cell_type": "markdown",
   "metadata": {},
   "source": [
    "#### (1) `\\d` & `\\D`: 숫자와 비숫자를 찾는 패턴"
   ]
  },
  {
   "cell_type": "code",
   "execution_count": 14,
   "metadata": {},
   "outputs": [
    {
     "data": {
      "text/plain": [
       "['0', '1', '2', '3', '4', '5', '6', '7', '8', '9']"
      ]
     },
     "execution_count": 14,
     "metadata": {},
     "output_type": "execute_result"
    }
   ],
   "source": [
    "result = re.findall(\"\\d\", pt)   # '\\d'라는 패턴을 findall 함수에 넣어줌\n",
    "result"
   ]
  },
  {
   "cell_type": "code",
   "execution_count": 15,
   "metadata": {},
   "outputs": [
    {
     "data": {
      "text/plain": [
       "'abcdefghijklmnopqrstuvwxyzABCDEFGHIJKLMNOPQRSTUVWXYZ!\"#$%&\\'()*+,-./:;<=>?@[\\\\]^_`{|}~ \\t\\n\\r\\x0b\\x0c'"
      ]
     },
     "execution_count": 15,
     "metadata": {},
     "output_type": "execute_result"
    }
   ],
   "source": [
    "result = re.findall(\"\\D\", pt)\n",
    "''.join(result)"
   ]
  },
  {
   "cell_type": "markdown",
   "metadata": {},
   "source": [
    "#### (2) `\\w` & `\\W` : 숫자, 문자, _  & 숫자, 문자, _ 제외\n",
    "- 숫자, 문자, _ : 식별자로 사용할 수 있는 문자"
   ]
  },
  {
   "cell_type": "code",
   "execution_count": 16,
   "metadata": {},
   "outputs": [
    {
     "data": {
      "text/plain": [
       "'0123456789abcdefghijklmnopqrstuvwxyzABCDEFGHIJKLMNOPQRSTUVWXYZ_'"
      ]
     },
     "execution_count": 16,
     "metadata": {},
     "output_type": "execute_result"
    }
   ],
   "source": [
    "result = re.findall(\"\\w\", pt)\n",
    "''.join(result)"
   ]
  },
  {
   "cell_type": "code",
   "execution_count": 17,
   "metadata": {},
   "outputs": [
    {
     "data": {
      "text/plain": [
       "'!\"#$%&\\'()*+,-./:;<=>?@[\\\\]^`{|}~ \\t\\n\\r\\x0b\\x0c'"
      ]
     },
     "execution_count": 17,
     "metadata": {},
     "output_type": "execute_result"
    }
   ],
   "source": [
    "result = re.findall(\"\\W\", pt)\n",
    "''.join(result)"
   ]
  },
  {
   "cell_type": "markdown",
   "metadata": {},
   "source": [
    "#### (3) `\\s` & `\\S`: 공백문자 & 비공백문자 \n",
    "- 공백문자: 문자의 공백을 다 지우고 싶으면 이 패턴을 활용해서 sub 함수를 쓰면 됨"
   ]
  },
  {
   "cell_type": "code",
   "execution_count": 19,
   "metadata": {},
   "outputs": [
    {
     "data": {
      "text/plain": [
       "' \\t\\n\\r\\x0b\\x0c'"
      ]
     },
     "execution_count": 19,
     "metadata": {},
     "output_type": "execute_result"
    }
   ],
   "source": [
    "result = re.findall(\"\\s\", pt)\n",
    "''.join(result)"
   ]
  },
  {
   "cell_type": "code",
   "execution_count": 18,
   "metadata": {},
   "outputs": [
    {
     "data": {
      "text/plain": [
       "'0123456789abcdefghijklmnopqrstuvwxyzABCDEFGHIJKLMNOPQRSTUVWXYZ!\"#$%&\\'()*+,-./:;<=>?@[\\\\]^_`{|}~'"
      ]
     },
     "execution_count": 18,
     "metadata": {},
     "output_type": "execute_result"
    }
   ],
   "source": [
    "result = re.findall(\"\\S\", pt)\n",
    "''.join(result)"
   ]
  },
  {
   "cell_type": "markdown",
   "metadata": {},
   "source": [
    "### 2.2 지정자\n",
    "지정자의 활용이 정규표현식의 핵심이라 할 수 있음!\n",
    "- `[]`: 문자\n",
    "- `-`: 범위\n",
    "- `.`: 하나의 문자\n",
    "- `?`: 0회 또는 1회 반복\n",
    "- `*`: 0회 이상 반복\n",
    "- `+`: 1회 이상 반복\n",
    "- `{m,n}`: m~n회 반복\n",
    "- `()`: 그룹핑 "
   ]
  },
  {
   "cell_type": "markdown",
   "metadata": {},
   "source": [
    "#### (1) `[]`: 문자 - 괄호 안의 각각의 문자"
   ]
  },
  {
   "cell_type": "code",
   "execution_count": 20,
   "metadata": {},
   "outputs": [
    {
     "data": {
      "text/plain": [
       "['1', 'a', 'b', 'c']"
      ]
     },
     "execution_count": 20,
     "metadata": {},
     "output_type": "execute_result"
    }
   ],
   "source": [
    "re.findall(\"[abc1]\", pt)"
   ]
  },
  {
   "cell_type": "markdown",
   "metadata": {},
   "source": [
    "#### (2) `-`: 범위"
   ]
  },
  {
   "cell_type": "code",
   "execution_count": 22,
   "metadata": {},
   "outputs": [
    {
     "name": "stdout",
     "output_type": "stream",
     "text": [
      "['0', '1', '2', '3', '4', '5', '6', '7', '8', '9']\n",
      "['a', 'b', 'c', 'd', 'e', 'f']\n",
      "['a', 'b', 'c', 'd', 'e', 'f', 'A', 'B', 'C', 'D', 'E', 'F']\n"
     ]
    }
   ],
   "source": [
    "print(re.findall(\"[0-9]\", pt))      # [0123456789] 라고 쓸 필요가 없음\n",
    "print(re.findall(\"[a-f]\", pt))    \n",
    "print(re.findall(\"[a-fA-F]\", pt))   # 여러가지 범위를 써도 됨 "
   ]
  },
  {
   "cell_type": "markdown",
   "metadata": {},
   "source": [
    "#### (3) `.`: 하나의 문자"
   ]
  },
  {
   "cell_type": "code",
   "execution_count": 23,
   "metadata": {},
   "outputs": [
    {
     "name": "stdout",
     "output_type": "stream",
     "text": [
      "123aab123 ['aab']\n",
      "a0b ['a0b']\n",
      "abc []\n"
     ]
    }
   ],
   "source": [
    "ls = [\"123aab123\", \"a0b\", \"abc\"]\n",
    "for s in ls:\n",
    "    result = re.findall(\"a.b\", s)   # a + 어떤 문자 1개 + b\n",
    "    print(s, result)"
   ]
  },
  {
   "cell_type": "markdown",
   "metadata": {},
   "source": [
    "#### (4) `?`: '?' 앞의 문자를 0회 또는 1회 반복"
   ]
  },
  {
   "cell_type": "code",
   "execution_count": 24,
   "metadata": {},
   "outputs": [
    {
     "name": "stdout",
     "output_type": "stream",
     "text": [
      "aab ['aab']\n",
      "a3b ['a3b']\n",
      "accb []\n",
      "ab ['ab']\n"
     ]
    }
   ],
   "source": [
    "ls = [\"aab\", \"a3b\", \"accb\", \"ab\"]\n",
    "for s in ls:\n",
    "    result = re.findall(\"a.?b\", s)  # a + 어떤문자 0개 또는 1개 + b → a.b 또는 ab\n",
    "    print(s, result)"
   ]
  },
  {
   "cell_type": "markdown",
   "metadata": {},
   "source": [
    "#### (5) `*`: '*' 앞의 문자를 0회 이상 반복"
   ]
  },
  {
   "cell_type": "code",
   "execution_count": 25,
   "metadata": {},
   "outputs": [
    {
     "name": "stdout",
     "output_type": "stream",
     "text": [
      "ac ['ac']\n",
      "abc ['abc']\n",
      "abbbbc ['abbbbc']\n",
      "a3bec []\n"
     ]
    }
   ],
   "source": [
    "ls = [\"ac\", \"abc\", \"abbbbc\", \"a3bec\"]\n",
    "for s in ls:\n",
    "    result = re.findall(\"ab*c\", s)  # a + b가 0회 이상 반복 + c\n",
    "    print(s, result)"
   ]
  },
  {
   "cell_type": "markdown",
   "metadata": {},
   "source": [
    "#### (6) `+`: '+' 앞의 문자를 1회 이상 반복"
   ]
  },
  {
   "cell_type": "code",
   "execution_count": 26,
   "metadata": {},
   "outputs": [
    {
     "name": "stdout",
     "output_type": "stream",
     "text": [
      "ac []\n",
      "abc ['abc']\n",
      "abbbbc ['abbbbc']\n",
      "a3bec []\n"
     ]
    }
   ],
   "source": [
    "ls = [\"ac\", \"abc\", \"abbbbc\", \"a3bec\"]\n",
    "for s in ls:\n",
    "    result = re.findall(\"ab+c\", s)  # a + b가 1회 이상 반복 + c\n",
    "    print(s, result)"
   ]
  },
  {
   "cell_type": "markdown",
   "metadata": {},
   "source": [
    "#### (7) `{m,n}`: 앞의 문자를 m~n회 반복"
   ]
  },
  {
   "cell_type": "code",
   "execution_count": 45,
   "metadata": {},
   "outputs": [
    {
     "name": "stdout",
     "output_type": "stream",
     "text": [
      "ac []\n",
      "abc ['abc']\n",
      "abbbbbc ['abbbbbc']\n",
      "abbbbbbbbbbc []\n"
     ]
    }
   ],
   "source": [
    "ls = [\"ac\", \"abc\", \"abbbbbc\", \"abbbbbbbbbbc\"] # 5회, 10회\n",
    "for s in ls:\n",
    "    result = re.findall(\"ab{1,8}c\", s)  # a + b가 1~8회 반복 + c\n",
    "    print(s, result)"
   ]
  },
  {
   "cell_type": "markdown",
   "metadata": {},
   "source": [
    "#### (8) `()`: 그룹핑 "
   ]
  },
  {
   "cell_type": "code",
   "execution_count": 28,
   "metadata": {},
   "outputs": [
    {
     "name": "stdout",
     "output_type": "stream",
     "text": [
      "aaa5.djfi [('5', 'dj')]\n",
      "abdddc5 []\n",
      "1abbbbc []\n",
      "a3.bec [('3', 'be')]\n"
     ]
    }
   ],
   "source": [
    "ls = [\"aaa5.djfi\",\"abdddc5\",\"1abbbbc\",\"a3.bec\"]\n",
    "for s in ls:\n",
    "    result = re.findall(\"([0-9]+)[.]([a-z]{2})\", s)  \n",
    "    print(s, result)"
   ]
  },
  {
   "cell_type": "markdown",
   "metadata": {},
   "source": [
    "### **3. Examples**"
   ]
  },
  {
   "cell_type": "markdown",
   "metadata": {},
   "source": [
    "### 3.1 email 주소 찾기"
   ]
  },
  {
   "cell_type": "code",
   "execution_count": 46,
   "metadata": {},
   "outputs": [
    {
     "data": {
      "text/plain": [
       "['hyeshinoh@gmail.com', 'panda706@naver.com']"
      ]
     },
     "execution_count": 46,
     "metadata": {},
     "output_type": "execute_result"
    }
   ],
   "source": [
    "s = \"저의 이메일 주소는 hyeshinoh@gmail.com입니다. 또한 panda706@naver.com도 가지고 있습니다.\"\n",
    "p = \"[0-9a-zA-Z]+@[0-9a-z]+\\.[0-9a-z]+\"          # \\. : 패턴이 아니고 \".\"을 문자 자체로 사용\n",
    "# result = True if re.search(p, s) else False\n",
    "# print(result, re.findall(p, s))\n",
    "re.findall(p, s)"
   ]
  },
  {
   "cell_type": "markdown",
   "metadata": {},
   "source": [
    "### 3.2 주민등록번호 뒷자리 변경\n",
    "- 주민등록번호를 group으로 나눠서 뒷자리를 *******로 변경"
   ]
  },
  {
   "cell_type": "code",
   "execution_count": 58,
   "metadata": {},
   "outputs": [
    {
     "name": "stdout",
     "output_type": "stream",
     "text": [
      "['870101-1234567']\n",
      "[('870101', '1234567')]\n"
     ]
    },
    {
     "data": {
      "text/plain": [
       "'저의 전화번호는 010-1111-2222이고 주민등록번호는 870101-******** 입니다'"
      ]
     },
     "execution_count": 58,
     "metadata": {},
     "output_type": "execute_result"
    }
   ],
   "source": [
    "s = \"저의 전화번호는 010-1111-2222이고 주민등록번호는 870101-1234567 입니다\"\n",
    "p = \"[0-9]{6}\\-[0-9]{7}\"          # \\(escaping)을 안해줘도 문제는 없음\n",
    "print(re.findall(p, s))\n",
    "p = \"([0-9]{6})\\-([0-9]{7})\"      # 그룹핑\n",
    "print(re.findall(p, s))\n",
    "re.sub(p, \"\\g<1>-********\", s)    # \\g<1> : 그룹핑 첫번째(0부터 세지 않음. 앞의 그룹) 데이터 사용"
   ]
  },
  {
   "cell_type": "markdown",
   "metadata": {},
   "source": [
    "### 3.3 전화번호 추출해서 바꾸기"
   ]
  },
  {
   "cell_type": "code",
   "execution_count": 59,
   "metadata": {},
   "outputs": [
    {
     "data": {
      "text/plain": [
       "['영일공-48구삼삼7이사', '010사팔구삼삼구삼일']"
      ]
     },
     "execution_count": 59,
     "metadata": {},
     "output_type": "execute_result"
    }
   ],
   "source": [
    "# 전화번호 추출하기\n",
    "\n",
    "s = \"안녕하세요. 저의 전화번호는 영일공-48구삼삼7이사 입니다. 또한 010사팔구삼삼구삼일입니다. 둘중에 하나로 연락하세요\"\n",
    "\n",
    "p = '[0-9영공일이둘삼사오육칠팔구빵oO]{3}[-]?[0-9영공일이둘삼사오육칠팔구빵oO]{3,4}[-]?[0-9영공일이둘삼사오육칠팔구빵oO]{4}'\n",
    "\n",
    "numbers = re.findall(p, s)     # 찾아 놓은 패턴 number에 저장\n",
    "numbers"
   ]
  },
  {
   "cell_type": "code",
   "execution_count": 60,
   "metadata": {},
   "outputs": [
    {
     "name": "stdout",
     "output_type": "stream",
     "text": [
      "['영일공-48구삼삼7이사', '010사팔구삼삼구삼일']\n"
     ]
    },
    {
     "data": {
      "text/plain": [
       "('안녕하세요. 저의 전화번호는 영일공-48구삼삼7이사 입니다. 또한 010사팔구삼삼구삼일입니다. 둘중에 하나로 연락하세요',\n",
       " '안녕하세요. 저의 전화번호는 01048933724 입니다. 또한 01048933931입니다. 둘중에 하나로 연락하세요')"
      ]
     },
     "execution_count": 60,
     "metadata": {},
     "output_type": "execute_result"
    }
   ],
   "source": [
    "# 전화번호를 추출해서 바꾸기\n",
    "def change_phone_str(s):\n",
    "    # 문자열 패턴\n",
    "    p = '[0-9영공일이둘삼사오육칠팔구빵oO]{3}[-]?[0-9영공일이둘삼사오육칠팔구빵o]{3,4}[-]?[0-9영공일이둘삼사오육칠팔구빵oO]{4}'\n",
    "\n",
    "    # 찾아 놓은 패턴 number에 저장\n",
    "    numbers = re.findall(p, s)\n",
    "    print(numbers)                                # 결과: '영일공-48구삼삼7이사', '010사팔구삼삼구삼일'\n",
    "\n",
    "    # 패턴에 맞는 데이터 문자로된 숫자 숫자로 바꾸기\n",
    "    result = []\n",
    "    preprocess_dict = {\n",
    "    \"공\": 0, \"영\": 0, \"일\": 1, \"둘\": 2, \"이\": 2, \"삼\": 3, \"사\": 4,\n",
    "    \"오\": 5, \"육\": 6, \"칠\": 7, \"팔\": 8, \"구\": 9, \"빵\":0, \"o\":0, \"O\":0, \"-\": \"\",\n",
    "    }\n",
    "    for number in numbers:            \n",
    "        mod_numbers = number\n",
    "        for key, value in preprocess_dict.items():\n",
    "            mod_numbers = mod_numbers.replace(key, str(value))\n",
    "        result.append(mod_numbers)\n",
    "      \n",
    "    # 결과값을 replace 하기\n",
    "    result_str = s\n",
    "    for idx, number in enumerate(numbers):\n",
    "        result_str = result_str.replace(number, result[idx])\n",
    "    return result_str\n",
    "\n",
    "\n",
    "s, change_phone_str(s)"
   ]
  },
  {
   "cell_type": "markdown",
   "metadata": {},
   "source": [
    "#### 참고자료\n",
    "- 패스트캠퍼스, ⟪데이터사이언스스쿨 8기⟫ 수업자료"
   ]
  }
 ],
 "metadata": {
  "kernelspec": {
   "display_name": "Python 3",
   "language": "python",
   "name": "python3"
  },
  "language_info": {
   "codemirror_mode": {
    "name": "ipython",
    "version": 3
   },
   "file_extension": ".py",
   "mimetype": "text/x-python",
   "name": "python",
   "nbconvert_exporter": "python",
   "pygments_lexer": "ipython3",
   "version": "3.7.4"
  }
 },
 "nbformat": 4,
 "nbformat_minor": 4
}
