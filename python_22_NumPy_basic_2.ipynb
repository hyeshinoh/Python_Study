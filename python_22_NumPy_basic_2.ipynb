{
 "cells": [
  {
   "cell_type": "markdown",
   "metadata": {},
   "source": [
    "# **NumPy의 기초 (2)**\n",
    "\n",
    "#### **다룰 내용**\n",
    "1. array에 데이터 넣기\n",
    "    - arange\n",
    "    - linspace, logspace\n",
    "    - random: seed, rand, randn, randint, shuffle, choice\n",
    "2. unique\n",
    "3. stack & concatente\n",
    "    - stack\n",
    "    - concatenate\n",
    "    - column/row 결합\n",
    "4. split\n",
    "5. sort"
   ]
  },
  {
   "cell_type": "code",
   "execution_count": 1,
   "metadata": {},
   "outputs": [],
   "source": [
    "import numpy as np"
   ]
  },
  {
   "cell_type": "markdown",
   "metadata": {},
   "source": [
    "## **1. array에 데이터 넣기**"
   ]
  },
  {
   "cell_type": "markdown",
   "metadata": {},
   "source": [
    "### 1.1 arange\n",
    "- range와 사용 방법이 같음\n",
    "- 하지만 range보다 속도가 빠름"
   ]
  },
  {
   "cell_type": "code",
   "execution_count": 2,
   "metadata": {},
   "outputs": [
    {
     "data": {
      "text/plain": [
       "array([0, 1, 2, 3, 4, 5, 6, 7, 8, 9])"
      ]
     },
     "execution_count": 2,
     "metadata": {},
     "output_type": "execute_result"
    }
   ],
   "source": [
    "np.arange(10)"
   ]
  },
  {
   "cell_type": "code",
   "execution_count": 3,
   "metadata": {},
   "outputs": [
    {
     "data": {
      "text/plain": [
       "array([5, 6, 7, 8, 9])"
      ]
     },
     "execution_count": 3,
     "metadata": {},
     "output_type": "execute_result"
    }
   ],
   "source": [
    "np.arange(5, 10)"
   ]
  },
  {
   "cell_type": "code",
   "execution_count": 4,
   "metadata": {},
   "outputs": [
    {
     "data": {
      "text/plain": [
       "array([5, 7, 9])"
      ]
     },
     "execution_count": 4,
     "metadata": {},
     "output_type": "execute_result"
    }
   ],
   "source": [
    "np.arange(5, 10, 2)  # step 지정"
   ]
  },
  {
   "cell_type": "code",
   "execution_count": 5,
   "metadata": {},
   "outputs": [
    {
     "data": {
      "text/plain": [
       "1000000"
      ]
     },
     "execution_count": 5,
     "metadata": {},
     "output_type": "execute_result"
    }
   ],
   "source": [
    "# 속도 비교\n",
    "size = 10 ** 6\n",
    "# size = int(1E6)\n",
    "size"
   ]
  },
  {
   "cell_type": "code",
   "execution_count": 6,
   "metadata": {},
   "outputs": [
    {
     "name": "stdout",
     "output_type": "stream",
     "text": [
      "Wall time: 270 ms\n",
      "Wall time: 169 ms\n"
     ]
    }
   ],
   "source": [
    "# range보다 arange를 사용하는 것이 더 빠르다!\n",
    "%time for x in range(size): x**2\n",
    "%time for x in np.arange(size): x**2"
   ]
  },
  {
   "cell_type": "markdown",
   "metadata": {},
   "source": [
    "### 1.2 linspace, logspace"
   ]
  },
  {
   "cell_type": "markdown",
   "metadata": {},
   "source": [
    "#### (1) linspace\n",
    "- 범위 사이를 n-1 등분(point는 n개가 됨) (선형적으로 공간을 나눔)"
   ]
  },
  {
   "cell_type": "code",
   "execution_count": 7,
   "metadata": {},
   "outputs": [
    {
     "data": {
      "text/plain": [
       "array([  0.,  50., 100.])"
      ]
     },
     "execution_count": 7,
     "metadata": {},
     "output_type": "execute_result"
    }
   ],
   "source": [
    "# 0과 100 사이를 3점으로 나눔\n",
    "np.linspace(0, 100, 3) "
   ]
  },
  {
   "cell_type": "code",
   "execution_count": 8,
   "metadata": {},
   "outputs": [
    {
     "data": {
      "text/plain": [
       "array([  0.,  25.,  50.,  75., 100.])"
      ]
     },
     "execution_count": 8,
     "metadata": {},
     "output_type": "execute_result"
    }
   ],
   "source": [
    "# 0과 100 사이를 5점으로 나눔\n",
    "np.linspace(0, 100, 5)"
   ]
  },
  {
   "cell_type": "markdown",
   "metadata": {},
   "source": [
    "#### (2) logspace \n",
    "- log 범위 사이를 n-1 등분(point는 n개가 됨)"
   ]
  },
  {
   "cell_type": "code",
   "execution_count": 9,
   "metadata": {},
   "outputs": [
    {
     "data": {
      "text/plain": [
       "array([  100.,  1000., 10000.])"
      ]
     },
     "execution_count": 9,
     "metadata": {},
     "output_type": "execute_result"
    }
   ],
   "source": [
    "# log10(x1)=2, log10(x2)=3, log10(x3)=4\n",
    "# x1=100, x2=1000, x3=10000\n",
    "np.logspace(2, 4, 3)"
   ]
  },
  {
   "cell_type": "code",
   "execution_count": 10,
   "metadata": {},
   "outputs": [
    {
     "data": {
      "text/plain": [
       "array([ 100.        ,  316.22776602, 1000.        ])"
      ]
     },
     "execution_count": 10,
     "metadata": {},
     "output_type": "execute_result"
    }
   ],
   "source": [
    "# 2, 2.5, 3\n",
    "# log10(x1)=2, log10(x2)=2.5, log10(x3)=4\n",
    "np.logspace(2, 3, 3)"
   ]
  },
  {
   "cell_type": "code",
   "execution_count": 11,
   "metadata": {},
   "outputs": [
    {
     "data": {
      "text/plain": [
       "(100, 316.22776601683796, 1000)"
      ]
     },
     "execution_count": 11,
     "metadata": {},
     "output_type": "execute_result"
    }
   ],
   "source": [
    "10**2, 10**2.5, 10**3"
   ]
  },
  {
   "cell_type": "markdown",
   "metadata": {},
   "source": [
    "### 1.3 random\n",
    "array에 랜덤하게 수를 발생시켜 넣어주는 방법을 알아보자.\n",
    "- seed: 랜덤변수의 설정값\n",
    "    - seed 값을 동일하게 주면 같은 동일한 결과를 반복해서 얻을 수 있음 \n",
    "- rand: 균등분포(uniform)로 난수를 발생시킴\n",
    "- randn: 정규분포(Gaussian)로 난수를 발생시킴\n",
    "- randint: 정수로 난수를 발생시킴 (균등분포)\n",
    "- suffle: 행렬 데이터를 섞어줌\n",
    "- choice: 특정 범위의 숫자를 선택해줌 (확률 설정이 가능)"
   ]
  },
  {
   "cell_type": "markdown",
   "metadata": {},
   "source": [
    "#### (1) seed, rand, randn\n",
    " - `np.random.rand(size)`  <br>\n",
    " - `np.random.randn(size)`"
   ]
  },
  {
   "cell_type": "code",
   "execution_count": 13,
   "metadata": {},
   "outputs": [
    {
     "name": "stdout",
     "output_type": "stream",
     "text": [
      "[[0.5488135  0.71518937 0.60276338 0.54488318 0.4236548 ]\n",
      " [0.64589411 0.43758721 0.891773   0.96366276 0.38344152]]\n",
      "[[ 0.14404357  1.45427351  0.76103773  0.12167502  0.44386323]\n",
      " [ 0.33367433  1.49407907 -0.20515826  0.3130677  -0.85409574]]\n"
     ]
    }
   ],
   "source": [
    "np.random.seed(0)\n",
    "rd = np.random.rand(2, 5)       # uniform 으로 난수 발생 (균등분포)\n",
    "rdn = np.random.randn(2, 5)     # Gaussian 으로 난수 발생 (정규분포 - 0에 가까운수가 많이 나옴)\n",
    "print(rd)\n",
    "print(rdn)"
   ]
  },
  {
   "cell_type": "code",
   "execution_count": 14,
   "metadata": {},
   "outputs": [
    {
     "name": "stdout",
     "output_type": "stream",
     "text": [
      "[[4.17022005e-01 7.20324493e-01 1.14374817e-04 3.02332573e-01\n",
      "  1.46755891e-01]\n",
      " [9.23385948e-02 1.86260211e-01 3.45560727e-01 3.96767474e-01\n",
      "  5.38816734e-01]]\n",
      "[[ 1.74481176 -0.7612069   0.3190391  -0.24937038  1.46210794]\n",
      " [-2.06014071 -0.3224172  -0.38405435  1.13376944 -1.09989127]]\n"
     ]
    }
   ],
   "source": [
    "# seed 값을 바꾸면 다른 값이 나온다.\n",
    "np.random.seed(1)\n",
    "rd = np.random.rand(2, 5) \n",
    "rdn = np.random.randn(2, 5) \n",
    "print(rd)\n",
    "print(rdn)"
   ]
  },
  {
   "cell_type": "code",
   "execution_count": 15,
   "metadata": {},
   "outputs": [
    {
     "name": "stdout",
     "output_type": "stream",
     "text": [
      "[4.17022005e-01 7.20324493e-01 1.14374817e-04 3.02332573e-01]\n",
      "[-0.52817175 -1.07296862  0.86540763 -2.3015387 ]\n"
     ]
    }
   ],
   "source": [
    "np.random.seed(1)\n",
    "rd = np.random.rand(4)\n",
    "rdn = np.random.randn(4)\n",
    "print(rd)\n",
    "print(rdn)"
   ]
  },
  {
   "cell_type": "code",
   "execution_count": 16,
   "metadata": {},
   "outputs": [
    {
     "data": {
      "text/plain": [
       "array([[[0.41919451, 0.6852195 , 0.20445225, 0.87811744],\n",
       "        [0.02738759, 0.67046751, 0.4173048 , 0.55868983],\n",
       "        [0.14038694, 0.19810149, 0.80074457, 0.96826158]],\n",
       "\n",
       "       [[0.31342418, 0.69232262, 0.87638915, 0.89460666],\n",
       "        [0.08504421, 0.03905478, 0.16983042, 0.8781425 ],\n",
       "        [0.09834683, 0.42110763, 0.95788953, 0.53316528]]])"
      ]
     },
     "execution_count": 16,
     "metadata": {},
     "output_type": "execute_result"
    }
   ],
   "source": [
    "# rand로 3차원 행렬 만들기\n",
    "r = np.random.rand(2, 3, 4)\n",
    "r"
   ]
  },
  {
   "cell_type": "code",
   "execution_count": 17,
   "metadata": {},
   "outputs": [
    {
     "data": {
      "text/plain": [
       "array([[0.69187711, 0.31551563, 0.68650093],\n",
       "       [0.83462567, 0.01828828, 0.75014431]])"
      ]
     },
     "execution_count": 17,
     "metadata": {},
     "output_type": "execute_result"
    }
   ],
   "source": [
    "# rand로 2차원 행렬 만들기\n",
    "r = np.random.rand(2, 3)\n",
    "r"
   ]
  },
  {
   "cell_type": "markdown",
   "metadata": {},
   "source": [
    "#### (2) randint\n",
    "- `np.random.randint(from, to, size)`"
   ]
  },
  {
   "cell_type": "code",
   "execution_count": 18,
   "metadata": {},
   "outputs": [
    {
     "data": {
      "text/plain": [
       "array([[5, 9, 6],\n",
       "       [7, 7, 6],\n",
       "       [5, 6, 8]])"
      ]
     },
     "execution_count": 18,
     "metadata": {},
     "output_type": "execute_result"
    }
   ],
   "source": [
    "r = np.random.randint(5, 10, (3, 3))\n",
    "r"
   ]
  },
  {
   "cell_type": "code",
   "execution_count": 19,
   "metadata": {},
   "outputs": [
    {
     "data": {
      "text/plain": [
       "array([[4, 3, 1],\n",
       "       [3, 0, 0],\n",
       "       [2, 2, 1]])"
      ]
     },
     "execution_count": 19,
     "metadata": {},
     "output_type": "execute_result"
    }
   ],
   "source": [
    "r = np.random.randint(5, size=(3, 3))\n",
    "r"
   ]
  },
  {
   "cell_type": "markdown",
   "metadata": {},
   "source": [
    "#### (3) shuffle\n",
    "- 데이터의 순서를 바꿀수 있음\n",
    "- 행의 순서만 바뀜 (행 안의 데이터는 바뀌지 않음)\n",
    "- 데이터를 다 바꾸려면? 1열로 reshape 후 shuffle, 그 후 다시 reshape"
   ]
  },
  {
   "cell_type": "code",
   "execution_count": 20,
   "metadata": {},
   "outputs": [
    {
     "data": {
      "text/plain": [
       "array([[4, 3, 1],\n",
       "       [3, 0, 0],\n",
       "       [2, 2, 1]])"
      ]
     },
     "execution_count": 20,
     "metadata": {},
     "output_type": "execute_result"
    }
   ],
   "source": [
    "r"
   ]
  },
  {
   "cell_type": "code",
   "execution_count": 21,
   "metadata": {},
   "outputs": [
    {
     "data": {
      "text/plain": [
       "array([[3, 0, 0],\n",
       "       [2, 2, 1],\n",
       "       [4, 3, 1]])"
      ]
     },
     "execution_count": 21,
     "metadata": {},
     "output_type": "execute_result"
    }
   ],
   "source": [
    "np.random.shuffle(r)\n",
    "r"
   ]
  },
  {
   "cell_type": "code",
   "execution_count": 22,
   "metadata": {},
   "outputs": [
    {
     "data": {
      "text/plain": [
       "array([[0, 1, 2],\n",
       "       [3, 2, 4],\n",
       "       [0, 1, 3]])"
      ]
     },
     "execution_count": 22,
     "metadata": {},
     "output_type": "execute_result"
    }
   ],
   "source": [
    "# 데이터를 전부 뒤섞기\n",
    "r = r.reshape(9 ,1)\n",
    "np.random.shuffle(r)\n",
    "r = r.reshape(3,3)\n",
    "r"
   ]
  },
  {
   "cell_type": "markdown",
   "metadata": {},
   "source": [
    "#### (4) choice\n",
    " - `numpy.random.choice(a, size=None, replace=True, p=None)`\n",
    "     - a: 1-D array-like or int\n",
    "     - size: int or tuple of int, optional\n",
    "     - replace: boolen, optional (False: equivalent to permutation - 비복원추출!)\n",
    "     - p: 1-D array-like, optional (입력하지 않으면 a에 대해 uniform distribution)"
   ]
  },
  {
   "cell_type": "code",
   "execution_count": 27,
   "metadata": {},
   "outputs": [
    {
     "data": {
      "text/plain": [
       "array([1, 0, 2])"
      ]
     },
     "execution_count": 27,
     "metadata": {},
     "output_type": "execute_result"
    }
   ],
   "source": [
    "np.random.choice(5, 3)"
   ]
  },
  {
   "cell_type": "code",
   "execution_count": 30,
   "metadata": {
    "scrolled": true
   },
   "outputs": [
    {
     "name": "stdout",
     "output_type": "stream",
     "text": [
      "[0, 1, 2, 3, 4]\n",
      "[0.1, 0, 0.4, 0.2, 0.3]\n"
     ]
    }
   ],
   "source": [
    "# p의 확률로 range(5)를 10개 추출\n",
    "a = list(range(5))\n",
    "p = [0.1, 0, 0.4, 0.2, 0.3]     # p= 0 나올 확률, 1 나올 확률, 2 나올 확률, 3 나올 확률, 4 나올 확률\n",
    "print(a)\n",
    "print(p)"
   ]
  },
  {
   "cell_type": "code",
   "execution_count": 31,
   "metadata": {},
   "outputs": [
    {
     "data": {
      "text/plain": [
       "array([1, 2, 1, 4, 2, 0, 0, 1, 0, 1])"
      ]
     },
     "execution_count": 31,
     "metadata": {},
     "output_type": "execute_result"
    }
   ],
   "source": [
    "np.random.choice(a, 10, p)"
   ]
  },
  {
   "cell_type": "code",
   "execution_count": 34,
   "metadata": {
    "scrolled": true
   },
   "outputs": [
    {
     "data": {
      "text/plain": [
       "array([[7, 9],\n",
       "       [5, 8]])"
      ]
     },
     "execution_count": 34,
     "metadata": {},
     "output_type": "execute_result"
    }
   ],
   "source": [
    "np.random.choice(range(5, 10), (2, 2), replace=False, p=p) "
   ]
  },
  {
   "cell_type": "markdown",
   "metadata": {},
   "source": [
    "## **2. unique**\n",
    "- 행렬 데이터에서 유일값(중복없는 list)과 유일값의 개수를 확인할 수 있음"
   ]
  },
  {
   "cell_type": "code",
   "execution_count": 35,
   "metadata": {
    "scrolled": true
   },
   "outputs": [
    {
     "data": {
      "text/plain": [
       "array([[0, 1, 2],\n",
       "       [3, 2, 4],\n",
       "       [0, 1, 3]])"
      ]
     },
     "execution_count": 35,
     "metadata": {},
     "output_type": "execute_result"
    }
   ],
   "source": [
    "r"
   ]
  },
  {
   "cell_type": "code",
   "execution_count": 38,
   "metadata": {},
   "outputs": [
    {
     "name": "stdout",
     "output_type": "stream",
     "text": [
      "[0 1 2 3 4] <class 'numpy.ndarray'>\n",
      "[2 2 2 2 1] <class 'numpy.ndarray'>\n"
     ]
    }
   ],
   "source": [
    "index, counts = np.unique(r, return_counts=True)\n",
    "print(index, type(index))\n",
    "print(counts, type(counts))"
   ]
  },
  {
   "cell_type": "markdown",
   "metadata": {
    "toc-hr-collapsed": false
   },
   "source": [
    "## **3. stack & concatenate**"
   ]
  },
  {
   "cell_type": "markdown",
   "metadata": {},
   "source": [
    "### 3.1 stack\n",
    "- 행렬을 쌓는 것과 같이 합치는 방법\n",
    "- `numpy.stack(arrays, axis=0, out=None)`\n",
    "  - arrays: sequence of array_like (각 array는 같은 shape여야 함!)\n",
    "  - axis: The axis in the result array along which the input arrays are stacked (몇번째 차원의 방향으로 쌓는가)"
   ]
  },
  {
   "cell_type": "markdown",
   "metadata": {},
   "source": [
    "#### (1) 1차원 행렬의 stack"
   ]
  },
  {
   "cell_type": "code",
   "execution_count": 40,
   "metadata": {},
   "outputs": [
    {
     "name": "stdout",
     "output_type": "stream",
     "text": [
      "[1 2 3 4 5]\n",
      "[ 6  7  8  9 10]\n"
     ]
    }
   ],
   "source": [
    "na1 = np.arange(1, 6)\n",
    "na2 = np.arange(6, 11)\n",
    "print(na1)\n",
    "print(na2)"
   ]
  },
  {
   "cell_type": "code",
   "execution_count": 42,
   "metadata": {},
   "outputs": [
    {
     "name": "stdout",
     "output_type": "stream",
     "text": [
      "[[ 1  2  3  4  5]\n",
      " [ 6  7  8  9 10]]\n"
     ]
    }
   ],
   "source": [
    "na3 = np.stack([na1, na2])   \n",
    "# na3 = np.stack((na1, na2)) \n",
    "print(na3)"
   ]
  },
  {
   "cell_type": "code",
   "execution_count": 43,
   "metadata": {},
   "outputs": [
    {
     "name": "stdout",
     "output_type": "stream",
     "text": [
      "[[ 1  6]\n",
      " [ 2  7]\n",
      " [ 3  8]\n",
      " [ 4  9]\n",
      " [ 5 10]]\n"
     ]
    }
   ],
   "source": [
    "na3 = np.stack((na1, na2), axis = 1)   # axis=1: 각 행렬의 shape인 (1, 5)에서 1번째인 '5'가 나타내는 열방향으로 쌓음)\n",
    "print(na3)"
   ]
  },
  {
   "cell_type": "markdown",
   "metadata": {},
   "source": [
    "#### (2) 2차원 행렬의 stack"
   ]
  },
  {
   "cell_type": "code",
   "execution_count": 52,
   "metadata": {},
   "outputs": [
    {
     "name": "stdout",
     "output_type": "stream",
     "text": [
      "[[1 2 3]\n",
      " [4 5 6]]\n",
      "[[ 7  8  9]\n",
      " [10 11 12]]\n",
      "shape of na1: (2, 3)\n",
      "shape of na2: (2, 3)\n"
     ]
    }
   ],
   "source": [
    "na1 = np.arange(1, 7).reshape(2, 3)\n",
    "na2 = np.arange(7, 13).reshape(2, 3)\n",
    "print(na1)\n",
    "print(na2)\n",
    "print(\"shape of na1:\", na1.shape)\n",
    "print(\"shape of na2:\", na2.shape)"
   ]
  },
  {
   "cell_type": "code",
   "execution_count": 53,
   "metadata": {},
   "outputs": [
    {
     "name": "stdout",
     "output_type": "stream",
     "text": [
      "[[[ 1  2  3]\n",
      "  [ 4  5  6]]\n",
      "\n",
      " [[ 7  8  9]\n",
      "  [10 11 12]]]\n"
     ]
    }
   ],
   "source": [
    "na3 = np.stack((na1, na2))   \n",
    "print(na3)"
   ]
  },
  {
   "cell_type": "code",
   "execution_count": 54,
   "metadata": {},
   "outputs": [
    {
     "name": "stdout",
     "output_type": "stream",
     "text": [
      "shape of 'na3': (2, 2, 3)\n"
     ]
    }
   ],
   "source": [
    "print(\"shape of 'na3':\", na3.shape)"
   ]
  },
  {
   "cell_type": "code",
   "execution_count": 49,
   "metadata": {},
   "outputs": [
    {
     "name": "stdout",
     "output_type": "stream",
     "text": [
      "[[[ 1  2  3]\n",
      "  [ 7  8  9]]\n",
      "\n",
      " [[ 4  5  6]\n",
      "  [10 11 12]]]\n"
     ]
    }
   ],
   "source": [
    "na3 = np.stack((na1, na2), axis = 1)   # 한 차원 안으로 들어가서 행끼리 짝지어 쌓음\n",
    "print(na3)"
   ]
  },
  {
   "cell_type": "code",
   "execution_count": 95,
   "metadata": {},
   "outputs": [
    {
     "name": "stdout",
     "output_type": "stream",
     "text": [
      "[[[ 1  7]\n",
      "  [ 2  8]\n",
      "  [ 3  9]]\n",
      "\n",
      " [[ 4 10]\n",
      "  [ 5 11]\n",
      "  [ 6 12]]]\n"
     ]
    }
   ],
   "source": [
    "na3 = np.stack((na1, na2), axis = 2)  # 한 차원 더 들어가서 원소들을 짝지어 쌓음\n",
    "print(na3)"
   ]
  },
  {
   "cell_type": "markdown",
   "metadata": {},
   "source": [
    "### 3.2 concatenate (결합)\n",
    "- 세로 결합(axis=0, default)은 열의 갯수가 같아야 함\n",
    "- 가로 결합(axis=1)은 행의 갯수가 같아야 함"
   ]
  },
  {
   "cell_type": "code",
   "execution_count": 55,
   "metadata": {},
   "outputs": [
    {
     "data": {
      "text/plain": [
       "array([[8, 9, 2],\n",
       "       [7, 5, 5]])"
      ]
     },
     "execution_count": 55,
     "metadata": {},
     "output_type": "execute_result"
    }
   ],
   "source": [
    "na1 = np.random.randint(10, size=(2, 3))\n",
    "na1"
   ]
  },
  {
   "cell_type": "code",
   "execution_count": 56,
   "metadata": {},
   "outputs": [
    {
     "data": {
      "text/plain": [
       "array([[4, 5],\n",
       "       [8, 5],\n",
       "       [8, 1]])"
      ]
     },
     "execution_count": 56,
     "metadata": {},
     "output_type": "execute_result"
    }
   ],
   "source": [
    "na2 = np.random.randint(10, size=(3, 2))\n",
    "na2"
   ]
  },
  {
   "cell_type": "code",
   "execution_count": 57,
   "metadata": {},
   "outputs": [
    {
     "data": {
      "text/plain": [
       "array([[1, 8, 7],\n",
       "       [0, 3, 4],\n",
       "       [2, 0, 3]])"
      ]
     },
     "execution_count": 57,
     "metadata": {},
     "output_type": "execute_result"
    }
   ],
   "source": [
    "na3 = np.random.randint(10, size=(3, 3))\n",
    "na3"
   ]
  },
  {
   "cell_type": "code",
   "execution_count": 58,
   "metadata": {},
   "outputs": [
    {
     "data": {
      "text/plain": [
       "array([[8, 9, 2],\n",
       "       [7, 5, 5],\n",
       "       [1, 8, 7],\n",
       "       [0, 3, 4],\n",
       "       [2, 0, 3]])"
      ]
     },
     "execution_count": 58,
     "metadata": {},
     "output_type": "execute_result"
    }
   ],
   "source": [
    "np.concatenate((na1, na3))           # axis=0이 default: 세로결합"
   ]
  },
  {
   "cell_type": "code",
   "execution_count": 59,
   "metadata": {},
   "outputs": [
    {
     "data": {
      "text/plain": [
       "array([[4, 5, 1, 8, 7],\n",
       "       [8, 5, 0, 3, 4],\n",
       "       [8, 1, 2, 0, 3]])"
      ]
     },
     "execution_count": 59,
     "metadata": {},
     "output_type": "execute_result"
    }
   ],
   "source": [
    "np.concatenate((na2, na3), axis=1)   # axix=1: 가로 결합"
   ]
  },
  {
   "cell_type": "markdown",
   "metadata": {},
   "source": [
    "### 3.3 column/row 결합\n",
    "- `c_[array1, array2]`: column 결합\n",
    "- `r_[array1, array2]`: row 결합 → 결과가 1행 행렬이 됨\n",
    "- stack이나 concatenate이 더 빠름"
   ]
  },
  {
   "cell_type": "code",
   "execution_count": 60,
   "metadata": {},
   "outputs": [
    {
     "data": {
      "text/plain": [
       "array([[1, 4],\n",
       "       [2, 5],\n",
       "       [3, 6]])"
      ]
     },
     "execution_count": 60,
     "metadata": {},
     "output_type": "execute_result"
    }
   ],
   "source": [
    "np.c_[np.array([1, 2, 3]), np.array([4, 5, 6]) ]"
   ]
  },
  {
   "cell_type": "code",
   "execution_count": 61,
   "metadata": {},
   "outputs": [
    {
     "data": {
      "text/plain": [
       "array([1, 2, 3, 4, 5, 6])"
      ]
     },
     "execution_count": 61,
     "metadata": {},
     "output_type": "execute_result"
    }
   ],
   "source": [
    "np.r_[np.array([1, 2, 3]), np.array([4, 5, 6]) ]"
   ]
  },
  {
   "cell_type": "markdown",
   "metadata": {},
   "source": [
    "## **4. split**"
   ]
  },
  {
   "cell_type": "code",
   "execution_count": 62,
   "metadata": {},
   "outputs": [
    {
     "data": {
      "text/plain": [
       "array([0, 1, 2, 3, 4, 5, 6, 7, 8, 9])"
      ]
     },
     "execution_count": 62,
     "metadata": {},
     "output_type": "execute_result"
    }
   ],
   "source": [
    "ab = np.arange(0, 10)\n",
    "ab"
   ]
  },
  {
   "cell_type": "code",
   "execution_count": 63,
   "metadata": {},
   "outputs": [
    {
     "data": {
      "text/plain": [
       "[array([0, 1, 2, 3, 4]), array([5, 6, 7, 8, 9])]"
      ]
     },
     "execution_count": 63,
     "metadata": {},
     "output_type": "execute_result"
    }
   ],
   "source": [
    "np.split(ab, [5])     # 앞에서 5번째를 기준으로 나눈다"
   ]
  },
  {
   "cell_type": "code",
   "execution_count": 64,
   "metadata": {},
   "outputs": [
    {
     "data": {
      "text/plain": [
       "(array([0, 1, 2, 3, 4]), array([5, 6, 7, 8, 9]))"
      ]
     },
     "execution_count": 64,
     "metadata": {},
     "output_type": "execute_result"
    }
   ],
   "source": [
    "# split 해서 여러개의 array로 받을 수 있음\n",
    "r1, r2 = np.split(ab, [5])  \n",
    "r1, r2"
   ]
  },
  {
   "cell_type": "code",
   "execution_count": 65,
   "metadata": {
    "scrolled": true
   },
   "outputs": [
    {
     "data": {
      "text/plain": [
       "[array([0, 1]), array([2, 3]), array([4, 5]), array([6, 7]), array([8, 9])]"
      ]
     },
     "execution_count": 65,
     "metadata": {},
     "output_type": "execute_result"
    }
   ],
   "source": [
    "# split 기준을 여러개 둘 수 있음: 2, 4, 6, 8 번째 원소 기준으로 5개로 나눈다\n",
    "np.split(ab, [2, 4, 6, 8])"
   ]
  },
  {
   "cell_type": "markdown",
   "metadata": {},
   "source": [
    "### 4.1 vsplit / hsplit\n",
    "- 행렬을 수직, 수평으로 나눈다"
   ]
  },
  {
   "cell_type": "code",
   "execution_count": 66,
   "metadata": {},
   "outputs": [
    {
     "data": {
      "text/plain": [
       "array([[5, 1, 2, 4, 3, 0],\n",
       "       [6, 0, 7, 2, 8, 3],\n",
       "       [0, 8, 4, 2, 9, 0],\n",
       "       [3, 8, 1, 4, 3, 3]])"
      ]
     },
     "execution_count": 66,
     "metadata": {},
     "output_type": "execute_result"
    }
   ],
   "source": [
    "r = np.random.randint(10, size=(4, 6))\n",
    "r"
   ]
  },
  {
   "cell_type": "code",
   "execution_count": 67,
   "metadata": {},
   "outputs": [
    {
     "name": "stdout",
     "output_type": "stream",
     "text": [
      "[[5 1 2 4 3 0]\n",
      " [6 0 7 2 8 3]]\n",
      "[[0 8 4 2 9 0]\n",
      " [3 8 1 4 3 3]]\n"
     ]
    }
   ],
   "source": [
    "# vsplit: 위 아래 각각의 행렬로 분리함\n",
    "r1, r2 = np.vsplit(r, [2])     # 2번째 행 기준으로\n",
    "print(r1)\n",
    "print(r2)"
   ]
  },
  {
   "cell_type": "code",
   "execution_count": 68,
   "metadata": {},
   "outputs": [
    {
     "name": "stdout",
     "output_type": "stream",
     "text": [
      "[[5 1 2]\n",
      " [6 0 7]\n",
      " [0 8 4]\n",
      " [3 8 1]]\n",
      "[[4 3 0]\n",
      " [2 8 3]\n",
      " [2 9 0]\n",
      " [4 3 3]]\n"
     ]
    }
   ],
   "source": [
    "# hsplit: 좌 우 행렬로 분리함, 수직을 자름\n",
    "n1, n2 = np.hsplit(r, [3])    # 3번째 열 기준으로\n",
    "print(n1)\n",
    "print(n2)"
   ]
  },
  {
   "cell_type": "code",
   "execution_count": 72,
   "metadata": {},
   "outputs": [
    {
     "name": "stdout",
     "output_type": "stream",
     "text": [
      "[[5 1]\n",
      " [6 0]\n",
      " [0 8]\n",
      " [3 8]]\n",
      "[[2 4]\n",
      " [7 2]\n",
      " [4 2]\n",
      " [1 4]]\n",
      "[[3 0]\n",
      " [8 3]\n",
      " [9 0]\n",
      " [3 3]]\n"
     ]
    }
   ],
   "source": [
    "n1, n2, n3 = np.hsplit(r, [2, 4])\n",
    "print(n1)\n",
    "print(n2)\n",
    "print(n3)"
   ]
  },
  {
   "cell_type": "code",
   "execution_count": 73,
   "metadata": {},
   "outputs": [
    {
     "name": "stdout",
     "output_type": "stream",
     "text": [
      "[[5 1]\n",
      " [6 0]\n",
      " [0 8]\n",
      " [3 8]]\n",
      "[[2 4]\n",
      " [7 2]\n",
      " [4 2]\n",
      " [1 4]]\n",
      "[[3 0]\n",
      " [8 3]\n",
      " [9 0]\n",
      " [3 3]]\n"
     ]
    }
   ],
   "source": [
    "n1, n2, n3 = np.hsplit(r, 3)      # int를 넣으면 n등분을 함\n",
    "print(n1)\n",
    "print(n2)\n",
    "print(n3)"
   ]
  },
  {
   "cell_type": "markdown",
   "metadata": {},
   "source": [
    "## **5. sort**"
   ]
  },
  {
   "cell_type": "code",
   "execution_count": 74,
   "metadata": {},
   "outputs": [
    {
     "name": "stdout",
     "output_type": "stream",
     "text": [
      "[[6 7 3]\n",
      " [5 3 2]\n",
      " [4 4 0]]\n"
     ]
    }
   ],
   "source": [
    "r1 = np.random.randint(10, size=(3,3))\n",
    "print(r1)"
   ]
  },
  {
   "cell_type": "code",
   "execution_count": 75,
   "metadata": {},
   "outputs": [
    {
     "data": {
      "text/plain": [
       "array([[3, 6, 7],\n",
       "       [2, 3, 5],\n",
       "       [0, 4, 4]])"
      ]
     },
     "execution_count": 75,
     "metadata": {},
     "output_type": "execute_result"
    }
   ],
   "source": [
    "# 가로로 sorting\n",
    "r1.sort()          # axis -1과 1은 같은 동작을 한다   sort는 r1에 바로 반영됨\n",
    "r1"
   ]
  },
  {
   "cell_type": "code",
   "execution_count": 76,
   "metadata": {},
   "outputs": [
    {
     "data": {
      "text/plain": [
       "array([[0, 3, 4],\n",
       "       [2, 4, 5],\n",
       "       [3, 6, 7]])"
      ]
     },
     "execution_count": 76,
     "metadata": {},
     "output_type": "execute_result"
    }
   ],
   "source": [
    "# 세로로 sorting : axis=0 (각 열이 독립적으로 정렬됨)\n",
    "r1.sort(axis=0)\n",
    "r1"
   ]
  },
  {
   "cell_type": "markdown",
   "metadata": {},
   "source": [
    "#### 참고자료\n",
    "- NumPy v1.16 Manual [(https://docs.scipy.org/doc/numpy/index.html)](https://docs.scipy.org/doc/numpy/index.html)\n",
    "- 패스트캠퍼스, ⟪데이터사이언스스쿨 8기⟫ 수업자료"
   ]
  }
 ],
 "metadata": {
  "kernelspec": {
   "display_name": "Python 3",
   "language": "python",
   "name": "python3"
  },
  "language_info": {
   "codemirror_mode": {
    "name": "ipython",
    "version": 3
   },
   "file_extension": ".py",
   "mimetype": "text/x-python",
   "name": "python",
   "nbconvert_exporter": "python",
   "pygments_lexer": "ipython3",
   "version": "3.7.4"
  }
 },
 "nbformat": 4,
 "nbformat_minor": 4
}
