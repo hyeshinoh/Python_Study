{
 "cells": [
  {
   "cell_type": "markdown",
   "metadata": {},
   "source": [
    "# Python으로 file 읽고 쓰기"
   ]
  },
  {
   "cell_type": "markdown",
   "metadata": {},
   "source": [
    "## 1. 파일 불러오기\n",
    "- 문법\n",
    "    - `f = open(\"파일명\", \"옵션\")` <br> `f.close()`\n",
    "    - `with` 구문: 구문이 끝나면 자동으로 파일이 close됨\n",
    "        - `with open(\"파일명\", \"옵션\") as f:`\n",
    "- 파일 접근 옵션\n",
    "    - w: 파일 쓰기 - 파일이 존재하면 덮어씀\n",
    "    - x: 파일 쓰기 - 파일이 존재하지 않을때만 생성\n",
    "    - r: 파일 읽기 \n",
    "    - a: 파일 추가 - 파일 마지막에 새로운 내용을 추가\n",
    "- 파일 type에 대한 옵션\n",
    "    - t: text 파일\n",
    "    - b: binary 파일"
   ]
  },
  {
   "cell_type": "markdown",
   "metadata": {},
   "source": [
    "## 2. 파일 쓰기 - write"
   ]
  },
  {
   "cell_type": "markdown",
   "metadata": {},
   "source": [
    "### 2.1 텍스트 파일 쓰기"
   ]
  },
  {
   "cell_type": "markdown",
   "metadata": {},
   "source": [
    "#### (1) wt 옵션 사용\n",
    "간단한 텍스트 파일(test1.txt, test2.txt)을 작성해보자"
   ]
  },
  {
   "cell_type": "code",
   "execution_count": 1,
   "metadata": {},
   "outputs": [],
   "source": [
    "s = \"\"\"data\n",
    "scicence\n",
    "professional\n",
    "\"\"\"\n",
    "\n",
    "f = open(\"test1.txt\", 'wt')\n",
    "f.write(s)\n",
    "f.close()\n",
    "\n",
    "## 아래와 같이 with구문을 사용해도 동일\n",
    "# with open(\"text1.txt\", 'wt') as f:\n",
    "#     f.write(s)"
   ]
  },
  {
   "cell_type": "code",
   "execution_count": 3,
   "metadata": {},
   "outputs": [
    {
     "name": "stdout",
     "output_type": "stream",
     "text": [
      "data\n",
      "scicence\n",
      "professional\n",
      "\n"
     ]
    }
   ],
   "source": [
    "f = open(\"test1.txt\",\"rt\")\n",
    "result = f.read()\n",
    "print(result)"
   ]
  },
  {
   "cell_type": "code",
   "execution_count": 4,
   "metadata": {},
   "outputs": [],
   "source": [
    "s = \"\"\"datascicence\n",
    "fighting!!\n",
    "\"\"\"\n",
    "\n",
    "f = open(\"test2.txt\", 'wt')\n",
    "f.write(s)\n",
    "f.close()"
   ]
  },
  {
   "cell_type": "markdown",
   "metadata": {},
   "source": [
    "#### (2) xt 옵션 사용\n",
    "파일 옵션을 xt로 주면 아래와 같이 해당 파일이 없는 경우에만 새로이 생성이 가능하다"
   ]
  },
  {
   "cell_type": "code",
   "execution_count": 5,
   "metadata": {},
   "outputs": [
    {
     "ename": "FileExistsError",
     "evalue": "[Errno 17] File exists: 'test1.txt'",
     "output_type": "error",
     "traceback": [
      "\u001b[0;31m---------------------------------------------------------------------------\u001b[0m",
      "\u001b[0;31mFileExistsError\u001b[0m                           Traceback (most recent call last)",
      "\u001b[0;32m<ipython-input-5-736c6249daba>\u001b[0m in \u001b[0;36m<module>\u001b[0;34m()\u001b[0m\n\u001b[1;32m      5\u001b[0m \"\"\"\n\u001b[1;32m      6\u001b[0m \u001b[0;34m\u001b[0m\u001b[0m\n\u001b[0;32m----> 7\u001b[0;31m \u001b[0mf\u001b[0m \u001b[0;34m=\u001b[0m \u001b[0mopen\u001b[0m\u001b[0;34m(\u001b[0m\u001b[0;34m\"test1.txt\"\u001b[0m\u001b[0;34m,\u001b[0m \u001b[0;34m'xt'\u001b[0m\u001b[0;34m)\u001b[0m\u001b[0;34m\u001b[0m\u001b[0m\n\u001b[0m\u001b[1;32m      8\u001b[0m \u001b[0mf\u001b[0m\u001b[0;34m.\u001b[0m\u001b[0mwrite\u001b[0m\u001b[0;34m(\u001b[0m\u001b[0ms\u001b[0m\u001b[0;34m)\u001b[0m\u001b[0;34m\u001b[0m\u001b[0m\n\u001b[1;32m      9\u001b[0m \u001b[0mf\u001b[0m\u001b[0;34m.\u001b[0m\u001b[0mclose\u001b[0m\u001b[0;34m(\u001b[0m\u001b[0;34m)\u001b[0m\u001b[0;34m\u001b[0m\u001b[0m\n",
      "\u001b[0;31mFileExistsError\u001b[0m: [Errno 17] File exists: 'test1.txt'"
     ]
    }
   ],
   "source": [
    "s = \"\"\"dss\n",
    "dss7\n",
    "dss8\n",
    "\"\"\"\n",
    "\n",
    "f = open(\"test1.txt\", 'xt')\n",
    "f.write(s)\n",
    "f.close()"
   ]
  },
  {
   "cell_type": "code",
   "execution_count": 6,
   "metadata": {},
   "outputs": [],
   "source": [
    "s = \"\"\"dss\n",
    "dss7\n",
    "dss8\n",
    "\"\"\"\n",
    "\n",
    "f = open(\"test3.txt\", 'xt')\n",
    "f.write(s)\n",
    "f.close()"
   ]
  },
  {
   "cell_type": "markdown",
   "metadata": {},
   "source": [
    "### 2.2 바이너리 파일 쓰기\n",
    "- 객체를 저장할 때 사용\n",
    "- `bytes()`: 이진데이터로 형변환 시켜줌\n",
    "- 이진데이터로 저장하기: 옵션 wb"
   ]
  },
  {
   "cell_type": "code",
   "execution_count": 7,
   "metadata": {},
   "outputs": [
    {
     "data": {
      "text/plain": [
       "b'\\x00\\x01\\x02\\x03\\x04\\x05\\x06\\x07\\x08\\t'"
      ]
     },
     "execution_count": 7,
     "metadata": {},
     "output_type": "execute_result"
    }
   ],
   "source": [
    "data = bytes(range(0,10))\n",
    "data"
   ]
  },
  {
   "cell_type": "code",
   "execution_count": 8,
   "metadata": {},
   "outputs": [],
   "source": [
    "f = open(\"range.b\", \"wb\")\n",
    "f.write(data)\n",
    "f.close()"
   ]
  },
  {
   "cell_type": "markdown",
   "metadata": {},
   "source": [
    "## 3. 파일읽기 - read"
   ]
  },
  {
   "cell_type": "markdown",
   "metadata": {},
   "source": [
    "### 3.1 텍스트 파일 읽어오기 (옵션 : rt)"
   ]
  },
  {
   "cell_type": "markdown",
   "metadata": {},
   "source": [
    "#### (1) 텍스트 파일 모두 읽어오기 - read"
   ]
  },
  {
   "cell_type": "code",
   "execution_count": 9,
   "metadata": {},
   "outputs": [
    {
     "name": "stdout",
     "output_type": "stream",
     "text": [
      "data\n",
      "scicence\n",
      "professional\n",
      "\n"
     ]
    }
   ],
   "source": [
    "f = open(\"test1.txt\", 'rt')\n",
    "result = f.read()\n",
    "f.close()\n",
    "print(result)"
   ]
  },
  {
   "cell_type": "markdown",
   "metadata": {},
   "source": [
    "#### (2) 텍스트 파일 일부만 읽어오기"
   ]
  },
  {
   "cell_type": "code",
   "execution_count": 10,
   "metadata": {},
   "outputs": [
    {
     "name": "stdout",
     "output_type": "stream",
     "text": [
      "data\n",
      "scicence\n"
     ]
    }
   ],
   "source": [
    "f = open(\"test1.txt\", 'rt')\n",
    "result = f.read(13)     # 10자만 읽어옴\n",
    "f.close()\n",
    "print(result)"
   ]
  },
  {
   "cell_type": "markdown",
   "metadata": {},
   "source": [
    "#### (3) 텍스트 파일 한 줄 읽어오기 - readline"
   ]
  },
  {
   "cell_type": "code",
   "execution_count": 13,
   "metadata": {},
   "outputs": [
    {
     "name": "stdout",
     "output_type": "stream",
     "text": [
      "data\n",
      "scicence\n",
      "\n"
     ]
    }
   ],
   "source": [
    "f = open(\"test1.txt\", 'rt')\n",
    "result = f.readline()\n",
    "print(result, end=\"\")\n",
    "result = f.readline()\n",
    "f.close()\n",
    "print(result)"
   ]
  },
  {
   "cell_type": "markdown",
   "metadata": {},
   "source": [
    "for문 사용해서 두 줄 읽기"
   ]
  },
  {
   "cell_type": "code",
   "execution_count": 15,
   "metadata": {},
   "outputs": [
    {
     "name": "stdout",
     "output_type": "stream",
     "text": [
      "data\n",
      "scicence\n"
     ]
    }
   ],
   "source": [
    "f = open(\"test1.txt\", 'rt')\n",
    "for i in range(2):\n",
    "    result = f.readline()\n",
    "    print(result, end=\"\")\n",
    "f.close()"
   ]
  },
  {
   "cell_type": "markdown",
   "metadata": {},
   "source": [
    "while문 사용해서 끝까지 읽기"
   ]
  },
  {
   "cell_type": "code",
   "execution_count": 17,
   "metadata": {},
   "outputs": [
    {
     "name": "stdout",
     "output_type": "stream",
     "text": [
      "data\n",
      "scicence\n",
      "professional\n"
     ]
    }
   ],
   "source": [
    "f = open(\"test1.txt\", 'rt')\n",
    "while True:\n",
    "    result = f.readline()\n",
    "    if not result:\n",
    "        break\n",
    "    print(result, end=\"\")\n",
    "    \n",
    "f.close()"
   ]
  },
  {
   "cell_type": "markdown",
   "metadata": {},
   "source": [
    "### 3.2 바이너리 파일 읽어오기"
   ]
  },
  {
   "cell_type": "code",
   "execution_count": 20,
   "metadata": {},
   "outputs": [
    {
     "name": "stdout",
     "output_type": "stream",
     "text": [
      "[0, 1, 2, 3, 4, 5, 6, 7, 8, 9]\n"
     ]
    }
   ],
   "source": [
    "f = open(\"range.b\", \"rb\")\n",
    "data = f.read()\n",
    "print(list(data))\n",
    "f.close()"
   ]
  },
  {
   "cell_type": "markdown",
   "metadata": {},
   "source": [
    "## 4. 파일에 내용 추가하기 - a"
   ]
  },
  {
   "cell_type": "code",
   "execution_count": 21,
   "metadata": {},
   "outputs": [],
   "source": [
    "s = \"\\nschool\"\n",
    "f = open(\"test1.txt\", \"at\")\n",
    "f.write(s)\n",
    "f.close()"
   ]
  },
  {
   "cell_type": "code",
   "execution_count": 22,
   "metadata": {},
   "outputs": [
    {
     "name": "stdout",
     "output_type": "stream",
     "text": [
      "data\n",
      "scicence\n",
      "professional\n",
      "\n",
      "school\n"
     ]
    }
   ],
   "source": [
    "f = open(\"test1.txt\", \"rt\")\n",
    "print(f.read())\n",
    "f.close()"
   ]
  },
  {
   "cell_type": "markdown",
   "metadata": {},
   "source": [
    "## 5. with\n",
    "- with 구문이 끝나면 자동으로 close를 하여 파일을 읽고 쓸때 조금 더 편리"
   ]
  },
  {
   "cell_type": "code",
   "execution_count": 23,
   "metadata": {},
   "outputs": [
    {
     "name": "stdout",
     "output_type": "stream",
     "text": [
      "data\n",
      "scicence\n",
      "professional\n",
      "\n",
      "school\n"
     ]
    }
   ],
   "source": [
    "with open(\"test1.txt\", 'rt') as f:\n",
    "    s = f.read()\n",
    "    print(s)"
   ]
  },
  {
   "cell_type": "markdown",
   "metadata": {},
   "source": [
    "## 6. Pickle\n",
    "- 직렬화(serialization): 객체를 파일로 저장하는 것\n",
    "- pickle: 파이썬에서 직렬화를 통해 바이너리 형태의 데이터를 저장하고 복원하는 모듈\n",
    "    - 데이터, 객체 등 실행 중인 정보를 저장하고 다시 불러와서 사용\n",
    "    - 데이터 분석에서 분석모델을 저장하고 불러오는 등 많이 사용하게 됨\n",
    "- 이진타입으로 변환해서 입력하는 것보다 pickle이 더 빠름"
   ]
  },
  {
   "cell_type": "markdown",
   "metadata": {},
   "source": [
    "### 6.1 피클파일로 저장할 클래스 선언"
   ]
  },
  {
   "cell_type": "code",
   "execution_count": 24,
   "metadata": {},
   "outputs": [],
   "source": [
    "import pickle"
   ]
  },
  {
   "cell_type": "code",
   "execution_count": 25,
   "metadata": {},
   "outputs": [
    {
     "name": "stdout",
     "output_type": "stream",
     "text": [
      "pickle test\n"
     ]
    }
   ],
   "source": [
    "class A():\n",
    "    def __init__(self, data):\n",
    "        self.data = data\n",
    "    def disp(self):\n",
    "        print(self.data)\n",
    "\n",
    "        \n",
    "a = A(\"pickle test\")\n",
    "a.disp()"
   ]
  },
  {
   "cell_type": "markdown",
   "metadata": {},
   "source": [
    "### 6.2 pickle 파일로 객체를 저장\n",
    "- 문법: `pickle.dump(\"저장할 객체\", \"파일 객체\")`"
   ]
  },
  {
   "cell_type": "code",
   "execution_count": 26,
   "metadata": {},
   "outputs": [],
   "source": [
    "with open(\"obj.pkl\", \"wb\") as f:\n",
    "    pickle.dump(a, f)           "
   ]
  },
  {
   "cell_type": "markdown",
   "metadata": {},
   "source": [
    "### 6.3 pickle 파일 로드 하기"
   ]
  },
  {
   "cell_type": "code",
   "execution_count": 28,
   "metadata": {},
   "outputs": [
    {
     "data": {
      "text/plain": [
       "<__main__.A at 0x10c577da0>"
      ]
     },
     "execution_count": 28,
     "metadata": {},
     "output_type": "execute_result"
    }
   ],
   "source": [
    "with open(\"obj.pkl\", \"rb\") as f:\n",
    "    load_a = pickle.load(f)\n",
    "load_a"
   ]
  },
  {
   "cell_type": "markdown",
   "metadata": {},
   "source": [
    "### 6.4 로드한 피클파일 객체의 함수 실행하기"
   ]
  },
  {
   "cell_type": "code",
   "execution_count": 29,
   "metadata": {},
   "outputs": [
    {
     "name": "stdout",
     "output_type": "stream",
     "text": [
      "pickle test\n"
     ]
    },
    {
     "data": {
      "text/plain": [
       "(None, 'pickle test')"
      ]
     },
     "execution_count": 29,
     "metadata": {},
     "output_type": "execute_result"
    }
   ],
   "source": [
    "load_a.disp(), load_a.data"
   ]
  },
  {
   "cell_type": "markdown",
   "metadata": {},
   "source": [
    "#### 참고자료\n",
    "- 패스트캠퍼스, ⟪데이터사이언스스쿨 8기⟫ 수업자료\n",
    "- 인프런, ⟪프로그래밍, 데이터 과학을 위한 파이썬 입문⟫ 수업 자료"
   ]
  }
 ],
 "metadata": {
  "kernelspec": {
   "display_name": "Python 3",
   "language": "python",
   "name": "python3"
  },
  "language_info": {
   "codemirror_mode": {
    "name": "ipython",
    "version": 3
   },
   "file_extension": ".py",
   "mimetype": "text/x-python",
   "name": "python",
   "nbconvert_exporter": "python",
   "pygments_lexer": "ipython3",
   "version": "3.7.4"
  }
 },
 "nbformat": 4,
 "nbformat_minor": 4
}
