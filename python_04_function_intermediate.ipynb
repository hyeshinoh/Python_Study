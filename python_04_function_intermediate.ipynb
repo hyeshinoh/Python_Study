{
 "cells": [
  {
   "cell_type": "markdown",
   "metadata": {},
   "source": [
    "# **Python 04: Function - Intermediate**"
   ]
  },
  {
   "cell_type": "markdown",
   "metadata": {},
   "source": [
    "### 다룰 내용\n",
    "- scope: global / local  \n",
    "- inner function(익명함수): 외부로 내 함수를 노출시키고 싶지 않을 때 사용  \n",
    "- lambda function  \n",
    "- map, filter, reduce(재귀함수)  \n",
    "- decorater  "
   ]
  },
  {
   "cell_type": "markdown",
   "metadata": {},
   "source": [
    "## 1. 변수의 범위(Scoping Rule)\n",
    "- 변수가 사용되는 범위\n",
    "- global variable: 프로그램 전체에서 사용 \n",
    "- local variable: 함수 내에서만 사용"
   ]
  },
  {
   "cell_type": "markdown",
   "metadata": {},
   "source": [
    "### 1.1 global variable\n",
    "- 전역변수는 함수 내에서 사용이 가능함\n",
    "- but, 함수 내에 전역 변수와 같은 이름의 변수를 선언하면 새로운 지역 변수가 생김"
   ]
  },
  {
   "cell_type": "code",
   "execution_count": 1,
   "metadata": {},
   "outputs": [
    {
     "name": "stdout",
     "output_type": "stream",
     "text": [
      "10\n"
     ]
    }
   ],
   "source": [
    "gv = 10\n",
    "\n",
    "def print_gv():\n",
    "    print(gv)\n",
    "\n",
    "print_gv()"
   ]
  },
  {
   "cell_type": "markdown",
   "metadata": {},
   "source": [
    "### 1.2 local variable"
   ]
  },
  {
   "cell_type": "code",
   "execution_count": 3,
   "metadata": {},
   "outputs": [
    {
     "name": "stdout",
     "output_type": "stream",
     "text": [
      "100\n",
      "10\n"
     ]
    }
   ],
   "source": [
    "gv = 10\n",
    "def print_gv():\n",
    "    gv = 100\n",
    "    print(gv)    # local 영역의 gv\n",
    "\n",
    "print_gv(), \n",
    "print(gv)        # global 영역의 gv = 10"
   ]
  },
  {
   "cell_type": "markdown",
   "metadata": {},
   "source": [
    "#### (1) locals(): 로컬 영역에 선언되어 있는 변수를 호출"
   ]
  },
  {
   "cell_type": "code",
   "execution_count": 4,
   "metadata": {},
   "outputs": [],
   "source": [
    "#locals 가 실행되는 위치에서 local이므로 global영역에서 실행하면 global 변수가 나옴\n",
    "\n",
    "gv = 10\n",
    "\n",
    "def print_gv(gv):\n",
    "    gv = 100\n",
    "    gv2 = 200\n",
    "    print(locals())"
   ]
  },
  {
   "cell_type": "code",
   "execution_count": 5,
   "metadata": {},
   "outputs": [
    {
     "name": "stdout",
     "output_type": "stream",
     "text": [
      "{'gv': 100, 'gv2': 200}\n"
     ]
    }
   ],
   "source": [
    "print_gv(gv)"
   ]
  },
  {
   "cell_type": "markdown",
   "metadata": {},
   "source": [
    "#### (2) globals(): 글로벌 영역에 선언되어 있는 변수를 호출"
   ]
  },
  {
   "cell_type": "code",
   "execution_count": 6,
   "metadata": {},
   "outputs": [
    {
     "name": "stdout",
     "output_type": "stream",
     "text": [
      "{'__name__': '__main__', '__doc__': 'Automatically created module for IPython interactive environment', '__package__': None, '__loader__': None, '__spec__': None, '__builtin__': <module 'builtins' (built-in)>, '__builtins__': <module 'builtins' (built-in)>, '_ih': ['', 'gv = 10\\n\\ndef print_gv():\\n    print(gv)\\n\\nprint_gv()', 'gv = 10\\ndef print_gv():\\n    gv = 100\\n    print(gv)    # local 영역의 gv\\n\\nprint_gv(), print(gv)        # global 영역의 gv = 10', 'gv = 10\\ndef print_gv():\\n    gv = 100\\n    print(gv)    # local 영역의 gv\\n\\nprint_gv(), \\nprint(gv)        # global 영역의 gv = 10', '#locals 가 실행되는 위치에서 local이므로 global영역에서 실행하면 global 변수가 나옴\\n\\ngv = 10\\n\\ndef print_gv(gv):\\n    gv = 100\\n    gv2 = 200\\n    print(locals())', 'print_gv(gv)', 'print(globals())'], '_oh': {2: (None, None)}, '_dh': ['/Users/hyeshinoh/Workspace/Study_Python'], 'In': ['', 'gv = 10\\n\\ndef print_gv():\\n    print(gv)\\n\\nprint_gv()', 'gv = 10\\ndef print_gv():\\n    gv = 100\\n    print(gv)    # local 영역의 gv\\n\\nprint_gv(), print(gv)        # global 영역의 gv = 10', 'gv = 10\\ndef print_gv():\\n    gv = 100\\n    print(gv)    # local 영역의 gv\\n\\nprint_gv(), \\nprint(gv)        # global 영역의 gv = 10', '#locals 가 실행되는 위치에서 local이므로 global영역에서 실행하면 global 변수가 나옴\\n\\ngv = 10\\n\\ndef print_gv(gv):\\n    gv = 100\\n    gv2 = 200\\n    print(locals())', 'print_gv(gv)', 'print(globals())'], 'Out': {2: (None, None)}, 'get_ipython': <bound method InteractiveShell.get_ipython of <ipykernel.zmqshell.ZMQInteractiveShell object at 0x7fac247555d0>>, 'exit': <IPython.core.autocall.ZMQExitAutocall object at 0x7fac2476fad0>, 'quit': <IPython.core.autocall.ZMQExitAutocall object at 0x7fac2476fad0>, '_': (None, None), '__': '', '___': '', 'np': <module 'numpy' from '/Users/hyeshinoh/.pyenv/versions/anaconda3-2019.10/lib/python3.7/site-packages/numpy/__init__.py'>, 'sp': <module 'scipy' from '/Users/hyeshinoh/.pyenv/versions/anaconda3-2019.10/lib/python3.7/site-packages/scipy/__init__.py'>, 'pd': <module 'pandas' from '/Users/hyeshinoh/.pyenv/versions/anaconda3-2019.10/lib/python3.7/site-packages/pandas/__init__.py'>, 'sm': <module 'statsmodels.api' from '/Users/hyeshinoh/.pyenv/versions/anaconda3-2019.10/lib/python3.7/site-packages/statsmodels/api.py'>, 'smf': <module 'statsmodels.formula.api' from '/Users/hyeshinoh/.pyenv/versions/anaconda3-2019.10/lib/python3.7/site-packages/statsmodels/formula/api.py'>, 'sms': <module 'statsmodels.stats.api' from '/Users/hyeshinoh/.pyenv/versions/anaconda3-2019.10/lib/python3.7/site-packages/statsmodels/stats/api.py'>, 'sk': <module 'sklearn' from '/Users/hyeshinoh/.pyenv/versions/anaconda3-2019.10/lib/python3.7/site-packages/sklearn/__init__.py'>, 'mpl': <module 'matplotlib' from '/Users/hyeshinoh/.pyenv/versions/anaconda3-2019.10/lib/python3.7/site-packages/matplotlib/__init__.py'>, 'plt': <module 'matplotlib.pyplot' from '/Users/hyeshinoh/.pyenv/versions/anaconda3-2019.10/lib/python3.7/site-packages/matplotlib/pyplot.py'>, 'Axes3D': <class 'mpl_toolkits.mplot3d.axes3d.Axes3D'>, 'sns': <module 'seaborn' from '/Users/hyeshinoh/.pyenv/versions/anaconda3-2019.10/lib/python3.7/site-packages/seaborn/__init__.py'>, '_i': 'print_gv(gv)', '_ii': '#locals 가 실행되는 위치에서 local이므로 global영역에서 실행하면 global 변수가 나옴\\n\\ngv = 10\\n\\ndef print_gv(gv):\\n    gv = 100\\n    gv2 = 200\\n    print(locals())', '_iii': 'gv = 10\\ndef print_gv():\\n    gv = 100\\n    print(gv)    # local 영역의 gv\\n\\nprint_gv(), \\nprint(gv)        # global 영역의 gv = 10', '_i1': 'gv = 10\\n\\ndef print_gv():\\n    print(gv)\\n\\nprint_gv()', 'gv': 10, 'print_gv': <function print_gv at 0x7fac286019e0>, '_i2': 'gv = 10\\ndef print_gv():\\n    gv = 100\\n    print(gv)    # local 영역의 gv\\n\\nprint_gv(), print(gv)        # global 영역의 gv = 10', '_2': (None, None), '_i3': 'gv = 10\\ndef print_gv():\\n    gv = 100\\n    print(gv)    # local 영역의 gv\\n\\nprint_gv(), \\nprint(gv)        # global 영역의 gv = 10', '_i4': '#locals 가 실행되는 위치에서 local이므로 global영역에서 실행하면 global 변수가 나옴\\n\\ngv = 10\\n\\ndef print_gv(gv):\\n    gv = 100\\n    gv2 = 200\\n    print(locals())', '_i5': 'print_gv(gv)', '_i6': 'print(globals())'}\n"
     ]
    }
   ],
   "source": [
    "print(globals())"
   ]
  },
  {
   "cell_type": "code",
   "execution_count": 7,
   "metadata": {},
   "outputs": [
    {
     "data": {
      "text/plain": [
       "(dict, 10)"
      ]
     },
     "execution_count": 7,
     "metadata": {},
     "output_type": "execute_result"
    }
   ],
   "source": [
    "type(globals()), globals()['gv']"
   ]
  },
  {
   "cell_type": "markdown",
   "metadata": {},
   "source": [
    "### 1.3 local 영역에서 global 변수의 변경"
   ]
  },
  {
   "cell_type": "markdown",
   "metadata": {},
   "source": [
    "함수 내에서 전역변수 사용히 global 키워드를 사용"
   ]
  },
  {
   "cell_type": "code",
   "execution_count": 8,
   "metadata": {},
   "outputs": [],
   "source": [
    "gv = 10\n",
    "\n",
    "def dss():\n",
    "    global gv    # local영역의 gv → global영역의 gv 변수\n",
    "    gv = 100\n",
    "    print(gv)"
   ]
  },
  {
   "cell_type": "markdown",
   "metadata": {},
   "source": [
    "dss() 함수 실행 후 gv는 100으로 변경됨"
   ]
  },
  {
   "cell_type": "code",
   "execution_count": 9,
   "metadata": {},
   "outputs": [
    {
     "data": {
      "text/plain": [
       "10"
      ]
     },
     "execution_count": 9,
     "metadata": {},
     "output_type": "execute_result"
    }
   ],
   "source": [
    "gv"
   ]
  },
  {
   "cell_type": "code",
   "execution_count": 10,
   "metadata": {},
   "outputs": [
    {
     "name": "stdout",
     "output_type": "stream",
     "text": [
      "100\n"
     ]
    }
   ],
   "source": [
    "dss()"
   ]
  },
  {
   "cell_type": "code",
   "execution_count": 11,
   "metadata": {},
   "outputs": [
    {
     "data": {
      "text/plain": [
       "100"
      ]
     },
     "execution_count": 11,
     "metadata": {},
     "output_type": "execute_result"
    }
   ],
   "source": [
    "gv"
   ]
  },
  {
   "cell_type": "markdown",
   "metadata": {},
   "source": [
    "## 2. Inner function\n",
    "- global: 전역변수, 전역함수 / local: 지역변수, 지역함수\n",
    "- 전역함수 내에 지역함수를 선언할 수 있음 (inner function)\n",
    "- local 영역에 함수를 숨겨서 global영역에서 사용할 수 없도록 함\n",
    "- local 영역에 함수를 선언하면 함수가 실행될 때 메모리상에 올라가서 실행되기 때문에 메모리 절약\n",
    "    - global 영역에 선언하면 그 함수가 계속 메모리에 올라간 상태(상주)로 실행이 되는 것 (호출이 되지 않더라도)\n",
    "- decorator에 inner function 이해가 필수적"
   ]
  },
  {
   "cell_type": "code",
   "execution_count": 12,
   "metadata": {},
   "outputs": [
    {
     "data": {
      "text/plain": [
       "3"
      ]
     },
     "execution_count": 12,
     "metadata": {},
     "output_type": "execute_result"
    }
   ],
   "source": [
    "def outer(a, b):\n",
    "    def inner(c, d):      # local function - 숨겨져 있음, outer 함수 내에서만 사용 가능\n",
    "        return c + d\n",
    "    return inner(a, b)    # 결과를 리턴: 3\n",
    "\n",
    "outer(1, 2)"
   ]
  },
  {
   "cell_type": "code",
   "execution_count": 18,
   "metadata": {},
   "outputs": [],
   "source": [
    "# 외부에서 inner function을 사용하려면 함수를(결과값이 아니라) 호출\n",
    "def outer(a, b):\n",
    "    def inner(c, d):\n",
    "        return c + d\n",
    "    return inner\n",
    "\n",
    "i = outer(1, 2)    # 왜 1과 2를 넣는가?"
   ]
  },
  {
   "cell_type": "code",
   "execution_count": 19,
   "metadata": {},
   "outputs": [
    {
     "data": {
      "text/plain": [
       "6"
      ]
     },
     "execution_count": 19,
     "metadata": {},
     "output_type": "execute_result"
    }
   ],
   "source": [
    "i(2, 4)"
   ]
  },
  {
   "cell_type": "markdown",
   "metadata": {},
   "source": [
    "inner()를 바로 호출하면 error 메세지가 뜸"
   ]
  },
  {
   "cell_type": "code",
   "execution_count": 20,
   "metadata": {},
   "outputs": [
    {
     "ename": "NameError",
     "evalue": "name 'inner' is not defined",
     "output_type": "error",
     "traceback": [
      "\u001b[0;31m---------------------------------------\u001b[0m",
      "\u001b[0;31mNameError\u001b[0mTraceback (most recent call last)",
      "\u001b[0;32m<ipython-input-20-5051cd321f58>\u001b[0m in \u001b[0;36m<module>\u001b[0;34m\u001b[0m\n\u001b[0;32m----> 1\u001b[0;31m \u001b[0minner\u001b[0m\u001b[0;34m(\u001b[0m\u001b[0;36m1\u001b[0m\u001b[0;34m,\u001b[0m \u001b[0;36m2\u001b[0m\u001b[0;34m)\u001b[0m\u001b[0;34m\u001b[0m\u001b[0;34m\u001b[0m\u001b[0m\n\u001b[0m",
      "\u001b[0;31mNameError\u001b[0m: name 'inner' is not defined"
     ]
    }
   ],
   "source": [
    "inner(1, 2)"
   ]
  },
  {
   "cell_type": "markdown",
   "metadata": {},
   "source": [
    "## 3. lambda function\n",
    "- 함수의 이름 없이, 간단한 파라미터를 받아서 리턴해주는 함수를 만들어 줌\n",
    "- python3부터는 권장하지는 않으나 여전히 많이 쓰임  \n",
    "- 문법: `lambda <parameters> : <return_value>`"
   ]
  },
  {
   "cell_type": "markdown",
   "metadata": {},
   "source": [
    "### 3.1 General function과 lambda function의 차이"
   ]
  },
  {
   "cell_type": "markdown",
   "metadata": {},
   "source": [
    "**General Function**"
   ]
  },
  {
   "cell_type": "code",
   "execution_count": 20,
   "metadata": {},
   "outputs": [
    {
     "data": {
      "text/plain": [
       "3"
      ]
     },
     "execution_count": 20,
     "metadata": {},
     "output_type": "execute_result"
    }
   ],
   "source": [
    "def sum_func(a, b):\n",
    "    return a + b\n",
    "\n",
    "sum_func(1, 2)"
   ]
  },
  {
   "cell_type": "markdown",
   "metadata": {},
   "source": [
    "**Lambda Function**"
   ]
  },
  {
   "cell_type": "code",
   "execution_count": 24,
   "metadata": {},
   "outputs": [
    {
     "data": {
      "text/plain": [
       "3"
      ]
     },
     "execution_count": 24,
     "metadata": {},
     "output_type": "execute_result"
    }
   ],
   "source": [
    "sum_func2 = lambda a, b: a + b\n",
    "sum_func2(1, 2)"
   ]
  },
  {
   "cell_type": "code",
   "execution_count": 25,
   "metadata": {},
   "outputs": [
    {
     "data": {
      "text/plain": [
       "function"
      ]
     },
     "execution_count": 25,
     "metadata": {},
     "output_type": "execute_result"
    }
   ],
   "source": [
    "type(sum_func2)"
   ]
  },
  {
   "cell_type": "markdown",
   "metadata": {},
   "source": [
    "### 3.2 Lambda function 예시\n",
    "\n",
    "계산기 기능을 함수로 구현하는 예시로 lambda function의 활용도를 살펴보자"
   ]
  },
  {
   "cell_type": "markdown",
   "metadata": {},
   "source": [
    "General function을 사용하여 계산기 기능을 만드려면 다음과 같이 해야 함"
   ]
  },
  {
   "cell_type": "code",
   "execution_count": 26,
   "metadata": {},
   "outputs": [
    {
     "data": {
      "text/plain": [
       "(3, -1)"
      ]
     },
     "execution_count": 26,
     "metadata": {},
     "output_type": "execute_result"
    }
   ],
   "source": [
    "def calc(fn, a, b):\n",
    "    return fn(a, b)\n",
    "\n",
    "def sum_func(a, b):\n",
    "    return a + b\n",
    "\n",
    "def minus_func(a, b):\n",
    "    return a - b\n",
    "\n",
    "calc(sum_func, 1, 2), calc(minus_func, 1, 2)    # 함수를 변수처럼 던져줄 수 있음"
   ]
  },
  {
   "cell_type": "markdown",
   "metadata": {},
   "source": [
    "Lambda function을 이용하면 lambda function을 선언하면서 함수에 넣어줌 → 한줄로 쓸 수 있음\n",
    "- global 영역에 함수를 만들어주지 않아도 되어 메모리 효율 높음\n",
    "- 하지만 간단한 함수만 가능  "
   ]
  },
  {
   "cell_type": "code",
   "execution_count": 27,
   "metadata": {},
   "outputs": [
    {
     "data": {
      "text/plain": [
       "(3, -1)"
      ]
     },
     "execution_count": 27,
     "metadata": {},
     "output_type": "execute_result"
    }
   ],
   "source": [
    "calc(lambda a, b: a + b, 1, 2), calc(lambda a, b: a - b, 1, 2)"
   ]
  },
  {
   "cell_type": "markdown",
   "metadata": {},
   "source": [
    "## 4. Map, Filter, Reduce\n",
    "list의 element에 함수를 적용하는 세 가지 방법인 map, filter, reduce에 대하여 알아보자"
   ]
  },
  {
   "cell_type": "markdown",
   "metadata": {},
   "source": [
    "### 4.1 Map\n",
    "- 함수와 sequence 자료형을 받아 sequence 각 element에 함수를 적용한 결과를 리턴하는 함수\n",
    "- 문법: `map(<function>, *<list>)` \n",
    "- python3은 iteration을 생성 → list 형변환 을 해주어야 함\n",
    "    - generator: 실행시점에 값을 생성, 메모리 효율적"
   ]
  },
  {
   "cell_type": "markdown",
   "metadata": {},
   "source": [
    "#### list의 element에서 각각 1을 빼주기"
   ]
  },
  {
   "cell_type": "code",
   "execution_count": 28,
   "metadata": {},
   "outputs": [],
   "source": [
    "ls = [1, 2, 3, 4, 5]\n",
    "\n",
    "def minus_one(num):\n",
    "    return num - 1"
   ]
  },
  {
   "cell_type": "markdown",
   "metadata": {},
   "source": [
    "일반 함수로 구현"
   ]
  },
  {
   "cell_type": "code",
   "execution_count": 29,
   "metadata": {},
   "outputs": [
    {
     "data": {
      "text/plain": [
       "[0, 1, 2, 3, 4]"
      ]
     },
     "execution_count": 29,
     "metadata": {},
     "output_type": "execute_result"
    }
   ],
   "source": [
    "result = []\n",
    "for value in ls:\n",
    "    result.append(minus_one(value))\n",
    "    \n",
    "result"
   ]
  },
  {
   "cell_type": "markdown",
   "metadata": {},
   "source": [
    "map 함수 사용"
   ]
  },
  {
   "cell_type": "code",
   "execution_count": 31,
   "metadata": {},
   "outputs": [
    {
     "data": {
      "text/plain": [
       "[0, 1, 2, 3, 4]"
      ]
     },
     "execution_count": 31,
     "metadata": {},
     "output_type": "execute_result"
    }
   ],
   "source": [
    "result = list(map(minus_one, ls))\n",
    "result"
   ]
  },
  {
   "cell_type": "code",
   "execution_count": 32,
   "metadata": {},
   "outputs": [
    {
     "data": {
      "text/plain": [
       "[0, 1, 2, 3, 4]"
      ]
     },
     "execution_count": 32,
     "metadata": {},
     "output_type": "execute_result"
    }
   ],
   "source": [
    "# lambda 사용시 함수 선언해줄 필요 없음\n",
    "result = list(map(lambda num: num - 1, ls))\n",
    "result"
   ]
  },
  {
   "cell_type": "code",
   "execution_count": 33,
   "metadata": {},
   "outputs": [
    {
     "data": {
      "text/plain": [
       "[6, 8, 10, 12]"
      ]
     },
     "execution_count": 33,
     "metadata": {},
     "output_type": "execute_result"
    }
   ],
   "source": [
    "# parameter를 두 개 넣는 것도 가능\n",
    "ls1 = [1, 2, 3, 4]\n",
    "ls2 = [5, 6, 7, 8]\n",
    "\n",
    "result = list(map(lambda num1, num2: num1 + num2, ls1, ls2))\n",
    "result"
   ]
  },
  {
   "cell_type": "markdown",
   "metadata": {},
   "source": [
    "#### quiz"
   ]
  },
  {
   "cell_type": "markdown",
   "metadata": {},
   "source": [
    "##### (1) names에서 성만 출력하기"
   ]
  },
  {
   "cell_type": "code",
   "execution_count": 34,
   "metadata": {},
   "outputs": [
    {
     "data": {
      "text/plain": [
       "['Kim', 'Park', 'Lee', 'Jung']"
      ]
     },
     "execution_count": 34,
     "metadata": {},
     "output_type": "execute_result"
    }
   ],
   "source": [
    "names = [\"Kim dss\", \"Park python\", \"Lee science\", \"Jung school\"]\n",
    "\n",
    "result = list(map(lambda name: name.split()[0], names))\n",
    "result"
   ]
  },
  {
   "cell_type": "markdown",
   "metadata": {},
   "source": [
    "##### (2) 1~10까지의 숫자리스트에서 홀수는 odd, 짝수는 even을 dict 타입(key, value 형태)으로 출력하기"
   ]
  },
  {
   "cell_type": "code",
   "execution_count": 35,
   "metadata": {},
   "outputs": [
    {
     "data": {
      "text/plain": [
       "{1: 'odd',\n",
       " 2: 'even',\n",
       " 3: 'odd',\n",
       " 4: 'even',\n",
       " 5: 'odd',\n",
       " 6: 'even',\n",
       " 7: 'odd',\n",
       " 8: 'even',\n",
       " 9: 'odd',\n",
       " 10: 'even'}"
      ]
     },
     "execution_count": 35,
     "metadata": {},
     "output_type": "execute_result"
    }
   ],
   "source": [
    "# general function 이용\n",
    "num_list = list(range(1, 11))\n",
    "\n",
    "def odd_or_even(num):\n",
    "    if num % 2 == 0:\n",
    "        return \"even\"\n",
    "    else:\n",
    "        return \"odd\"\n",
    "    \n",
    "result = dict(zip(num_list, list(map(odd_or_even, num_list))))\n",
    "result"
   ]
  },
  {
   "cell_type": "code",
   "execution_count": 37,
   "metadata": {},
   "outputs": [
    {
     "data": {
      "text/plain": [
       "{1: 'odd',\n",
       " 2: 'even',\n",
       " 3: 'odd',\n",
       " 4: 'even',\n",
       " 5: 'odd',\n",
       " 6: 'even',\n",
       " 7: 'odd',\n",
       " 8: 'even',\n",
       " 9: 'odd',\n",
       " 10: 'even'}"
      ]
     },
     "execution_count": 37,
     "metadata": {},
     "output_type": "execute_result"
    }
   ],
   "source": [
    "# lambda function 이용\n",
    "num_list = list(range(1, 11))\n",
    "\n",
    "result = list(map(lambda num: \"even\" if num % 2 == 0 else \"odd\", num_list))\n",
    "result = dict(zip(num_list, result))\n",
    "result"
   ]
  },
  {
   "cell_type": "markdown",
   "metadata": {},
   "source": [
    "##### (3) map 함수를 직접 구현하기"
   ]
  },
  {
   "cell_type": "code",
   "execution_count": 41,
   "metadata": {
    "scrolled": true
   },
   "outputs": [
    {
     "data": {
      "text/plain": [
       "[15, 18, 21, 24]"
      ]
     },
     "execution_count": 41,
     "metadata": {},
     "output_type": "execute_result"
    }
   ],
   "source": [
    "# 가장 어려운 퀴즈: 꼭 다시 풀어보면서 연습해보기\n",
    "ls1 = [1, 2, 3, 4]\n",
    "ls2 = [5, 6, 7, 8]\n",
    "ls3 = [9,10,11,12]\n",
    "\n",
    "def sum_func1(*args):\n",
    "    return sum(args)\n",
    "\n",
    "def map_func(func, *args):\n",
    "    result = []\n",
    "    # 가장 짧은 리스트의 길이 결정\n",
    "    values_count = len(args[0])             \n",
    "    for idx in range(len(args)):\n",
    "         values_count = values_count if values_count < len(args[idx]) else len(args[idx])\n",
    "    # 2중for문: 리스트에서 하나씩 묶어오기\n",
    "    params_count = len(args)                # 리스트의 개수: 3\n",
    "    for idx_1 in range(values_count):\n",
    "        params = []\n",
    "        for idx_2 in range(params_count):\n",
    "            params.append(args[idx_2][idx_1])   \n",
    "        result.append(func(*params))\n",
    "    return result\n",
    "        \n",
    "map_func(sum_func1, ls1, ls2, ls3)\n",
    "\n",
    "# expected result: [15, 18, 21, 24]"
   ]
  },
  {
   "cell_type": "markdown",
   "metadata": {},
   "source": [
    "### 4.2 Filter\n",
    "- 리스트 데이터에서 조건에 맞는 value 데이터를 필터링 해주는 함수\n",
    "- Filter에 사용되는 함수는 bool 데이터 타입을 리턴 값으로 사용 (True / False)\n",
    "    - 함수의 리턴 값이 True이면 값이 남아 있고 False이면 값을 제거\n",
    "- 문법: `filter(<function>, <list(iterable)>)`"
   ]
  },
  {
   "cell_type": "markdown",
   "metadata": {},
   "source": [
    "General function 사용해서 리스트에서 짝수만 출력하기"
   ]
  },
  {
   "cell_type": "code",
   "execution_count": 43,
   "metadata": {},
   "outputs": [
    {
     "name": "stdout",
     "output_type": "stream",
     "text": [
      "[0, 1, 2, 3, 4, 5, 6, 7, 8, 9]\n"
     ]
    },
    {
     "data": {
      "text/plain": [
       "[0, 2, 4, 6, 8]"
      ]
     },
     "execution_count": 43,
     "metadata": {},
     "output_type": "execute_result"
    }
   ],
   "source": [
    "def get_even(number_list):\n",
    "    result = []\n",
    "    for number in number_list:\n",
    "        if number % 2 == 0:\n",
    "            result.append(number)\n",
    "    return result\n",
    "\n",
    "number_list = list(range(10))\n",
    "print(number_list)\n",
    "get_even(number_list)"
   ]
  },
  {
   "cell_type": "markdown",
   "metadata": {},
   "source": [
    "Filter function 사용해서 리스트에서 홀수만 출력하기"
   ]
  },
  {
   "cell_type": "code",
   "execution_count": 44,
   "metadata": {},
   "outputs": [
    {
     "data": {
      "text/plain": [
       "[1, 3, 5]"
      ]
     },
     "execution_count": 44,
     "metadata": {},
     "output_type": "execute_result"
    }
   ],
   "source": [
    "ls = [1, 2, 3, 4, 5]\n",
    "\n",
    "result = list(filter(lambda num: True if num % 2 == 1 else False, ls))\n",
    "result"
   ]
  },
  {
   "cell_type": "markdown",
   "metadata": {},
   "source": [
    "#### quiz"
   ]
  },
  {
   "cell_type": "markdown",
   "metadata": {},
   "source": [
    "##### (1) 성이 lee인 사람의 이름만 결과로 출력"
   ]
  },
  {
   "cell_type": "code",
   "execution_count": 45,
   "metadata": {},
   "outputs": [
    {
     "data": {
      "text/plain": [
       "['Lee science', 'Lee java']"
      ]
     },
     "execution_count": 45,
     "metadata": {},
     "output_type": "execute_result"
    }
   ],
   "source": [
    "names = [\"Kim dss\", \"Park python\", \"Lee science\", \"Jung school\", \"Lee java\"]\n",
    "\n",
    "result = list(filter(lambda name: name.split()[0] == \"Lee\", names)) \n",
    "result"
   ]
  },
  {
   "cell_type": "markdown",
   "metadata": {},
   "source": [
    "##### (2) 이름 첫글자를 대문자로 바꾸고 성이 Lee인 사람의 이름만 결과로 출력"
   ]
  },
  {
   "cell_type": "code",
   "execution_count": 46,
   "metadata": {},
   "outputs": [
    {
     "data": {
      "text/plain": [
       "['Lee science', 'Lee java']"
      ]
     },
     "execution_count": 46,
     "metadata": {},
     "output_type": "execute_result"
    }
   ],
   "source": [
    "names = [\"Kim dss\", \"park python\", \"lee science\", \"Jung school\", \"lee java\"]\n",
    "\n",
    "# names = list(map(lambda name: name[:1].upper() + name[1:], names))\n",
    "names = list(map(lambda name: name.capitalize(), names))\n",
    "result = list(filter(lambda name: name.split()[0] == \"Lee\", names)) \n",
    "\n",
    "result"
   ]
  },
  {
   "cell_type": "markdown",
   "metadata": {},
   "source": [
    "##### (3) 1-10에서 짝수를 필터링하는 함수 & 홀수를 필터링하는 함수를 적용하여 filter 구현"
   ]
  },
  {
   "cell_type": "code",
   "execution_count": 47,
   "metadata": {},
   "outputs": [
    {
     "data": {
      "text/plain": [
       "([1, 3, 5, 7, 9], [2, 4, 6, 8, 10])"
      ]
     },
     "execution_count": 47,
     "metadata": {},
     "output_type": "execute_result"
    }
   ],
   "source": [
    "ls = list(range(1,11))\n",
    "\n",
    "def odd(number):             # 홀수이면 True return\n",
    "    return number % 2 == 1\n",
    "\n",
    "def even(number):            # 짝수이면 True return\n",
    "    return number % 2 == 0\n",
    "\n",
    "is_odd_even = {              # 함수도 딕셔너리의 value가 될 수 있음\n",
    "    \"odd\":odd,\n",
    "    \"even\":even,\n",
    "}\n",
    "\n",
    "\n",
    "def filter_func(func, data_list):\n",
    "    result = []\n",
    "    for data in data_list:\n",
    "        if func(data):\n",
    "            result.append(data)\n",
    "    return result\n",
    "\n",
    "result_1 = list(filter_func(is_odd_even[\"odd\"], ls))          # 딕셔너리 key값으로 함수 호출\n",
    "result_2 = list(filter_func(is_odd_even[\"even\"], ls))\n",
    "\n",
    "result_1, result_2"
   ]
  },
  {
   "cell_type": "markdown",
   "metadata": {},
   "source": [
    "### 4.3 Reduce\n",
    "- 특정 함수에 리스트 데이터의 첫 element부터 넣고 실행하고 실행결과를 다시 함수의 파라미터로 넣어 함수를 실행, 결국 하나의 값으로 리턴\n",
    "- 문법: `reduce(<function>, <list>)`\n",
    "- function의 parameter가 두 개"
   ]
  },
  {
   "cell_type": "code",
   "execution_count": 48,
   "metadata": {},
   "outputs": [],
   "source": [
    "from functools import reduce"
   ]
  },
  {
   "cell_type": "code",
   "execution_count": 49,
   "metadata": {},
   "outputs": [
    {
     "data": {
      "text/plain": [
       "15"
      ]
     },
     "execution_count": 49,
     "metadata": {},
     "output_type": "execute_result"
    }
   ],
   "source": [
    "ls = [1, 2, 3, 4, 5]\n",
    "\n",
    "reduce(lambda x, y: x + y, ls)"
   ]
  },
  {
   "cell_type": "code",
   "execution_count": 50,
   "metadata": {},
   "outputs": [
    {
     "data": {
      "text/plain": [
       "8"
      ]
     },
     "execution_count": 50,
     "metadata": {},
     "output_type": "execute_result"
    }
   ],
   "source": [
    "ls = [1, 2, 5, 8, 3, 4, 7]\n",
    "\n",
    "# 가장 큰 수를 구하기\n",
    "reduce(lambda x, y: x if x > y else y, ls)"
   ]
  },
  {
   "cell_type": "markdown",
   "metadata": {},
   "source": [
    "#### quiz"
   ]
  },
  {
   "cell_type": "markdown",
   "metadata": {},
   "source": [
    "##### (1) 이름 길이가 가장 긴 사람을 출력하기"
   ]
  },
  {
   "cell_type": "code",
   "execution_count": 51,
   "metadata": {},
   "outputs": [
    {
     "name": "stdout",
     "output_type": "stream",
     "text": [
      "Jung fastschool\n"
     ]
    }
   ],
   "source": [
    "name_list = [\"Kim dss\", \"Park python\", \"lee science\", \"Jung fastschool\", \"Lee java\"]\n",
    "# TODO\n",
    "result = reduce(lambda x, y: x if len(x) > len(y) else y, name_list)\n",
    "print(result)"
   ]
  },
  {
   "cell_type": "markdown",
   "metadata": {},
   "source": [
    "##### (2) reduce 함수 구현하기"
   ]
  },
  {
   "cell_type": "code",
   "execution_count": 53,
   "metadata": {},
   "outputs": [
    {
     "data": {
      "text/plain": [
       "55"
      ]
     },
     "execution_count": 53,
     "metadata": {},
     "output_type": "execute_result"
    }
   ],
   "source": [
    "ls = [1,2,3,4,5,6,7,8,9,10]\n",
    "\n",
    "def reduce_func(func, data_list):\n",
    "    result = data_list[0]\n",
    "    for i in range(1, len(data_list)):\n",
    "        result = func(result, data_list[i])\n",
    "    return result\n",
    "\n",
    "reduce_func(lambda num1, num2: num1 + num2, ls)"
   ]
  },
  {
   "cell_type": "code",
   "execution_count": 54,
   "metadata": {},
   "outputs": [
    {
     "data": {
      "text/plain": [
       "55"
      ]
     },
     "execution_count": 54,
     "metadata": {},
     "output_type": "execute_result"
    }
   ],
   "source": [
    "ls = [1,2,3,4,5,6,7,8,9,10]\n",
    "\n",
    "def reduce_func(func, data_list):\n",
    "    result = data_list[0]\n",
    "    del data_list[0]\n",
    "    \n",
    "    for data in data_list:\n",
    "        result = func(result, data)\n",
    "    return result\n",
    "\n",
    "reduce_func(lambda num1, num2: num1 + num2, ls)"
   ]
  },
  {
   "cell_type": "markdown",
   "metadata": {},
   "source": [
    "## 5. Decorator\n",
    "- 코드를 바꾸지 않고 함수의 기능을 추가하거나 수정하고 싶을때 사용\n",
    "- 여러개의 함수를 작성하는데 공통된 코드를 뽑아서 묶어 사용할 수 있음\n",
    "- `*args`와 `**kwargs`를 이용하여 내부함수와 내부 인자로 사용"
   ]
  },
  {
   "cell_type": "markdown",
   "metadata": {},
   "source": [
    "예를 들어, 아래 A와 B함수에서 공통된 부분인 code_1과 code_3을 빼서 묶어 사용하고 싶을 때 사용"
   ]
  },
  {
   "cell_type": "code",
   "execution_count": 55,
   "metadata": {},
   "outputs": [],
   "source": [
    "def A():\n",
    "    code_1\n",
    "    code_2\n",
    "    code_3\n",
    "    \n",
    "def B():\n",
    "    code_1\n",
    "    code_4\n",
    "    code_3"
   ]
  },
  {
   "cell_type": "markdown",
   "metadata": {},
   "source": [
    "#### Decorator 사용 방법"
   ]
  },
  {
   "cell_type": "code",
   "execution_count": null,
   "metadata": {},
   "outputs": [],
   "source": [
    "def C(func):\n",
    "    def wrapper(*args, **kwargs)             # inner function\n",
    "        code_1\n",
    "        result = func(*args, **kwargs)\n",
    "        code_3\n",
    "        return result\n",
    "    return wrapper\n",
    "\n",
    "@C\n",
    "def A():\n",
    "    code_2\n",
    "\n",
    "@C\n",
    "def B():\n",
    "    code_4\n",
    "    \n",
    "\"\"\"\n",
    "결과:\n",
    "A() - code1, code2, code3\n",
    "B() - code1, code4, code3\n",
    "\n",
    "decorator를 쓰지 않으면 아래 처럼 써야함\n",
    "C(A)()\n",
    "\"\"\""
   ]
  },
  {
   "cell_type": "markdown",
   "metadata": {},
   "source": [
    "#### Decorator 함수 만들어보기: 더하기와 빼기 연산을 display하기"
   ]
  },
  {
   "cell_type": "code",
   "execution_count": 56,
   "metadata": {},
   "outputs": [],
   "source": [
    "# A\n",
    "def sum_func(a, b):\n",
    "    return a + b      "
   ]
  },
  {
   "cell_type": "code",
   "execution_count": 57,
   "metadata": {},
   "outputs": [],
   "source": [
    "# B\n",
    "def minus_func(a, b):\n",
    "    return a - b"
   ]
  },
  {
   "cell_type": "code",
   "execution_count": 58,
   "metadata": {},
   "outputs": [],
   "source": [
    "# C  \n",
    "def disp_func(func):\n",
    "    def wrapper(*args, **kwargs):\n",
    "        print(\"running function :\", func.__name__)     # 공통부분\n",
    "        print(\"args :\", args)                          # 공통부분\n",
    "        print(\"kwargs :\", kwargs)                      # 공통부분\n",
    "        result = func(*args, **kwargs)                 # running func\n",
    "        print(\"result :\", result)                      # 공통부분\n",
    "        return result                                  # 공통부분\n",
    "    return wrapper"
   ]
  },
  {
   "cell_type": "code",
   "execution_count": 59,
   "metadata": {
    "scrolled": true
   },
   "outputs": [
    {
     "data": {
      "text/plain": [
       "(3, -1)"
      ]
     },
     "execution_count": 59,
     "metadata": {},
     "output_type": "execute_result"
    }
   ],
   "source": [
    "# 함수 그대로를 호출하면\n",
    "sum_func(1, 2), minus_func(1, 2)"
   ]
  },
  {
   "cell_type": "code",
   "execution_count": 69,
   "metadata": {
    "scrolled": true
   },
   "outputs": [
    {
     "name": "stdout",
     "output_type": "stream",
     "text": [
      "running function : sum_func\n",
      "args : (1, 2)\n",
      "kwargs : {}\n",
      "result : 3\n"
     ]
    },
    {
     "data": {
      "text/plain": [
       "3"
      ]
     },
     "execution_count": 69,
     "metadata": {},
     "output_type": "execute_result"
    }
   ],
   "source": [
    "# display를 하고 싶으면 decorator를 이용: sum_func() 함수를 호출할 때 disp_func가 추가되어 실행\n",
    "\n",
    "@disp_func\n",
    "def sum_func(a, b):\n",
    "    return a + b   \n",
    "\n",
    "sum_func(1, 2)"
   ]
  },
  {
   "cell_type": "code",
   "execution_count": 61,
   "metadata": {},
   "outputs": [
    {
     "name": "stdout",
     "output_type": "stream",
     "text": [
      "running function : minus_func\n",
      "args : (1, 2)\n",
      "kwargs : {}\n",
      "result : -1\n"
     ]
    },
    {
     "data": {
      "text/plain": [
       "-1"
      ]
     },
     "execution_count": 61,
     "metadata": {},
     "output_type": "execute_result"
    }
   ],
   "source": [
    "@disp_func\n",
    "def minus_func(a, b):\n",
    "    return a - b   \n",
    "\n",
    "minus_func(1, 2)"
   ]
  },
  {
   "cell_type": "code",
   "execution_count": 62,
   "metadata": {},
   "outputs": [
    {
     "name": "stdout",
     "output_type": "stream",
     "text": [
      "running function : sum_int\n",
      "args : (5, 7)\n",
      "kwargs : {}\n",
      "result : 12\n"
     ]
    },
    {
     "data": {
      "text/plain": [
       "12"
      ]
     },
     "execution_count": 62,
     "metadata": {},
     "output_type": "execute_result"
    }
   ],
   "source": [
    "# 데코레이터를 안 쓰고 수동으로 선언\n",
    "def sum_int(*args):\n",
    "    return sum(args)\n",
    "\n",
    "new_sum_int = disp_func(sum_int)\n",
    "new_sum_int(5, 7)"
   ]
  },
  {
   "cell_type": "code",
   "execution_count": 63,
   "metadata": {},
   "outputs": [
    {
     "name": "stdout",
     "output_type": "stream",
     "text": [
      "running function : sum_int\n",
      "args : (5, 7)\n",
      "kwargs : {}\n",
      "result : 12\n"
     ]
    },
    {
     "data": {
      "text/plain": [
       "12"
      ]
     },
     "execution_count": 63,
     "metadata": {},
     "output_type": "execute_result"
    }
   ],
   "source": [
    "disp_func(sum_int)(5, 7)"
   ]
  },
  {
   "cell_type": "markdown",
   "metadata": {},
   "source": [
    "#### 함수의 실행 시간을 측정하는 데코레이터 함수"
   ]
  },
  {
   "cell_type": "code",
   "execution_count": 21,
   "metadata": {},
   "outputs": [],
   "source": [
    "import time\n",
    "\n",
    "def run_time(func):\n",
    "    def wrapper(*args, **kwargs):            # 함수 정의부 packing\n",
    "        start_time = time.time()\n",
    "        result = func(*args, **kwargs)       # 함수 호출부 unpacking\n",
    "        end_time = time.time()\n",
    "        print(\"time : {time}\".format(time = end_time - start_time))\n",
    "        return result\n",
    "    return wrapper "
   ]
  },
  {
   "cell_type": "code",
   "execution_count": 22,
   "metadata": {},
   "outputs": [],
   "source": [
    "@run_time\n",
    "def sum_func(ls):\n",
    "    return sum(ls)"
   ]
  },
  {
   "cell_type": "code",
   "execution_count": 23,
   "metadata": {},
   "outputs": [
    {
     "name": "stdout",
     "output_type": "stream",
     "text": [
      "time : 4.792213439941406e-05\n"
     ]
    },
    {
     "data": {
      "text/plain": [
       "49995000"
      ]
     },
     "execution_count": 23,
     "metadata": {},
     "output_type": "execute_result"
    }
   ],
   "source": [
    "ls = list(range(10000))\n",
    "sum_func(ls)"
   ]
  },
  {
   "cell_type": "code",
   "execution_count": 24,
   "metadata": {},
   "outputs": [],
   "source": [
    "@run_time\n",
    "def pow_func(a, b):\n",
    "    return a ** b"
   ]
  },
  {
   "cell_type": "code",
   "execution_count": 25,
   "metadata": {
    "scrolled": true
   },
   "outputs": [
    {
     "name": "stdout",
     "output_type": "stream",
     "text": [
      "time : 4.0531158447265625e-06\n"
     ]
    },
    {
     "data": {
      "text/plain": [
       "3234476509624757991344647769100216810857203198904625400933895331391691459636928060001"
      ]
     },
     "execution_count": 25,
     "metadata": {},
     "output_type": "execute_result"
    }
   ],
   "source": [
    "pow_func(7, 100)"
   ]
  },
  {
   "cell_type": "markdown",
   "metadata": {},
   "source": [
    "#### 관리자 계정을 확인해서 관리자 계정이면 패스워드를 출력하는 함수"
   ]
  },
  {
   "cell_type": "code",
   "execution_count": null,
   "metadata": {},
   "outputs": [],
   "source": [
    "@admin - code1, func, code3\n",
    "def dss():\n",
    "    \n",
    "@admin\n",
    "def test():"
   ]
  },
  {
   "cell_type": "code",
   "execution_count": 70,
   "metadata": {},
   "outputs": [],
   "source": [
    "admin_ls = [\"pdf\", \"dss\"]\n",
    "pw = \"dss8\"   "
   ]
  },
  {
   "cell_type": "code",
   "execution_count": 71,
   "metadata": {},
   "outputs": [],
   "source": [
    "def admin(func):\n",
    "    def wrapper(*args, **kwargs):\n",
    "        user_id = func(*args, **kwargs)\n",
    "        if user_id in admin_ls:\n",
    "            print(\"allow permission [pw:{}]\".format(pw))\n",
    "        else:\n",
    "            print(\"you are not admin.\")\n",
    "    return wrapper                  "
   ]
  },
  {
   "cell_type": "code",
   "execution_count": 72,
   "metadata": {},
   "outputs": [],
   "source": [
    "@admin\n",
    "def input_user():\n",
    "    return input(\"insert user name: \")"
   ]
  },
  {
   "cell_type": "code",
   "execution_count": 73,
   "metadata": {},
   "outputs": [
    {
     "name": "stdin",
     "output_type": "stream",
     "text": [
      "insert user name:  3\n"
     ]
    },
    {
     "name": "stdout",
     "output_type": "stream",
     "text": [
      "you are not admin.\n"
     ]
    }
   ],
   "source": [
    "input_user()"
   ]
  },
  {
   "cell_type": "code",
   "execution_count": 78,
   "metadata": {},
   "outputs": [],
   "source": [
    "user_id = {\n",
    "    1:\"dss\",\n",
    "    2:\"data\",\n",
    "    3:\"python\",\n",
    "}\n",
    "\n",
    "@admin\n",
    "def input_id():\n",
    "    user_num = int(input(\"inser user id: \"))\n",
    "    return user_id[user_num]        "
   ]
  },
  {
   "cell_type": "code",
   "execution_count": 80,
   "metadata": {},
   "outputs": [
    {
     "name": "stdin",
     "output_type": "stream",
     "text": [
      "inser user id:  1\n"
     ]
    },
    {
     "name": "stdout",
     "output_type": "stream",
     "text": [
      "allow permission [pw:dss8]\n"
     ]
    }
   ],
   "source": [
    "input_id()"
   ]
  },
  {
   "cell_type": "markdown",
   "metadata": {},
   "source": [
    "#### 참고자료\n",
    "- 패스트캠퍼스, ⟪데이터사이언스스쿨 8기⟫ 수업자료\n",
    "- 인프런, ⟪프로그래밍, 데이터 과학을 위한 파이썬 입문⟫ 수업 자료"
   ]
  }
 ],
 "metadata": {
  "kernelspec": {
   "display_name": "Python 3",
   "language": "python",
   "name": "python3"
  },
  "language_info": {
   "codemirror_mode": {
    "name": "ipython",
    "version": 3
   },
   "file_extension": ".py",
   "mimetype": "text/x-python",
   "name": "python",
   "nbconvert_exporter": "python",
   "pygments_lexer": "ipython3",
   "version": "3.7.4"
  }
 },
 "nbformat": 4,
 "nbformat_minor": 4
}
