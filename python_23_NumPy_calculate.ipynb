{
 "cells": [
  {
   "cell_type": "markdown",
   "metadata": {},
   "source": [
    "# **NumPy - Calculate**\n",
    "\n",
    "NumPy를 이용해 배열의 연산을 하는 기본적인 방법에 대해 알아보자. 면면이 파고들어가면 공부할 내용이 많은 부분이지만 여기서는 우선 기초적인 내용만을 다뤄보자! \n",
    "\n",
    "#### 다룰 내용\n",
    "1. Basic calculate\n",
    "2. Broadcasting\n",
    "3. Functions\n",
    "4. Performance 비교"
   ]
  },
  {
   "cell_type": "code",
   "execution_count": 1,
   "metadata": {},
   "outputs": [],
   "source": [
    "import numpy as np"
   ]
  },
  {
   "cell_type": "markdown",
   "metadata": {},
   "source": [
    "## **1. Basic calculation**"
   ]
  },
  {
   "cell_type": "markdown",
   "metadata": {},
   "source": [
    "### 1.1 사칙연산"
   ]
  },
  {
   "cell_type": "markdown",
   "metadata": {},
   "source": [
    "먼저 간단하게 list와 numpy에서 계산이 어떻게 다른지 비교해보자. <br>\n",
    "list 자료형에서는 더하기(`+`)는 2개의 리스트를 합치는 기능을 하고, 곱하기(`*`)를 사용하면 곱한 수만큼 element를 반복해서 연결한 list를 만들어낸다."
   ]
  },
  {
   "cell_type": "code",
   "execution_count": 7,
   "metadata": {},
   "outputs": [
    {
     "name": "stdout",
     "output_type": "stream",
     "text": [
      "[1, 2, 3, 1, 2, 3]\n",
      "[1, 2, 3, 1, 2, 3, 1, 2, 3]\n"
     ]
    }
   ],
   "source": [
    "ls = [1, 2, 3]\n",
    "print(ls + ls)\n",
    "print(ls * 3)"
   ]
  },
  {
   "cell_type": "markdown",
   "metadata": {},
   "source": [
    "반면, NumPy에서 `*`, `+`, `-` 등 연산자는 ndarray에 있는 magic method로, list와는 달리 각 element에 해당 계산을 해준다."
   ]
  },
  {
   "cell_type": "code",
   "execution_count": 9,
   "metadata": {
    "scrolled": true
   },
   "outputs": [
    {
     "data": {
      "text/plain": [
       "array([3, 6, 9])"
      ]
     },
     "execution_count": 9,
     "metadata": {},
     "output_type": "execute_result"
    }
   ],
   "source": [
    "na1 = np.array([1, 2, 3])\n",
    "na1 * 3"
   ]
  },
  {
   "cell_type": "code",
   "execution_count": 4,
   "metadata": {},
   "outputs": [
    {
     "data": {
      "text/plain": [
       "array([0, 1, 2])"
      ]
     },
     "execution_count": 4,
     "metadata": {},
     "output_type": "execute_result"
    }
   ],
   "source": [
    "na1 - 1"
   ]
  },
  {
   "cell_type": "code",
   "execution_count": 6,
   "metadata": {},
   "outputs": [
    {
     "data": {
      "text/plain": [
       "array([5, 7, 9])"
      ]
     },
     "execution_count": 6,
     "metadata": {},
     "output_type": "execute_result"
    }
   ],
   "source": [
    "na2 = np.array([4, 5, 6])\n",
    "na1 + na2 "
   ]
  },
  {
   "cell_type": "markdown",
   "metadata": {},
   "source": [
    "NumPy에서 vector나 matrix간에 사칙연산을 하면, 같은 위치의 원소끼리 계산이 이뤄진다. 이렇게 되려면 당연하게도 계산하려는 vector나 matrix가 형태가 같아야 한다. "
   ]
  },
  {
   "cell_type": "code",
   "execution_count": 14,
   "metadata": {},
   "outputs": [
    {
     "name": "stdout",
     "output_type": "stream",
     "text": [
      "array3 : \n",
      "[[0 1 2]\n",
      " [3 4 5]]\n",
      "array3 : \n",
      "[[ 6  7  8]\n",
      " [ 9 10 11]]\n",
      "multiplied : \n",
      "[[ 0  7 16]\n",
      " [27 40 55]]\n"
     ]
    }
   ],
   "source": [
    "na3 = np.arange(6).reshape(2,3)\n",
    "na4 = np.arange(6, 12).reshape(2, 3)\n",
    "print(\"array3 : \\n{}\".format(na3))\n",
    "print(\"array3 : \\n{}\".format(na4)) \n",
    "print(\"multiplied : \\n{}\".format(na3*na4))"
   ]
  },
  {
   "cell_type": "markdown",
   "metadata": {},
   "source": [
    "### 1.2 비교연산"
   ]
  },
  {
   "cell_type": "markdown",
   "metadata": {},
   "source": [
    "NumPy에서는 다음과 같이 비교연산이 가능하다."
   ]
  },
  {
   "cell_type": "markdown",
   "metadata": {},
   "source": [
    "#### (1) array 내의 원소 비교연산"
   ]
  },
  {
   "cell_type": "code",
   "execution_count": 19,
   "metadata": {},
   "outputs": [
    {
     "name": "stdout",
     "output_type": "stream",
     "text": [
      "na1: [1 2 3 4 5]\n",
      "na2: [1 3 3 4 4]\n",
      "[False  True False False False]\n",
      "[False False False False False]\n"
     ]
    }
   ],
   "source": [
    "print(\"na1:\", na1)\n",
    "print(\"na2:\", na2)\n",
    "\n",
    "print(na1 == 2)\n",
    "print(na2 > 4)"
   ]
  },
  {
   "cell_type": "markdown",
   "metadata": {},
   "source": [
    "#### (2) `all`: 전체리스트 비교하기 (원소별이 아니라 array 전체의 비교 연산)"
   ]
  },
  {
   "cell_type": "code",
   "execution_count": 20,
   "metadata": {},
   "outputs": [
    {
     "name": "stdout",
     "output_type": "stream",
     "text": [
      "False\n",
      "True\n"
     ]
    }
   ],
   "source": [
    "na1 = np.array([1, 2, 3, 4, 5])\n",
    "na2 = np.array([1, 3, 3, 4, 4])\n",
    "na3 = np.array([1, 2, 3, 4, 5])\n",
    "\n",
    "print(np.all(na1 == na2))\n",
    "print(np.all(na1 == na3))"
   ]
  },
  {
   "cell_type": "markdown",
   "metadata": {},
   "source": [
    "### 1.3 필터링\n",
    "비교연산 등을 통한 True / False 리스트를 offset으로 넣어주면 True인 데이터만 필터링할 수 있다."
   ]
  },
  {
   "cell_type": "code",
   "execution_count": 22,
   "metadata": {},
   "outputs": [
    {
     "name": "stdout",
     "output_type": "stream",
     "text": [
      "na1: [1 2 3 4 5]\n",
      "na2: [1 3 3 4 4]\n",
      "[2]\n",
      "[]\n"
     ]
    }
   ],
   "source": [
    "print(\"na1:\", na1)\n",
    "print(\"na2:\", na2)\n",
    "\n",
    "print(na1[na1 == 2])\n",
    "print(na2[na2 > 4])"
   ]
  },
  {
   "cell_type": "code",
   "execution_count": 23,
   "metadata": {},
   "outputs": [
    {
     "name": "stdout",
     "output_type": "stream",
     "text": [
      "[0 1 2 3 4 5 6 7 8 9]\n",
      "[0 3 6 9]\n"
     ]
    }
   ],
   "source": [
    "# 3의 배수만 출력하기\n",
    "na3 = np.arange(10)\n",
    "print(na3)\n",
    "print(na3[na3 % 3 == 0])"
   ]
  },
  {
   "cell_type": "code",
   "execution_count": 24,
   "metadata": {},
   "outputs": [
    {
     "data": {
      "text/plain": [
       "array([3, 5])"
      ]
     },
     "execution_count": 24,
     "metadata": {},
     "output_type": "execute_result"
    }
   ],
   "source": [
    "# 두 array를 위치별로 비교하여 필터링\n",
    "ls1 = np.array([1, 2, 3, 4, 5])\n",
    "ls2 = np.array([0, 1, 3, 0, 5])\n",
    "ls1[ls1 == ls2]"
   ]
  },
  {
   "cell_type": "markdown",
   "metadata": {},
   "source": [
    "## **2. Broadcasting**"
   ]
  },
  {
   "cell_type": "markdown",
   "metadata": {},
   "source": [
    "### 2.1 vector/matrix와 scalar의 사칙연산\n",
    "vector/matrix의 각 element에 해당 연산을 수행한다."
   ]
  },
  {
   "cell_type": "code",
   "execution_count": 26,
   "metadata": {},
   "outputs": [
    {
     "data": {
      "text/plain": [
       "array([2, 4, 6])"
      ]
     },
     "execution_count": 26,
     "metadata": {},
     "output_type": "execute_result"
    }
   ],
   "source": [
    "na = np.array([1, 2, 3])\n",
    "na * 2"
   ]
  },
  {
   "cell_type": "code",
   "execution_count": 29,
   "metadata": {},
   "outputs": [
    {
     "name": "stdout",
     "output_type": "stream",
     "text": [
      "na: \n",
      "[[ 0  1  2  3]\n",
      " [ 4  5  6  7]\n",
      " [ 8  9 10 11]] \n",
      "\n",
      "na에 + 1을 하면: \n",
      "[[ 1  2  3  4]\n",
      " [ 5  6  7  8]\n",
      " [ 9 10 11 12]]\n"
     ]
    }
   ],
   "source": [
    "na = np.array(range(12)).reshape(3, 4)\n",
    "print(\"na: \\n{} \\n\".format(na))\n",
    "print(\"na에 + 1을 하면: \\n{}\".format(na + 1))"
   ]
  },
  {
   "cell_type": "markdown",
   "metadata": {},
   "source": [
    "### 2.2 matrix와 vector의 사칙연산\n",
    "행/열 vector를 matrix의 각 행/열에 연산한다."
   ]
  },
  {
   "cell_type": "code",
   "execution_count": 30,
   "metadata": {},
   "outputs": [
    {
     "name": "stdout",
     "output_type": "stream",
     "text": [
      "na: \n",
      "[[ 0  1  2  3]\n",
      " [ 4  5  6  7]\n",
      " [ 8  9 10 11]]\n",
      "\n",
      "na1: \n",
      "[0 1 2 3]\n",
      "\n",
      "na + na1: \n",
      "[[ 0  2  4  6]\n",
      " [ 4  6  8 10]\n",
      " [ 8 10 12 14]]\n"
     ]
    }
   ],
   "source": [
    "na1 = np.array(range(4))\n",
    "print(\"na: \\n{}\\n\".format(na))\n",
    "print(\"na1: \\n{}\\n\".format(na1))\n",
    "print(\"na + na1: \\n{}\".format(na + na1))"
   ]
  },
  {
   "cell_type": "code",
   "execution_count": 31,
   "metadata": {},
   "outputs": [
    {
     "name": "stdout",
     "output_type": "stream",
     "text": [
      "na: \n",
      "[[ 0  1  2  3]\n",
      " [ 4  5  6  7]\n",
      " [ 8  9 10 11]]\n",
      "\n",
      "na2: \n",
      "[[0]\n",
      " [1]\n",
      " [2]]\n",
      "\n",
      "na + na2: \n",
      "[[ 0  1  2  3]\n",
      " [ 5  6  7  8]\n",
      " [10 11 12 13]]\n"
     ]
    }
   ],
   "source": [
    "na2 = np.array(range(3))[:, np.newaxis]  # `np.newaxis` 행/렬을 바꿔줌\n",
    "print(\"na: \\n{}\\n\".format(na))\n",
    "print(\"na2: \\n{}\\n\".format(na2))\n",
    "print(\"na + na2: \\n{}\".format(na + na2))"
   ]
  },
  {
   "cell_type": "markdown",
   "metadata": {},
   "source": [
    "## **3. Function**"
   ]
  },
  {
   "cell_type": "markdown",
   "metadata": {},
   "source": [
    "### 3.1 min, max, argmin, argmax\n",
    "- min, max: 최소값, 최대값\n",
    "- argmin, argmax: 최소값, 최대값의 위치 index"
   ]
  },
  {
   "cell_type": "code",
   "execution_count": 2,
   "metadata": {},
   "outputs": [
    {
     "data": {
      "text/plain": [
       "array([[5, 4, 5],\n",
       "       [9, 4, 6]])"
      ]
     },
     "execution_count": 2,
     "metadata": {},
     "output_type": "execute_result"
    }
   ],
   "source": [
    "na = np.random.randint(10, size=(2, 3))\n",
    "na"
   ]
  },
  {
   "cell_type": "code",
   "execution_count": 5,
   "metadata": {
    "scrolled": true
   },
   "outputs": [
    {
     "name": "stdout",
     "output_type": "stream",
     "text": [
      "최소값, 최대값: 4, 9\n"
     ]
    }
   ],
   "source": [
    "print(\"최소값, 최대값: {}, {}\".format(na.min(), na.max()))"
   ]
  },
  {
   "cell_type": "code",
   "execution_count": 4,
   "metadata": {},
   "outputs": [
    {
     "name": "stdout",
     "output_type": "stream",
     "text": [
      "최소값 index, 최대값 index: 1, 3\n"
     ]
    }
   ],
   "source": [
    "print(\"최소값 index, 최대값 index: {}, {}\".format(na.argmin(), na.argmax()))"
   ]
  },
  {
   "cell_type": "markdown",
   "metadata": {},
   "source": [
    "### 3.2 sum, mean, median, std, var"
   ]
  },
  {
   "cell_type": "markdown",
   "metadata": {},
   "source": [
    "#### (1) sum"
   ]
  },
  {
   "cell_type": "code",
   "execution_count": 6,
   "metadata": {},
   "outputs": [
    {
     "data": {
      "text/plain": [
       "array([[5, 4, 5],\n",
       "       [9, 4, 6]])"
      ]
     },
     "execution_count": 6,
     "metadata": {},
     "output_type": "execute_result"
    }
   ],
   "source": [
    "na"
   ]
  },
  {
   "cell_type": "code",
   "execution_count": 7,
   "metadata": {},
   "outputs": [
    {
     "name": "stdout",
     "output_type": "stream",
     "text": [
      "33\n",
      "[14  8 11]\n",
      "[14 19]\n"
     ]
    }
   ],
   "source": [
    "print(np.sum(na))          # 모든 요소의 값을 더함\n",
    "print(np.sum(na, axis=0))  # 컬럼끼리 더해짐 (0번째 축인 행 방향으로 더함)\n",
    "print(np.sum(na, axis=1))  # 로우끼리 더해짐 (1번째 축인 열 방향으로 더함)"
   ]
  },
  {
   "cell_type": "markdown",
   "metadata": {},
   "source": [
    "#### (2) mean, median"
   ]
  },
  {
   "cell_type": "code",
   "execution_count": 8,
   "metadata": {},
   "outputs": [
    {
     "name": "stdout",
     "output_type": "stream",
     "text": [
      "5.5\n",
      "5.0\n"
     ]
    }
   ],
   "source": [
    "print(np.mean(na))\n",
    "print(np.median(na))"
   ]
  },
  {
   "cell_type": "markdown",
   "metadata": {},
   "source": [
    "#### (3) std, var"
   ]
  },
  {
   "cell_type": "code",
   "execution_count": 9,
   "metadata": {},
   "outputs": [
    {
     "name": "stdout",
     "output_type": "stream",
     "text": [
      "1.707825127659933\n",
      "2.9166666666666665\n"
     ]
    }
   ],
   "source": [
    "print(np.std(na))\n",
    "print(np.var(na))"
   ]
  },
  {
   "cell_type": "markdown",
   "metadata": {},
   "source": [
    "### 3.3 all, any"
   ]
  },
  {
   "cell_type": "markdown",
   "metadata": {},
   "source": [
    "- 단순 비교연산: array의 각 요소끼리(같은 위치) 비교함\n",
    "- `all`: 하나라도 false이면 false (and 와 유사)  (값만 비교함, not 주소값)\n",
    "- `any`: 하나라도 true이면 true (or 와 유사)"
   ]
  },
  {
   "cell_type": "code",
   "execution_count": 45,
   "metadata": {},
   "outputs": [
    {
     "name": "stdout",
     "output_type": "stream",
     "text": [
      "na1: [1 2 3]\n",
      "na2: [1 2 3]\n",
      "na3: [1 0 3]\n"
     ]
    }
   ],
   "source": [
    "na1 = np.array([1, 2, 3])\n",
    "na2 = na1\n",
    "na3 = np.array([1, 0, 3])\n",
    "print(\"na1: {}\".format(na1))\n",
    "print(\"na2: {}\".format(na2))\n",
    "print(\"na3: {}\".format(na3))"
   ]
  },
  {
   "cell_type": "code",
   "execution_count": 46,
   "metadata": {},
   "outputs": [
    {
     "name": "stdout",
     "output_type": "stream",
     "text": [
      "[ True  True  True]\n",
      "[ True False  True]\n"
     ]
    }
   ],
   "source": [
    "# 단순 비교연산\n",
    "print(na1 == na2)\n",
    "print(na2 == na3)"
   ]
  },
  {
   "cell_type": "code",
   "execution_count": 42,
   "metadata": {},
   "outputs": [
    {
     "name": "stdout",
     "output_type": "stream",
     "text": [
      "True\n",
      "False\n"
     ]
    }
   ],
   "source": [
    "# all\n",
    "print(np.all(na1 == na2))\n",
    "print(np.all(na1 == na3))"
   ]
  },
  {
   "cell_type": "code",
   "execution_count": 38,
   "metadata": {},
   "outputs": [
    {
     "name": "stdout",
     "output_type": "stream",
     "text": [
      "False\n",
      "False\n"
     ]
    },
    {
     "name": "stderr",
     "output_type": "stream",
     "text": [
      "C:\\Users\\datateam\\Anaconda3\\lib\\site-packages\\ipykernel_launcher.py:2: DeprecationWarning: elementwise == comparison failed; this will raise an error in the future.\n",
      "  \n",
      "C:\\Users\\datateam\\Anaconda3\\lib\\site-packages\\ipykernel_launcher.py:3: DeprecationWarning: elementwise == comparison failed; this will raise an error in the future.\n",
      "  This is separate from the ipykernel package so we can avoid doing imports until\n"
     ]
    }
   ],
   "source": [
    "# any\n",
    "print(np.any(na == na2))\n",
    "print(np.any(na == na3))"
   ]
  },
  {
   "cell_type": "markdown",
   "metadata": {},
   "source": [
    "### 3.4 분위수"
   ]
  },
  {
   "cell_type": "code",
   "execution_count": 39,
   "metadata": {},
   "outputs": [
    {
     "data": {
      "text/plain": [
       "array([  0,   1,   2,   3,   4,   5,   6,   7,   8,   9,  10,  11,  12,\n",
       "        13,  14,  15,  16,  17,  18,  19,  20,  21,  22,  23,  24,  25,\n",
       "        26,  27,  28,  29,  30,  31,  32,  33,  34,  35,  36,  37,  38,\n",
       "        39,  40,  41,  42,  43,  44,  45,  46,  47,  48,  49,  50,  51,\n",
       "        52,  53,  54,  55,  56,  57,  58,  59,  60,  61,  62,  63,  64,\n",
       "        65,  66,  67,  68,  69,  70,  71,  72,  73,  74,  75,  76,  77,\n",
       "        78,  79,  80,  81,  82,  83,  84,  85,  86,  87,  88,  89,  90,\n",
       "        91,  92,  93,  94,  95,  96,  97,  98,  99, 100])"
      ]
     },
     "execution_count": 39,
     "metadata": {},
     "output_type": "execute_result"
    }
   ],
   "source": [
    "# 100등분을 해야하기 때문에 1이 아니라 0부터 시작되어야 함\n",
    "na = np.arange(0, 101)     \n",
    "na"
   ]
  },
  {
   "cell_type": "code",
   "execution_count": 40,
   "metadata": {},
   "outputs": [
    {
     "data": {
      "text/plain": [
       "25.0"
      ]
     },
     "execution_count": 40,
     "metadata": {},
     "output_type": "execute_result"
    }
   ],
   "source": [
    "np.percentile(na, 25)    # 4분위수"
   ]
  },
  {
   "cell_type": "markdown",
   "metadata": {},
   "source": [
    "### 3.5 지수함수와 로그함수"
   ]
  },
  {
   "cell_type": "code",
   "execution_count": 41,
   "metadata": {},
   "outputs": [
    {
     "data": {
      "text/plain": [
       "array([1, 2, 3, 4, 5])"
      ]
     },
     "execution_count": 41,
     "metadata": {},
     "output_type": "execute_result"
    }
   ],
   "source": [
    "na = np.arange(1, 6)\n",
    "na"
   ]
  },
  {
   "cell_type": "markdown",
   "metadata": {},
   "source": [
    "#### (1) 지수함수(exponential function) - scale up"
   ]
  },
  {
   "cell_type": "code",
   "execution_count": 42,
   "metadata": {
    "scrolled": true
   },
   "outputs": [
    {
     "data": {
      "text/plain": [
       "array([  2.71828183,   7.3890561 ,  20.08553692,  54.59815003,\n",
       "       148.4131591 ])"
      ]
     },
     "execution_count": 42,
     "metadata": {},
     "output_type": "execute_result"
    }
   ],
   "source": [
    "# 밑이 e(오일러 넘버)인 지수함수\n",
    "np.exp(na)"
   ]
  },
  {
   "cell_type": "markdown",
   "metadata": {},
   "source": [
    "#### (2) 로그함수(log function) - scale down"
   ]
  },
  {
   "cell_type": "code",
   "execution_count": 43,
   "metadata": {},
   "outputs": [
    {
     "data": {
      "text/plain": [
       "array([0.        , 0.69314718, 1.09861229, 1.38629436, 1.60943791])"
      ]
     },
     "execution_count": 43,
     "metadata": {},
     "output_type": "execute_result"
    }
   ],
   "source": [
    "# 밑이 e(오일러 넘버)인 로그함수\n",
    "np.log(na)"
   ]
  },
  {
   "cell_type": "code",
   "execution_count": 44,
   "metadata": {},
   "outputs": [
    {
     "data": {
      "text/plain": [
       "(1.0, 1.0)"
      ]
     },
     "execution_count": 44,
     "metadata": {},
     "output_type": "execute_result"
    }
   ],
   "source": [
    "# 밑이 다른 로그함수는 다른 함수를 사용\n",
    "np.log10(10), np.log2(2)"
   ]
  },
  {
   "cell_type": "markdown",
   "metadata": {},
   "source": [
    "## **4. Performance 비교**"
   ]
  },
  {
   "cell_type": "markdown",
   "metadata": {},
   "source": [
    "list에 비해 numpy array의 연산 속도가 정말 더 빠른지, 10**7 까지의 리스트에서 3과 5의 배수의 개수를 찾는 연산에 걸리는 시간을 비교해보자"
   ]
  },
  {
   "cell_type": "code",
   "execution_count": 45,
   "metadata": {},
   "outputs": [
    {
     "data": {
      "text/plain": [
       "10000000"
      ]
     },
     "execution_count": 45,
     "metadata": {},
     "output_type": "execute_result"
    }
   ],
   "source": [
    "ls = []\n",
    "size = int(1E7) # (10의 7제곱)\n",
    "ls = [num for num in range(size)]\n",
    "len(ls)"
   ]
  },
  {
   "cell_type": "code",
   "execution_count": 46,
   "metadata": {},
   "outputs": [
    {
     "data": {
      "text/plain": [
       "10000000"
      ]
     },
     "execution_count": 46,
     "metadata": {},
     "output_type": "execute_result"
    }
   ],
   "source": [
    "na = np.arange(size)\n",
    "len(na)"
   ]
  },
  {
   "cell_type": "code",
   "execution_count": 69,
   "metadata": {},
   "outputs": [
    {
     "name": "stdout",
     "output_type": "stream",
     "text": [
      "Wall time: 3.3 s\n"
     ]
    }
   ],
   "source": [
    "%%time\n",
    "count = 0\n",
    "for idx in ls:\n",
    "    if (ls[idx] % 3 ==0) or (ls[idx] % 5 == 0):\n",
    "        count += 1\n",
    "count        "
   ]
  },
  {
   "cell_type": "code",
   "execution_count": 70,
   "metadata": {},
   "outputs": [
    {
     "name": "stdout",
     "output_type": "stream",
     "text": [
      "Wall time: 295 ms\n"
     ]
    }
   ],
   "source": [
    "%%time\n",
    "count = len(na[(na % 3 ==0) | (na % 5 ==0)])   # array를 필터링해서 요소의 개수 구함\n",
    "count"
   ]
  },
  {
   "cell_type": "markdown",
   "metadata": {},
   "source": [
    "테스트 결과 list에서 3과 5의 배수 개수를 찾는데는 3.3초, numpy array에서는 295 ms가 걸렸다. 단순 비교했을 때 numpy 연산이 10배 이상 빨랐던 것!"
   ]
  },
  {
   "cell_type": "markdown",
   "metadata": {},
   "source": [
    "#### 참고자료\n",
    "- NumPy v1.16 Manual [(https://docs.scipy.org/doc/numpy/index.html)](https://docs.scipy.org/doc/numpy/index.html)\n",
    "- 패스트캠퍼스, ⟪데이터사이언스스쿨 8기⟫ 수업자료"
   ]
  }
 ],
 "metadata": {
  "kernelspec": {
   "display_name": "Python 3",
   "language": "python",
   "name": "python3"
  },
  "language_info": {
   "codemirror_mode": {
    "name": "ipython",
    "version": 3
   },
   "file_extension": ".py",
   "mimetype": "text/x-python",
   "name": "python",
   "nbconvert_exporter": "python",
   "pygments_lexer": "ipython3",
   "version": "3.7.4"
  }
 },
 "nbformat": 4,
 "nbformat_minor": 4
}
