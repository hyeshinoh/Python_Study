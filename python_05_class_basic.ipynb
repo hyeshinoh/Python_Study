{
 "cells": [
  {
   "cell_type": "markdown",
   "metadata": {},
   "source": [
    "# **Python 05: Class - Basic**"
   ]
  },
  {
   "cell_type": "markdown",
   "metadata": {},
   "source": [
    "여럿이 함께 프로그램을 개발하려면 필요한 부분을 나눠서 작성한 후 합쳐야 한다. 이 때 프로그램을 기능별로 나누는 방법은 (1)함수 (2)객체 (3)모듈이 있는데, 이번에는 객체에 대해서 살펴보도록 하자"
   ]
  },
  {
   "cell_type": "markdown",
   "metadata": {},
   "source": [
    "### 다룰 내용\n",
    "- basic\n",
    "    - OOP 개념\n",
    "    - 클래스의 구조\n",
    "    - 생성자\n",
    "    - 상속\n",
    "    - 다중상속\n",
    "    - super\n",
    "\n",
    "\n",
    "- 다음 파트인 intermediate에서는 아래와 같은 내용을 다룬다\n",
    "    - getter & setter\n",
    "    - private\n",
    "    - is a / has a\n",
    "    - magic method"
   ]
  },
  {
   "cell_type": "markdown",
   "metadata": {},
   "source": [
    "## 1. OOP(Object-Oriented Programming, 객체 지향 프로그래밍)\n",
    "\n",
    "### 1.1 객체 지향 프로그래밍\n",
    "#### 개념\n",
    "- 객체: 실생활에서 일종의 물건\n",
    "    - 속성(Attribute)와 행동(Action)을 가짐\n",
    "- OOP는 이러한 객체 개념을 프로그램으로 표현\n",
    "    - 속성은 variable, 행동은 function으로 표현됨\n",
    "- 클래스(class) & 객체(object, instance)\n",
    "    - 클래스: 설계도, 도면, 청사진\n",
    "        - 변수와 함수들을 묶은 '사용자 정의 데이터 타입'이라고 생각하면 됨(custom data type)\n",
    "        - 객체지향을 구현하기 위해 만들어진 개념: 다형성, 캡슐화, 추상화, 상속 등의 특징을 가짐\n",
    "    - 객체: 실제 구현체\n",
    "        - 클래스를 이용해서 실제 객체를 만들어야 클래스에 정의된 함수나 변수를 사용할 수 있음    \n",
    "- 클래스를 잘 정의해서 프로그래밍을 쉽게하고 반복적으로 사용할 수 있게 하는 것이 OOP\n"
   ]
  },
  {
   "cell_type": "markdown",
   "metadata": {},
   "source": [
    "#### 클래스와 객체 선언\n",
    "- 함수를 선언한 뒤에 '호출'을 해야 함수를 사용하는 것처럼, 클래스도 '객체'를 만들어야 클래스에 정의된 함수나 변수를 사용할 수 있음"
   ]
  },
  {
   "cell_type": "code",
   "execution_count": null,
   "metadata": {},
   "outputs": [],
   "source": [
    "# 함수를 선언한 뒤에 '호출'해서 함수 사용\n",
    "def dss():\n",
    "    print(\"data\")\n",
    "    \n",
    "\n",
    "dss()\n",
    "\n",
    "# class도 '객체'를 만들어야 클래스에 정의된 함수나 변수를 사용\n",
    "class A:\n",
    "    method - a, b, c\n",
    "\n",
    "    \n",
    "obj = A()           # 객체\n",
    "obj.a(), obj.b()"
   ]
  },
  {
   "cell_type": "markdown",
   "metadata": {},
   "source": [
    "### 1.2 객체 지향 프로그램의 예시"
   ]
  },
  {
   "cell_type": "markdown",
   "metadata": {},
   "source": [
    "인공지능 축구 프로그램을 작성한다고 가정\n",
    "- 객체 종류: 팀, 선수, 심판, 공\n",
    "- Attribute(variable로 표현)\n",
    "    - 선수: 선수 이름, 포지션, 소속팀\n",
    "    - 팀: 팀 이름, 팀 연고지, 팀 소속 선수\n",
    "- Action(function으로 표현)\n",
    "    - 선수: 공을 차다, 패스하다\n",
    "    - 심판: 휘슬을 불다, 경고를 주다"
   ]
  },
  {
   "cell_type": "markdown",
   "metadata": {},
   "source": [
    "## 2. Structure - 클래스의 구조\n",
    "\n",
    "### 2.1 Class 선언\n",
    "- 문법: `class ClassName(object):`\n",
    "    - object: 상속받는 개체명으로, 생략해도 괜찮음\n",
    "- class naming\n",
    "    - class는 camelCase, CamelCase, PascalCase 사용\n",
    "    - 함수는 snake_case 사용\n",
    "- Attribute 추가: `__init__`, `self` 사용하여 변수 할당\n",
    "    - `__init__`: 객체 초기화 예약 함수\n",
    "- Function 추가:\n",
    "    - def를 이용하여 기존 함수처럼 함수를 선언 \n",
    "    - 반드시 self를 넣어주어야 class 함수로 인정\n",
    "    - self는 객체 자신을 의미"
   ]
  },
  {
   "cell_type": "code",
   "execution_count": 1,
   "metadata": {},
   "outputs": [],
   "source": [
    "class SoccerPlayer(object):\n",
    "    def __init__(self, name, position, back_number):\n",
    "        self.name = name\n",
    "        self.position = position\n",
    "        self.back_number = back_number\n",
    "        \n",
    "    def change_back_number(self, new_number):\n",
    "        print(\"선수의 등번호를 변경합니다: from %d to %d\" % (\n",
    "              self.back_number, new_number))\n",
    "        self.back_number = new_number\n",
    "        \n",
    "    def __str__(self):\n",
    "        return \"Hello, My name is %s. I play in %s in center\" % (\n",
    "               self.name, self.position)"
   ]
  },
  {
   "cell_type": "markdown",
   "metadata": {},
   "source": [
    "### 2.2 객체화: Object(Instance) 사용하기\n",
    "- 클래스를 사용하려면 개체화를 시켜줘야 함\n",
    "- object 이름 선언과 함께 초기값 입력하기"
   ]
  },
  {
   "cell_type": "code",
   "execution_count": 2,
   "metadata": {},
   "outputs": [
    {
     "name": "stdout",
     "output_type": "stream",
     "text": [
      "Hello, My name is Jinhyun. I play in MF in center\n",
      "현재 선수의 등번호는: 10\n",
      "선수의 등번호를 변경합니다: from 10 to 5\n",
      "현재 선수의 등번호는: 5\n"
     ]
    }
   ],
   "source": [
    "jinhyun = SoccerPlayer(\"Jinhyun\", \"MF\", 10)\n",
    "print(jinhyun)\n",
    "\n",
    "print(\"현재 선수의 등번호는:\", jinhyun.back_number)\n",
    "jinhyun.change_back_number(5)\n",
    "print(\"현재 선수의 등번호는:\", jinhyun.back_number)"
   ]
  },
  {
   "cell_type": "markdown",
   "metadata": {},
   "source": [
    "### 2.3 예시: 계산기 클래스와 객체 만들기"
   ]
  },
  {
   "cell_type": "code",
   "execution_count": 3,
   "metadata": {},
   "outputs": [],
   "source": [
    "# 계산기 클래스\n",
    "class Calculator:\n",
    "    def setdata(self, num1, num2):\n",
    "        self.num1 = num1\n",
    "        self.num2 = num2\n",
    "        self.result = 0     # 클래스 안에서 사용되는 변수\n",
    "    \n",
    "    def add(self):\n",
    "        return self.num1 + self.num2\n",
    "\n",
    "    def sub(self):\n",
    "        self.result = self.num1 - self.num2\n",
    "    \n",
    "    def mul(self):\n",
    "        return self.num1 * self.num2\n",
    "    \n",
    "    def div(self):\n",
    "        return self.num1 / self.num2"
   ]
  },
  {
   "cell_type": "code",
   "execution_count": 4,
   "metadata": {},
   "outputs": [],
   "source": [
    "# 객체화: 객체를 생성\n",
    "cal = Calculator()\n",
    "# 객체의 함수에 접근\n",
    "cal.setdata(3, 2)"
   ]
  },
  {
   "cell_type": "code",
   "execution_count": 5,
   "metadata": {},
   "outputs": [
    {
     "data": {
      "text/plain": [
       "5"
      ]
     },
     "execution_count": 5,
     "metadata": {},
     "output_type": "execute_result"
    }
   ],
   "source": [
    "cal.add()"
   ]
  },
  {
   "cell_type": "code",
   "execution_count": 6,
   "metadata": {},
   "outputs": [
    {
     "data": {
      "text/plain": [
       "(3, 2, 1)"
      ]
     },
     "execution_count": 6,
     "metadata": {},
     "output_type": "execute_result"
    }
   ],
   "source": [
    "cal.sub()\n",
    "cal.num1, cal.num2, cal.result"
   ]
  },
  {
   "cell_type": "code",
   "execution_count": 7,
   "metadata": {},
   "outputs": [],
   "source": [
    "cal2 = Calculator()"
   ]
  },
  {
   "cell_type": "markdown",
   "metadata": {},
   "source": [
    "cal과 cal2는 Calculator 타입으로 서로 다른 메모리 주소에 저장되어 있음"
   ]
  },
  {
   "cell_type": "code",
   "execution_count": 8,
   "metadata": {
    "scrolled": true
   },
   "outputs": [
    {
     "name": "stdout",
     "output_type": "stream",
     "text": [
      "Variable       Type            Data/Info\n",
      "----------------------------------------\n",
      "Calculator     type            <class '__main__.Calculator'>\n",
      "SoccerPlayer   type            <class '__main__.SoccerPlayer'>\n",
      "cal            Calculator      <__main__.Calculator object at 0x116afaa58>\n",
      "cal2           Calculator      <__main__.Calculator object at 0x116afa400>\n",
      "jinhyun        SoccerPlayer    Hello, My name is Jinhyun. I play in MF in center\n"
     ]
    }
   ],
   "source": [
    "%whos"
   ]
  },
  {
   "cell_type": "markdown",
   "metadata": {},
   "source": [
    "### 2.4 Class의 효율성"
   ]
  },
  {
   "cell_type": "markdown",
   "metadata": {},
   "source": [
    "다섯명의 축구선수 정보를 저장하는 방법\n",
    "- 2차원 리스트로 구현할 수도 있음"
   ]
  },
  {
   "cell_type": "code",
   "execution_count": 9,
   "metadata": {},
   "outputs": [
    {
     "name": "stdout",
     "output_type": "stream",
     "text": [
      "[['Jin', 'MF', 10], ['Sungchul', 'DF', 15], ['Ronaldo', 'CF', 20], ['Hong', 'WF', 3], ['Seo', 'GK', 1]]\n",
      "['Jin', 'MF', 10]\n"
     ]
    }
   ],
   "source": [
    "names = [\"Jin\", \"Sungchul\", \"Ronaldo\", \"Hong\", \"Seo\"]\n",
    "positions = [\"MF\", \"DF\", \"CF\", \"WF\", \"GK\"]\n",
    "numbers = [10, 15, 20, 3, 1]\n",
    "\n",
    "players = [[name, position, number] for name, position, number in zip(names, positions, numbers)]\n",
    "print(players)\n",
    "print(players[0])"
   ]
  },
  {
   "cell_type": "markdown",
   "metadata": {},
   "source": [
    "- 그러나 class로 선언하는 편이 더 효율적"
   ]
  },
  {
   "cell_type": "code",
   "execution_count": 11,
   "metadata": {},
   "outputs": [
    {
     "name": "stdout",
     "output_type": "stream",
     "text": [
      "Hello, My name is Jin. I play in MF in center\n",
      "Hello, My name is Hong. I play in WF in center\n"
     ]
    },
    {
     "data": {
      "text/plain": [
       "(None, None)"
      ]
     },
     "execution_count": 11,
     "metadata": {},
     "output_type": "execute_result"
    }
   ],
   "source": [
    "player_objects = [SoccerPlayer(name, position, number) \n",
    "                  for name, position, number in zip(names, positions, numbers)]\n",
    "print(player_objects[0]), print(player_objects[3])"
   ]
  },
  {
   "cell_type": "code",
   "execution_count": 12,
   "metadata": {},
   "outputs": [
    {
     "data": {
      "text/plain": [
       "[<__main__.SoccerPlayer at 0x116b3f518>,\n",
       " <__main__.SoccerPlayer at 0x116b3f588>,\n",
       " <__main__.SoccerPlayer at 0x116b3f5c0>,\n",
       " <__main__.SoccerPlayer at 0x116b3f550>,\n",
       " <__main__.SoccerPlayer at 0x116b3f4e0>]"
      ]
     },
     "execution_count": 12,
     "metadata": {},
     "output_type": "execute_result"
    }
   ],
   "source": [
    "player_objects"
   ]
  },
  {
   "cell_type": "markdown",
   "metadata": {},
   "source": [
    "## 3. Constructor - 생성자\n",
    "- 클래스가 객체가 될때 변수의 초기값을 설정해주는 역할\n",
    "- `__init__`으로 함수명을 작성하여 초기 변수값을 넣어주면 됨\n",
    "- <span style=\"background-color:yellow\"> 클래스가 객체가 될 때, `__init__` 함수를 먼저 실행해줌 (객체를 만들 때 자동으로 실행)</span>\n",
    "- 사용 이유: 생성자에서 설정된 변수가 없으면 객체를 만들수 없도록 함으로써 객체가 만들어진 상태에서 객체의 함수가 실행되지 않는 것보다 메모리를 절약"
   ]
  },
  {
   "cell_type": "markdown",
   "metadata": {},
   "source": [
    "- 생성자를 만들고 객체를 선언할때 초기 데이터가 없으면 에러가 발생하여 객체가 생성되지 않음\n",
    "    - cf) 생성자가 없는 class에 초기값이 없이 객체를 만들면 함수를 실행할 때 에러"
   ]
  },
  {
   "cell_type": "code",
   "execution_count": 13,
   "metadata": {},
   "outputs": [
    {
     "ename": "AttributeError",
     "evalue": "'Calculator' object has no attribute 'num1'",
     "output_type": "error",
     "traceback": [
      "\u001b[0;31m---------------------------------------------------------------------------\u001b[0m",
      "\u001b[0;31mAttributeError\u001b[0m                            Traceback (most recent call last)",
      "\u001b[0;32m<ipython-input-13-583691e85c87>\u001b[0m in \u001b[0;36m<module>\u001b[0;34m()\u001b[0m\n\u001b[1;32m      3\u001b[0m \u001b[0;34m\u001b[0m\u001b[0m\n\u001b[1;32m      4\u001b[0m \u001b[0;31m# 재료없이 기능을 사용하려고 함\u001b[0m\u001b[0;34m\u001b[0m\u001b[0;34m\u001b[0m\u001b[0m\n\u001b[0;32m----> 5\u001b[0;31m \u001b[0mcal\u001b[0m\u001b[0;34m.\u001b[0m\u001b[0madd\u001b[0m\u001b[0;34m(\u001b[0m\u001b[0;34m)\u001b[0m\u001b[0;34m\u001b[0m\u001b[0m\n\u001b[0m",
      "\u001b[0;32m<ipython-input-3-5519552dfdd6>\u001b[0m in \u001b[0;36madd\u001b[0;34m(self)\u001b[0m\n\u001b[1;32m      7\u001b[0m \u001b[0;34m\u001b[0m\u001b[0m\n\u001b[1;32m      8\u001b[0m     \u001b[0;32mdef\u001b[0m \u001b[0madd\u001b[0m\u001b[0;34m(\u001b[0m\u001b[0mself\u001b[0m\u001b[0;34m)\u001b[0m\u001b[0;34m:\u001b[0m\u001b[0;34m\u001b[0m\u001b[0m\n\u001b[0;32m----> 9\u001b[0;31m         \u001b[0;32mreturn\u001b[0m \u001b[0mself\u001b[0m\u001b[0;34m.\u001b[0m\u001b[0mnum1\u001b[0m \u001b[0;34m+\u001b[0m \u001b[0mself\u001b[0m\u001b[0;34m.\u001b[0m\u001b[0mnum2\u001b[0m\u001b[0;34m\u001b[0m\u001b[0m\n\u001b[0m\u001b[1;32m     10\u001b[0m \u001b[0;34m\u001b[0m\u001b[0m\n\u001b[1;32m     11\u001b[0m     \u001b[0;32mdef\u001b[0m \u001b[0msub\u001b[0m\u001b[0;34m(\u001b[0m\u001b[0mself\u001b[0m\u001b[0;34m)\u001b[0m\u001b[0;34m:\u001b[0m\u001b[0;34m\u001b[0m\u001b[0m\n",
      "\u001b[0;31mAttributeError\u001b[0m: 'Calculator' object has no attribute 'num1'"
     ]
    }
   ],
   "source": [
    "# 이 순간에 메모리가 할당됨 but 재료는 없어\n",
    "cal = Calculator()\n",
    "\n",
    "# 재료없이 기능을 사용하려고 함\n",
    "cal.add()"
   ]
  },
  {
   "cell_type": "code",
   "execution_count": 14,
   "metadata": {},
   "outputs": [],
   "source": [
    "# 생성자가 선언된 계산기 클래스 정의\n",
    "class Calculator2:\n",
    "    def __init__(self, num1, num2):\n",
    "        self.num1 = num1\n",
    "        self.num2 = num2\n",
    "        self.result = 0\n",
    "    \n",
    "    def setData(self, num1, num2):\n",
    "        self.num1 = num1\n",
    "        self.num2 = num2\n",
    "        self.result = 0\n",
    "    \n",
    "    def add(self):\n",
    "        return self.num1 + self.num2\n",
    "    \n",
    "    def sub(self):\n",
    "        return self.num1 - self.num2\n",
    "    \n",
    "    def mul(self):\n",
    "        return self.num1 * self.num2\n",
    "    \n",
    "    def div(self):\n",
    "        return self.num1 / self.num"
   ]
  },
  {
   "cell_type": "markdown",
   "metadata": {},
   "source": [
    "생성자가 선언되어 있는 클래스에 필요한 변수가 초기에 선언이 되지 않으면 아예 객체가 만들어지지 않음"
   ]
  },
  {
   "cell_type": "code",
   "execution_count": 15,
   "metadata": {},
   "outputs": [
    {
     "ename": "TypeError",
     "evalue": "__init__() missing 2 required positional arguments: 'num1' and 'num2'",
     "output_type": "error",
     "traceback": [
      "\u001b[0;31m---------------------------------------------------------------------------\u001b[0m",
      "\u001b[0;31mTypeError\u001b[0m                                 Traceback (most recent call last)",
      "\u001b[0;32m<ipython-input-15-f01dfb6ac1e2>\u001b[0m in \u001b[0;36m<module>\u001b[0;34m()\u001b[0m\n\u001b[0;32m----> 1\u001b[0;31m \u001b[0mcal2\u001b[0m \u001b[0;34m=\u001b[0m \u001b[0mCalculator2\u001b[0m\u001b[0;34m(\u001b[0m\u001b[0;34m)\u001b[0m\u001b[0;34m\u001b[0m\u001b[0m\n\u001b[0m",
      "\u001b[0;31mTypeError\u001b[0m: __init__() missing 2 required positional arguments: 'num1' and 'num2'"
     ]
    }
   ],
   "source": [
    "cal2 = Calculator2()"
   ]
  },
  {
   "cell_type": "code",
   "execution_count": 16,
   "metadata": {},
   "outputs": [
    {
     "data": {
      "text/plain": [
       "3"
      ]
     },
     "execution_count": 16,
     "metadata": {},
     "output_type": "execute_result"
    }
   ],
   "source": [
    "cal2 = Calculator2(1, 2)\n",
    "cal2.add()"
   ]
  },
  {
   "cell_type": "code",
   "execution_count": 17,
   "metadata": {},
   "outputs": [
    {
     "data": {
      "text/plain": [
       "6"
      ]
     },
     "execution_count": 17,
     "metadata": {},
     "output_type": "execute_result"
    }
   ],
   "source": [
    "# __init__에 default parameter를 둘 수도 있음\n",
    "class Calculator2:\n",
    "        \n",
    "    def __init__(self, num1, num2=5):\n",
    "        self.num1 = num1\n",
    "        self.num2 = num2\n",
    "        self.result = 0\n",
    "    \n",
    "    def setdata(self, num1, num2):\n",
    "        self.num1 = num1\n",
    "        self.num2 = num2\n",
    "        self.result = 0\n",
    "    \n",
    "    def plus(self):\n",
    "        return self.num1 + self.num2\n",
    "    \n",
    "    def minus(self):\n",
    "        self.result = self.num1 - self.num2\n",
    "        \n",
    "\n",
    "cal3 = Calculator2(1)\n",
    "cal3.plus()"
   ]
  },
  {
   "cell_type": "markdown",
   "metadata": {},
   "source": [
    "### 3.1 self"
   ]
  },
  {
   "cell_type": "markdown",
   "metadata": {},
   "source": [
    "#### 함수를 사용하는 방법 1: self"
   ]
  },
  {
   "cell_type": "code",
   "execution_count": 18,
   "metadata": {},
   "outputs": [
    {
     "data": {
      "text/plain": [
       "(5, 6)"
      ]
     },
     "execution_count": 18,
     "metadata": {},
     "output_type": "execute_result"
    }
   ],
   "source": [
    "cal.setdata(5, 6)\n",
    "cal.num1, cal.num2"
   ]
  },
  {
   "cell_type": "markdown",
   "metadata": {},
   "source": [
    "#### 함수를 사용하는 방법 2: class함수에 direct로 접근\n",
    "- `<클래스명>.<함수명>(<obj.>, parameter1, parameter2)`\n",
    "- 이런식으로는 잘 사용하지 않음"
   ]
  },
  {
   "cell_type": "code",
   "execution_count": 19,
   "metadata": {},
   "outputs": [
    {
     "data": {
      "text/plain": [
       "(7, 8)"
      ]
     },
     "execution_count": 19,
     "metadata": {},
     "output_type": "execute_result"
    }
   ],
   "source": [
    "Calculator.setdata(cal, 7, 8)\n",
    "cal.num1, cal.num2"
   ]
  },
  {
   "cell_type": "markdown",
   "metadata": {},
   "source": [
    "### 3.2 예시: 야구선수 정보를 가지고 선수별 클래스 만들기\n",
    "- 클래스에는 타율을 구하는 함수를 추가\n",
    "- 김선민(ksm) - 타석: 476, 안타:176\n",
    "- 박건우(pkw) - 타석: 483, 안타:177\n",
    "- 박민우(pmw) - 타석: 386, 안타:141"
   ]
  },
  {
   "cell_type": "code",
   "execution_count": 20,
   "metadata": {},
   "outputs": [],
   "source": [
    "class Player:\n",
    "    def __init__(self, ab, hit):\n",
    "        self.ab = ab\n",
    "        self.hit = hit\n",
    "        \n",
    "    def avg(self):\n",
    "        return round(self.hit / self.ab, 3)     # 소수점 셋째자리까지 반올림    "
   ]
  },
  {
   "cell_type": "code",
   "execution_count": 21,
   "metadata": {},
   "outputs": [],
   "source": [
    "ksm = Player(476, 176)\n",
    "pkw = Player(483, 177)\n",
    "pmw = Player(386, 141)"
   ]
  },
  {
   "cell_type": "code",
   "execution_count": 22,
   "metadata": {
    "scrolled": true
   },
   "outputs": [
    {
     "data": {
      "text/plain": [
       "(0.37, 0.366, 0.365)"
      ]
     },
     "execution_count": 22,
     "metadata": {},
     "output_type": "execute_result"
    }
   ],
   "source": [
    "ksm.avg(), pkw.avg(), pmw.avg()"
   ]
  },
  {
   "cell_type": "markdown",
   "metadata": {},
   "source": [
    "## 4. Inheritance - 상속"
   ]
  },
  {
   "cell_type": "markdown",
   "metadata": {},
   "source": [
    "### 4.1 상속 개념\n",
    "- 부모클래스로부터 속성과 method를 물려받은 자식 클래스를 생성하는 것\n",
    "    - 기존 클래스의 기능을 새로운 클래스에서 사용하고 싶을 때 이용\n",
    "- 기존의 클래스에 새로운 변수나 함수를 추가하거나 변경할수 있도록 해주는 기능\n",
    "- 파이썬에서는 단일상속과 다중상속 모두 사용 가능"
   ]
  },
  {
   "cell_type": "markdown",
   "metadata": {},
   "source": [
    "- 핸드폰 클래스 예시로 상속의 개념 보기 "
   ]
  },
  {
   "cell_type": "code",
   "execution_count": null,
   "metadata": {},
   "outputs": [],
   "source": [
    "class iphone1():\n",
    "    method - call, send_sms\n",
    "\n",
    "class iphone2(iphone1):\n",
    "    method - wifi\n",
    "\n",
    "class iphone3(iphone2):           # 보통은 이렇게 3단계까지 정도만 사용\n",
    "    method - touch_id\n",
    "\n",
    "class galaxy():\n",
    "    method - game\n",
    "    \n",
    "class galaxy2(iphone1, galaxy):   # 다중상속\n",
    "    method - show_image    "
   ]
  },
  {
   "cell_type": "markdown",
   "metadata": {},
   "source": [
    "이 경우 각 클래스는 다음과 같은 기능을 갖게 됨\n",
    "- iphone1 - call, send_sms\n",
    "- iphone2 - call, send_sms, wifi\n",
    "- iphone3 - call, send_sms, wifi, touch_id\n",
    "- galaxy - game\n",
    "- galaxy2 - call, send_sms, game, show_image"
   ]
  },
  {
   "cell_type": "markdown",
   "metadata": {},
   "source": [
    "#### Person을 상속받은 Korean 클래스 만들기"
   ]
  },
  {
   "cell_type": "code",
   "execution_count": 23,
   "metadata": {},
   "outputs": [
    {
     "name": "stdout",
     "output_type": "stream",
     "text": [
      "Sungchul\n"
     ]
    }
   ],
   "source": [
    "class Person():\n",
    "    def __init__(self, name, age):\n",
    "        self.name = name\n",
    "        self.age = age\n",
    "        \n",
    "        \n",
    "class Korean(Person):\n",
    "    pass\n",
    "\n",
    "\n",
    "first_korean = Korean(\"Sungchul\", 35)\n",
    "print(first_korean.name)"
   ]
  },
  {
   "cell_type": "markdown",
   "metadata": {},
   "source": [
    "### 4.2 다형성(Polymorphism): Overriding & overloading\n",
    "- 다형성: 같은 이름의 method의 내부 로직을 다르게 작성\n",
    "- overriding과 overloading의 차이점은 다형성의 특징\n",
    "    - overriding : 상위 클래스가 가지고 있는 함수를 하위 클래스가 함수를 재정의 해서 사용 (기존 기능을 덮어 씌워 새로운 기능으로 만드는 것)\n",
    "    - overloading : 함수 이름은 같으나 argument 갯수 차이로 함수를 구분해서 실행해주는 방법\n",
    "        - python 에서는 지원x, default argument로 조건문을 사용하여 구현"
   ]
  },
  {
   "cell_type": "code",
   "execution_count": null,
   "metadata": {},
   "outputs": [],
   "source": [
    "# java에서는 overloading이 구현됨. 아래 두 개가 달리 실행됨\n",
    "def test():\n",
    "    return 10\n",
    "\n",
    "def test(num):\n",
    "    return num"
   ]
  },
  {
   "cell_type": "code",
   "execution_count": null,
   "metadata": {},
   "outputs": [],
   "source": [
    "# 파이썬에서는 default parameter 사용해서 구현 가능 (꼼수ㅎㅎ)\n",
    "def test(num=None):\n",
    "    if num is None:\n",
    "        return 10\n",
    "    return num\n",
    "\n",
    "# 함수는 return을 만나면 그 아래가 실행되지 않음"
   ]
  },
  {
   "cell_type": "markdown",
   "metadata": {},
   "source": [
    "### 4.3 상속 예시: 스타크래프트"
   ]
  },
  {
   "cell_type": "code",
   "execution_count": 24,
   "metadata": {},
   "outputs": [],
   "source": [
    "class Human:\n",
    "    def __init__(self):\n",
    "        self.health = 40\n",
    "        \n",
    "    def set_health(self, value):\n",
    "        self.health += value\n",
    "        if self.health > 40:\n",
    "            self.health = 40       "
   ]
  },
  {
   "cell_type": "code",
   "execution_count": 31,
   "metadata": {},
   "outputs": [],
   "source": [
    "class Marin(Human):\n",
    "    def __init__(self):\n",
    "        self.health = 40           # Q: Human을 상속받아왔는데 이걸 또 써야하나?\n",
    "        self.attack_power = 5\n",
    "        self.kill_count = 0\n",
    "        \n",
    "    def attack(self, target):\n",
    "        target.set_health(-self.attack_power)\n",
    "        if target.health <= 0:\n",
    "            print(\"die\")\n",
    "            self.kill_count += 1\n",
    "        else:\n",
    "            print(\"alive [health:{}]\".format(target.health))"
   ]
  },
  {
   "cell_type": "code",
   "execution_count": 32,
   "metadata": {},
   "outputs": [],
   "source": [
    "m1, m2 = Marin(), Marin()"
   ]
  },
  {
   "cell_type": "code",
   "execution_count": 33,
   "metadata": {},
   "outputs": [
    {
     "data": {
      "text/plain": [
       "(40, 40, 0)"
      ]
     },
     "execution_count": 33,
     "metadata": {},
     "output_type": "execute_result"
    }
   ],
   "source": [
    "m1.health, m2.health, m1.kill_count"
   ]
  },
  {
   "cell_type": "code",
   "execution_count": 34,
   "metadata": {},
   "outputs": [
    {
     "name": "stdout",
     "output_type": "stream",
     "text": [
      "alive [health:35]\n"
     ]
    }
   ],
   "source": [
    "m1.attack(m2)"
   ]
  },
  {
   "cell_type": "code",
   "execution_count": 35,
   "metadata": {},
   "outputs": [],
   "source": [
    "class Medic(Human):   \n",
    "    def __init__(self):\n",
    "        self.health = 20\n",
    "        self.heal_power = 6\n",
    "        \n",
    "    def heal(self, target):\n",
    "        target.set_health(self.heal_power)\n",
    "        print(\"health: \", target.health)       "
   ]
  },
  {
   "cell_type": "code",
   "execution_count": 36,
   "metadata": {},
   "outputs": [],
   "source": [
    "m3, medic = Marin(), Medic() "
   ]
  },
  {
   "cell_type": "code",
   "execution_count": 37,
   "metadata": {},
   "outputs": [
    {
     "data": {
      "text/plain": [
       "(40, 40)"
      ]
     },
     "execution_count": 37,
     "metadata": {},
     "output_type": "execute_result"
    }
   ],
   "source": [
    "m1.health, m3.health"
   ]
  },
  {
   "cell_type": "code",
   "execution_count": 38,
   "metadata": {},
   "outputs": [
    {
     "name": "stdout",
     "output_type": "stream",
     "text": [
      "alive [health:35]\n"
     ]
    }
   ],
   "source": [
    "m3.attack(m1)"
   ]
  },
  {
   "cell_type": "code",
   "execution_count": 39,
   "metadata": {},
   "outputs": [
    {
     "name": "stdout",
     "output_type": "stream",
     "text": [
      "health:  40\n"
     ]
    }
   ],
   "source": [
    "medic.heal(m1)"
   ]
  },
  {
   "cell_type": "markdown",
   "metadata": {},
   "source": [
    "## 5. Multiple Inheritance - 다중상속\n",
    "- 어떤 클래스가 하나 이상의 상위 클래스로부터 여러 가지 행동이나 특징을 상속받을 수 있음"
   ]
  },
  {
   "cell_type": "code",
   "execution_count": 40,
   "metadata": {},
   "outputs": [],
   "source": [
    "# Human, Korea, Indian\n",
    "# Jin(Human, Korean), Anchal(Human, Indian)\n",
    "\n",
    "class Human:\n",
    "    def walk(self):\n",
    "        print(\"walking\")\n",
    "    \n",
    "    \n",
    "class Korean:\n",
    "    def eat(self):\n",
    "        print(\"eat kimchi\")\n",
    "    \n",
    "    \n",
    "class Indian:\n",
    "    def eat(self):\n",
    "        print(\"eat curry\")  "
   ]
  },
  {
   "cell_type": "code",
   "execution_count": 41,
   "metadata": {},
   "outputs": [],
   "source": [
    "class Jin(Human, Korean):\n",
    "    def skill(self):\n",
    "        print(\"coding\")\n",
    "    \n",
    "    # overriding\n",
    "    def eat(self):                  \n",
    "        print(\"eat noodle\")\n",
    "\n",
    "        \n",
    "class Anchal(Human, Indian):\n",
    "    def skill(self):\n",
    "        print(\"english\")\n",
    "    \n",
    "    #overriding & overloading\n",
    "    def eat(self, place = None):\n",
    "        if place is None:\n",
    "            print(\"eat curry\")\n",
    "        else:\n",
    "            print(\"eat curry at\", place)"
   ]
  },
  {
   "cell_type": "code",
   "execution_count": 42,
   "metadata": {},
   "outputs": [],
   "source": [
    "j = Jin()\n",
    "a = Anchal()"
   ]
  },
  {
   "cell_type": "code",
   "execution_count": 43,
   "metadata": {},
   "outputs": [
    {
     "name": "stdout",
     "output_type": "stream",
     "text": [
      "eat noodle\n",
      "walking\n",
      "coding\n"
     ]
    },
    {
     "data": {
      "text/plain": [
       "(None, None, None)"
      ]
     },
     "execution_count": 43,
     "metadata": {},
     "output_type": "execute_result"
    }
   ],
   "source": [
    "j.eat(), j.walk(), j.skill()"
   ]
  },
  {
   "cell_type": "code",
   "execution_count": 44,
   "metadata": {
    "scrolled": true
   },
   "outputs": [
    {
     "name": "stdout",
     "output_type": "stream",
     "text": [
      "eat curry\n",
      "walking\n",
      "english\n"
     ]
    },
    {
     "data": {
      "text/plain": [
       "(None, None, None)"
      ]
     },
     "execution_count": 44,
     "metadata": {},
     "output_type": "execute_result"
    }
   ],
   "source": [
    "a.eat(), a.walk(), a.skill()"
   ]
  },
  {
   "cell_type": "code",
   "execution_count": 45,
   "metadata": {
    "scrolled": true
   },
   "outputs": [
    {
     "name": "stdout",
     "output_type": "stream",
     "text": [
      "eat curry at aaa\n",
      "walking\n",
      "english\n"
     ]
    },
    {
     "data": {
      "text/plain": [
       "(None, None, None)"
      ]
     },
     "execution_count": 45,
     "metadata": {},
     "output_type": "execute_result"
    }
   ],
   "source": [
    "a.eat(\"aaa\"), a.walk(), a.skill()"
   ]
  },
  {
   "cell_type": "markdown",
   "metadata": {},
   "source": [
    "## 6. Super\n",
    "- super는 상위 클래스의 생성자를 받아옴 (속성을 받아옴)"
   ]
  },
  {
   "cell_type": "markdown",
   "metadata": {},
   "source": [
    "### 6.1 예시: 스타크래프트 \n",
    "- Human, Marin(Human), Medic(Human)"
   ]
  },
  {
   "cell_type": "code",
   "execution_count": 46,
   "metadata": {},
   "outputs": [],
   "source": [
    "class Human:\n",
    "    def __init__(self):\n",
    "        self.health = 40\n",
    "        \n",
    "    def set_health(self, value):\n",
    "        self.health += value\n",
    "        if self.health > 40:\n",
    "            self.health = 40       "
   ]
  },
  {
   "cell_type": "code",
   "execution_count": 47,
   "metadata": {},
   "outputs": [],
   "source": [
    "class Marin(Human):\n",
    "    def __init__(self):\n",
    "        # self.health = 40\n",
    "        super(Marin, self).__init__()\n",
    "        # super().__init__()                    # 이렇게 super()로 비워두어도 작동\n",
    "        self.attack_power = 5\n",
    "        self.kill = 0\n",
    "        \n",
    "    def attack(self, target):\n",
    "        target.set_health(-self.attack_power)\n",
    "        if target.health <= 0:\n",
    "            print(\"die\")\n",
    "            self.kill += 1\n",
    "        else:\n",
    "            print(\"alive [health:{}]\".format(target.health))"
   ]
  },
  {
   "cell_type": "code",
   "execution_count": 48,
   "metadata": {},
   "outputs": [],
   "source": [
    "m1, m2 = Marin(), Marin()"
   ]
  },
  {
   "cell_type": "code",
   "execution_count": 49,
   "metadata": {},
   "outputs": [
    {
     "data": {
      "text/plain": [
       "(40, 40, 0)"
      ]
     },
     "execution_count": 49,
     "metadata": {},
     "output_type": "execute_result"
    }
   ],
   "source": [
    "m1.health, m2.health, m1.kill"
   ]
  },
  {
   "cell_type": "code",
   "execution_count": 50,
   "metadata": {},
   "outputs": [
    {
     "name": "stdout",
     "output_type": "stream",
     "text": [
      "alive [health:35]\n"
     ]
    }
   ],
   "source": [
    "m1.attack(m2)"
   ]
  },
  {
   "cell_type": "markdown",
   "metadata": {},
   "source": [
    "### 6.2 예시: person-employee "
   ]
  },
  {
   "cell_type": "code",
   "execution_count": 51,
   "metadata": {},
   "outputs": [],
   "source": [
    "class Person:                                   # 부모 클래스 Person 선언\n",
    "    def __init__(self, name, age, gender):      # 생성자 선언(속성값 지정) \n",
    "        self.name = name                        \n",
    "        self.age = age\n",
    "        self.gender = gender        \n",
    "        # 해당 변수가 클래스의 attribute임을 명확히하기 위해 self를 붙임\n",
    "\n",
    "    def about_me(self):                         # Method 선언\n",
    "        print(\"저의 이름은 \", self.name, \"이구요, 제 나이는 \", str(self.age), \"살 입니다.\")\n",
    "\n",
    "\n",
    "class Employee(Person):                                          # 부모 클래스 Person으로 부터 상속\n",
    "    def __init__(self, name, age, gender, salary, hire_date):\n",
    "        super().__init__(name, age, gender)                      # super(): 부모객체 사용\n",
    "        self.salary = salary                                     # 속성값 추가\n",
    "        self.hire_date = hire_date                               # 속성값 추가\n",
    "\n",
    "    def do_work(self):                                           # 새로운 method 추가\n",
    "        print(\"열심히 일을 합니다.\")\n",
    "\n",
    "    def about_me(self):                 # 부모 클래스 함수 재정의(overriding)\n",
    "        super().about_me()              # 부모 클래스 함수 사용\n",
    "        # 부모 클래스 함수에 다음 추가\n",
    "        print(\"제 급여는 \", self.salary, \"원 이구요, 제 입사일은 \", self.hire_date, \" 입니다.\")     "
   ]
  },
  {
   "cell_type": "code",
   "execution_count": 52,
   "metadata": {},
   "outputs": [
    {
     "name": "stdout",
     "output_type": "stream",
     "text": [
      "저의 이름은  John 이구요, 제 나이는  34 살 입니다.\n",
      "None\n",
      "저의 이름은  Daeho 이구요, 제 나이는  34 살 입니다.\n",
      "제 급여는  300000 원 이구요, 제 입사일은  2012/03/01  입니다.\n",
      "None\n"
     ]
    }
   ],
   "source": [
    "myPerson = Person(\"John\", 34, \"Male\")\n",
    "myEmployee = Employee(\"Daeho\", 34, \"Male\", 300000, \"2012/03/01\")\n",
    "print(myPerson.about_me())\n",
    "print(myEmployee.about_me())"
   ]
  },
  {
   "cell_type": "code",
   "execution_count": 53,
   "metadata": {
    "scrolled": true
   },
   "outputs": [
    {
     "name": "stdout",
     "output_type": "stream",
     "text": [
      "열심히 일을 합니다.\n"
     ]
    }
   ],
   "source": [
    "# myPerson.do_work()         # 부모 클래스에서는 Error\n",
    "myEmployee.do_work()         # 열심히 일을 합니다."
   ]
  },
  {
   "cell_type": "markdown",
   "metadata": {},
   "source": [
    "### 6.3 다이아몬드 상속과 super"
   ]
  },
  {
   "cell_type": "markdown",
   "metadata": {},
   "source": [
    "다이아몬드 상속\n",
    "- 상속 구조가 다음과 같을 경우 (A → B), (A → C), (B,C → D)\n",
    "- D() - A가 두 번 호출됨 (which is not necessary)\n"
   ]
  },
  {
   "cell_type": "code",
   "execution_count": 54,
   "metadata": {},
   "outputs": [],
   "source": [
    "class A:\n",
    "    def __init__(self):\n",
    "        print(\"A.__init__\")\n",
    "        \n",
    "        \n",
    "class B(A):\n",
    "    def __init__(self):\n",
    "        print(\"B.__init__\")\n",
    "        A.__init__(self)       # A에 있는 생성자를 받아옴\n",
    "\n",
    "                \n",
    "class C(A):\n",
    "    def __init__(self):\n",
    "        print(\"C.__init__\")\n",
    "        A.__init__(self)       # A에 있는 생성자를 받아옴\n",
    "        \n",
    "        \n",
    "class D(B,C):\n",
    "    def __init__(self):\n",
    "        print(\"D.__init__\")\n",
    "        B.__init__(self)       # B, A init\n",
    "        C.__init__(self)       # C, A init"
   ]
  },
  {
   "cell_type": "code",
   "execution_count": 55,
   "metadata": {},
   "outputs": [
    {
     "name": "stdout",
     "output_type": "stream",
     "text": [
      "D.__init__\n",
      "B.__init__\n",
      "A.__init__\n",
      "C.__init__\n",
      "A.__init__\n"
     ]
    },
    {
     "data": {
      "text/plain": [
       "<__main__.D at 0x116b3fcc0>"
      ]
     },
     "execution_count": 55,
     "metadata": {},
     "output_type": "execute_result"
    }
   ],
   "source": [
    "# 객체화\n",
    "D()     \n",
    "# D.__init__(obj)"
   ]
  },
  {
   "cell_type": "markdown",
   "metadata": {},
   "source": [
    "super를 사용하면 A가 두 번 호출되지 않음"
   ]
  },
  {
   "cell_type": "code",
   "execution_count": 56,
   "metadata": {},
   "outputs": [],
   "source": [
    "class A:\n",
    "    def __init__(self):\n",
    "        print(\"A.__init__\")\n",
    "        \n",
    "        \n",
    "class B(A):\n",
    "    def __init__(self):\n",
    "        print(\"B.__init__\")\n",
    "        super(B, self).__init__()\n",
    "        \n",
    "        \n",
    "class C(A):\n",
    "    def __init__(self):\n",
    "        print(\"C.__init__\")\n",
    "        super(C, self).__init__()\n",
    "        \n",
    "        \n",
    "class D(B,C):   # D <- B <- C 형태: 실제로 상속받는 것이 아니라 super를 호출할 때 상속이되어 가져옴\n",
    "    def __init__(self):\n",
    "        print(\"D.__init__\")\n",
    "        super(D, self).__init__()    "
   ]
  },
  {
   "cell_type": "code",
   "execution_count": 57,
   "metadata": {},
   "outputs": [
    {
     "name": "stdout",
     "output_type": "stream",
     "text": [
      "D.__init__\n",
      "B.__init__\n",
      "C.__init__\n",
      "A.__init__\n"
     ]
    },
    {
     "data": {
      "text/plain": [
       "<__main__.D at 0x116bb69e8>"
      ]
     },
     "execution_count": 57,
     "metadata": {},
     "output_type": "execute_result"
    }
   ],
   "source": [
    "D()\n",
    "# D.__init__(obj)"
   ]
  },
  {
   "cell_type": "code",
   "execution_count": 68,
   "metadata": {},
   "outputs": [
    {
     "name": "stdout",
     "output_type": "stream",
     "text": [
      "C.__init__\n",
      "A.__init__\n",
      "B.__init__\n"
     ]
    },
    {
     "data": {
      "text/plain": [
       "<__main__.C at 0x1641dbe87b8>"
      ]
     },
     "execution_count": 68,
     "metadata": {},
     "output_type": "execute_result"
    }
   ],
   "source": [
    "class A:\n",
    "    def __init__(self):\n",
    "        print(\"A.__init__\")\n",
    "    \n",
    "    \n",
    "class B:\n",
    "    def __init__(self):\n",
    "        print(\"B.__init__\")\n",
    "        \n",
    "        \n",
    "class C(A,B):                        # C <- A <- B\n",
    "    def __init__(self):\n",
    "        print(\"C.__init__\")\n",
    "        super(C, self).__init__()    # C를 적으면 A를 가져옴 \n",
    "                                     # A를 적으면 B를 가져옴 (A가 B에서 상속 받음)\n",
    "        super(A, self).__init__()    # B \n",
    "        # super()                    # 안 쓰면 알아서 C가 들어감\n",
    "\n",
    "C()"
   ]
  },
  {
   "cell_type": "markdown",
   "metadata": {},
   "source": [
    "#### 참고자료\n",
    "- 패스트캠퍼스, ⟪데이터사이언스스쿨 8기⟫ 수업자료\n",
    "- 인프런, ⟪프로그래밍, 데이터 과학을 위한 파이썬 입문⟫ 수업 자료"
   ]
  }
 ],
 "metadata": {
  "kernelspec": {
   "display_name": "Python 3",
   "language": "python",
   "name": "python3"
  },
  "language_info": {
   "codemirror_mode": {
    "name": "ipython",
    "version": 3
   },
   "file_extension": ".py",
   "mimetype": "text/x-python",
   "name": "python",
   "nbconvert_exporter": "python",
   "pygments_lexer": "ipython3",
   "version": "3.7.4"
  }
 },
 "nbformat": 4,
 "nbformat_minor": 4
}
