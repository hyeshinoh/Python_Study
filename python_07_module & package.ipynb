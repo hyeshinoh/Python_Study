{
 "cells": [
  {
   "cell_type": "markdown",
   "metadata": {},
   "source": [
    "## 1. Module - 모듈\n",
    "여럿이 함께 프로그램을 개발하기 위한 방법인 (1) 함수 (2) 객체 (3) 모듈 중 모듈에 대해 알아보자.\n",
    "- 모듈: 변수, 함수, 클래스를 모아놓은 파일\n",
    "- 사용 이유: 하나의 파일로 모든 코드를 작성해서 서비스를 만들 수 없기 때문에 코드의 규모가 커지면 기능별로 분리해 모듈 형태로 저장하고, 모듈을 모아서 하나의 큰 프로그램을 개발\n",
    "- 모듈의 확장자는 py\n",
    "- import를 이용하여 모듈을 호출\n",
    "- naming:\n",
    "    - module의 식별자(이름)은 짧은 소문자로 구성, 합성어를 사용할 경우에는 밑줄로 구분(snake_case)\n",
    "    - CamelCase도 혼재\n",
    "    - C/C++모듈은 이름이 밑줄로 시작"
   ]
  },
  {
   "cell_type": "markdown",
   "metadata": {},
   "source": [
    "magic command를 이용하여 module로 사용할 dsm.py 파일을 만들어 저장 "
   ]
  },
  {
   "cell_type": "code",
   "execution_count": 1,
   "metadata": {},
   "outputs": [
    {
     "name": "stdout",
     "output_type": "stream",
     "text": [
      "Writing dsm.py\n"
     ]
    }
   ],
   "source": [
    "%%writefile dsm.py\n",
    "\n",
    "var = 1234\n",
    "\n",
    "def disp1(s):\n",
    "    print(\"dsm_f1:\", s)\n",
    "\n",
    "\n",
    "def disp2(s):\n",
    "    print(\"dsm_f2:\", s)\n",
    "\n",
    "    \n",
    "def disp3(s):\n",
    "    print(\"dsm_f3:\", s)\n",
    "\n",
    "\n",
    "class Calc():\n",
    "    def plus(self, *args):\n",
    "        return sum(args)"
   ]
  },
  {
   "cell_type": "markdown",
   "metadata": {},
   "source": [
    "### 1.1 모듈 호출"
   ]
  },
  {
   "cell_type": "markdown",
   "metadata": {},
   "source": [
    "#### (1) dsm 모듈 호출\n",
    "같은 폴더 내에 모듈이 위치한 경우 바로 import가 가능"
   ]
  },
  {
   "cell_type": "code",
   "execution_count": 2,
   "metadata": {},
   "outputs": [],
   "source": [
    "import dsm"
   ]
  },
  {
   "cell_type": "code",
   "execution_count": 3,
   "metadata": {},
   "outputs": [
    {
     "name": "stdout",
     "output_type": "stream",
     "text": [
      "Variable   Type      Data/Info\n",
      "------------------------------\n",
      "dsm        module    <module 'dsm' from '/User<...>ace/Study_Python/dsm.py'>\n"
     ]
    }
   ],
   "source": [
    "%whos"
   ]
  },
  {
   "cell_type": "markdown",
   "metadata": {},
   "source": [
    "#### (2) dsm 모듈의 변수 호출"
   ]
  },
  {
   "cell_type": "code",
   "execution_count": 4,
   "metadata": {},
   "outputs": [
    {
     "data": {
      "text/plain": [
       "1234"
      ]
     },
     "execution_count": 4,
     "metadata": {},
     "output_type": "execute_result"
    }
   ],
   "source": [
    "dsm.var"
   ]
  },
  {
   "cell_type": "markdown",
   "metadata": {},
   "source": [
    "#### (3) dsm 모듈의 함수 호출"
   ]
  },
  {
   "cell_type": "code",
   "execution_count": 5,
   "metadata": {},
   "outputs": [
    {
     "name": "stdout",
     "output_type": "stream",
     "text": [
      "dsm_f1: test\n"
     ]
    }
   ],
   "source": [
    "dsm.disp1(\"test\")"
   ]
  },
  {
   "cell_type": "code",
   "execution_count": 6,
   "metadata": {},
   "outputs": [
    {
     "name": "stdout",
     "output_type": "stream",
     "text": [
      "dsm_f1: test1\n",
      "dsm_f2: test2\n",
      "dsm_f3: test3\n"
     ]
    }
   ],
   "source": [
    "dsm.disp1(\"test1\")\n",
    "dsm.disp2(\"test2\")\n",
    "dsm.disp3(\"test3\")"
   ]
  },
  {
   "cell_type": "markdown",
   "metadata": {},
   "source": [
    "#### (4) dsm 모듈의 클래스 호출"
   ]
  },
  {
   "cell_type": "code",
   "execution_count": 7,
   "metadata": {},
   "outputs": [
    {
     "data": {
      "text/plain": [
       "15"
      ]
     },
     "execution_count": 7,
     "metadata": {},
     "output_type": "execute_result"
    }
   ],
   "source": [
    "c = dsm.Calc()\n",
    "c.plus(1,2,3,4,5)"
   ]
  },
  {
   "cell_type": "markdown",
   "metadata": {},
   "source": [
    "### 1.2 모듈에 있는 함수만 호출하기\n",
    "- 모듈에 있는 함수만 호출하면 (모듈이름).(함수이름) 에서 (함수이름)만 사용하기 때문에 함수를 사용할때 코드의 양을 줄일수 있음\n",
    "- from을 사용하여 모듈을 호출하고 import를 이용하여 모듈안에 있는 함수나 변수나 클래스를 호출할수 있음"
   ]
  },
  {
   "cell_type": "code",
   "execution_count": 8,
   "metadata": {},
   "outputs": [
    {
     "name": "stdin",
     "output_type": "stream",
     "text": [
      "Once deleted, variables cannot be recovered. Proceed (y/[n])?  y\n"
     ]
    }
   ],
   "source": [
    "%reset"
   ]
  },
  {
   "cell_type": "code",
   "execution_count": 9,
   "metadata": {},
   "outputs": [],
   "source": [
    "from dsm import disp1, disp2"
   ]
  },
  {
   "cell_type": "code",
   "execution_count": 10,
   "metadata": {},
   "outputs": [
    {
     "name": "stdout",
     "output_type": "stream",
     "text": [
      "Variable   Type        Data/Info\n",
      "--------------------------------\n",
      "disp1      function    <function disp1 at 0x1176ce8c8>\n",
      "disp2      function    <function disp2 at 0x1116c1950>\n"
     ]
    }
   ],
   "source": [
    "%whos"
   ]
  },
  {
   "cell_type": "code",
   "execution_count": 11,
   "metadata": {},
   "outputs": [
    {
     "name": "stdout",
     "output_type": "stream",
     "text": [
      "dsm_f1: test\n"
     ]
    }
   ],
   "source": [
    "disp1(\"test\")"
   ]
  },
  {
   "cell_type": "markdown",
   "metadata": {},
   "source": [
    "### 1.3 모듈의 모든 함수 호출"
   ]
  },
  {
   "cell_type": "code",
   "execution_count": 12,
   "metadata": {},
   "outputs": [],
   "source": [
    "from dsm import *"
   ]
  },
  {
   "cell_type": "code",
   "execution_count": 13,
   "metadata": {},
   "outputs": [
    {
     "name": "stdout",
     "output_type": "stream",
     "text": [
      "Variable   Type        Data/Info\n",
      "--------------------------------\n",
      "Calc       type        <class 'dsm.Calc'>\n",
      "disp1      function    <function disp1 at 0x1176ce8c8>\n",
      "disp2      function    <function disp2 at 0x1116c1950>\n",
      "disp3      function    <function disp3 at 0x117745488>\n",
      "var        int         1234\n"
     ]
    }
   ],
   "source": [
    "%whos"
   ]
  },
  {
   "cell_type": "markdown",
   "metadata": {},
   "source": [
    "## 2. Package - 패키지\n",
    "- 하나의 큰 프로젝트를 만드는 코드의 묶음\n",
    "- 디렉토리와 모듈로 이루어져 있음\n",
    "- `__init__.py`\n",
    "    - 현재 폴더가 패키지임을 알리는 초기화 스크립트로, 없을 경우 패키지로 간주하지 않음\n",
    "    - `python3.3` 이후 버전에서는 없어도 동작에 문제가 없지만 호환성을 위해서 파일을 만들어 주는 것이 좋음"
   ]
  },
  {
   "cell_type": "markdown",
   "metadata": {},
   "source": [
    "### 2.1 school 패키지 만들기"
   ]
  },
  {
   "cell_type": "markdown",
   "metadata": {},
   "source": [
    "#### 디렉토리 구성하기"
   ]
  },
  {
   "cell_type": "code",
   "execution_count": 14,
   "metadata": {},
   "outputs": [],
   "source": [
    "!mkdir school\n",
    "!mkdir school/datascience\n",
    "!mkdir school/web"
   ]
  },
  {
   "cell_type": "markdown",
   "metadata": {},
   "source": [
    "#### `__init__.py` 만들기"
   ]
  },
  {
   "cell_type": "code",
   "execution_count": 15,
   "metadata": {},
   "outputs": [],
   "source": [
    "!touch school/datascience/__init__.py\n",
    "!touch school/web/__init__.py"
   ]
  },
  {
   "cell_type": "markdown",
   "metadata": {},
   "source": [
    "#### directory structure 체크"
   ]
  },
  {
   "cell_type": "code",
   "execution_count": 16,
   "metadata": {},
   "outputs": [
    {
     "name": "stdout",
     "output_type": "stream",
     "text": [
      "school\n",
      "├── datascience\n",
      "│   └── __init__.py\n",
      "└── web\n",
      "    └── __init__.py\n",
      "\n",
      "2 directories, 2 files\n"
     ]
    }
   ],
   "source": [
    "!tree school"
   ]
  },
  {
   "cell_type": "markdown",
   "metadata": {},
   "source": [
    "#### data 모듈 작성"
   ]
  },
  {
   "cell_type": "code",
   "execution_count": 17,
   "metadata": {},
   "outputs": [
    {
     "name": "stdout",
     "output_type": "stream",
     "text": [
      "Writing school/datascience/data.py\n"
     ]
    }
   ],
   "source": [
    "%%writefile school/datascience/data.py\n",
    "\n",
    "def plus(*args):\n",
    "    return sum(args)"
   ]
  },
  {
   "cell_type": "markdown",
   "metadata": {},
   "source": [
    "#### url 모듈 작성\n",
    "- url의 프로토콜을 확인해서 붙여주는 함수를 포함"
   ]
  },
  {
   "cell_type": "code",
   "execution_count": 18,
   "metadata": {},
   "outputs": [
    {
     "name": "stdout",
     "output_type": "stream",
     "text": [
      "Writing school/web/url.py\n"
     ]
    }
   ],
   "source": [
    "%%writefile school/web/url.py\n",
    "\n",
    "def make_url(url):\n",
    "    protocol = \"http://\"\n",
    "    return url if url[:7] == protocol else protocol + url"
   ]
  },
  {
   "cell_type": "code",
   "execution_count": 19,
   "metadata": {},
   "outputs": [
    {
     "name": "stdout",
     "output_type": "stream",
     "text": [
      "school\n",
      "├── datascience\n",
      "│   ├── __init__.py\n",
      "│   └── data.py\n",
      "└── web\n",
      "    ├── __init__.py\n",
      "    └── url.py\n",
      "\n",
      "2 directories, 4 files\n"
     ]
    }
   ],
   "source": [
    "!tree school"
   ]
  },
  {
   "cell_type": "markdown",
   "metadata": {},
   "source": [
    "### 2.2 모듈 호출하기"
   ]
  },
  {
   "cell_type": "markdown",
   "metadata": {},
   "source": [
    "#### (1) import 사용해서 호출하기"
   ]
  },
  {
   "cell_type": "code",
   "execution_count": 20,
   "metadata": {},
   "outputs": [
    {
     "name": "stdin",
     "output_type": "stream",
     "text": [
      "Once deleted, variables cannot be recovered. Proceed (y/[n])?  y\n"
     ]
    }
   ],
   "source": [
    "%reset"
   ]
  },
  {
   "cell_type": "code",
   "execution_count": 21,
   "metadata": {},
   "outputs": [
    {
     "data": {
      "text/plain": [
       "'http://naver.com'"
      ]
     },
     "execution_count": 21,
     "metadata": {},
     "output_type": "execute_result"
    }
   ],
   "source": [
    "# 아래처럼 import할 때 마지막은 module이 와야함\n",
    "import school.web.url\n",
    "\n",
    "school.web.url.make_url(\"naver.com\")"
   ]
  },
  {
   "cell_type": "code",
   "execution_count": 22,
   "metadata": {},
   "outputs": [
    {
     "name": "stdout",
     "output_type": "stream",
     "text": [
      "Variable   Type      Data/Info\n",
      "------------------------------\n",
      "school     module    <module 'school' (namespace)>\n"
     ]
    }
   ],
   "source": [
    "%whos"
   ]
  },
  {
   "cell_type": "code",
   "execution_count": 23,
   "metadata": {},
   "outputs": [],
   "source": [
    "import school.web.url as url"
   ]
  },
  {
   "cell_type": "code",
   "execution_count": 24,
   "metadata": {},
   "outputs": [
    {
     "name": "stdout",
     "output_type": "stream",
     "text": [
      "Variable   Type      Data/Info\n",
      "------------------------------\n",
      "school     module    <module 'school' (namespace)>\n",
      "url        module    <module 'school.web.url' <...>ython/school/web/url.py'>\n"
     ]
    }
   ],
   "source": [
    "%whos"
   ]
  },
  {
   "cell_type": "code",
   "execution_count": 25,
   "metadata": {},
   "outputs": [
    {
     "data": {
      "text/plain": [
       "'http://fastcampus.com'"
      ]
     },
     "execution_count": 25,
     "metadata": {},
     "output_type": "execute_result"
    }
   ],
   "source": [
    "url.make_url(\"fastcampus.com\")"
   ]
  },
  {
   "cell_type": "markdown",
   "metadata": {},
   "source": [
    "#### (2) from과 import 사용해서 호출하기 "
   ]
  },
  {
   "cell_type": "code",
   "execution_count": 27,
   "metadata": {},
   "outputs": [
    {
     "name": "stdin",
     "output_type": "stream",
     "text": [
      "Once deleted, variables cannot be recovered. Proceed (y/[n])?  y\n"
     ]
    }
   ],
   "source": [
    "%reset"
   ]
  },
  {
   "cell_type": "code",
   "execution_count": 28,
   "metadata": {},
   "outputs": [],
   "source": [
    "from school.datascience import data"
   ]
  },
  {
   "cell_type": "code",
   "execution_count": 29,
   "metadata": {},
   "outputs": [
    {
     "name": "stdout",
     "output_type": "stream",
     "text": [
      "Writing school/datascience/data2.py\n"
     ]
    }
   ],
   "source": [
    "%%writefile school/datascience/data2.py\n",
    "\n",
    "from functools import reduce\n",
    "\n",
    "def sqrt_data(*args):\n",
    "    return reduce(lambda x, y: x ** y, args)"
   ]
  },
  {
   "cell_type": "markdown",
   "metadata": {},
   "source": [
    "#### (3) `__init__.py` 파일\n",
    "- `__init__.py`를 아래와 같이 작성하면 패키지를 호출시 `*`로 모든 모듈을 호출할 경우 import할 모듈을 정해줄 수 있음 \n",
    "- 수정 후엔 kernel restart"
   ]
  },
  {
   "cell_type": "code",
   "execution_count": 30,
   "metadata": {},
   "outputs": [
    {
     "name": "stdout",
     "output_type": "stream",
     "text": [
      "Overwriting school/datascience/__init__.py\n"
     ]
    }
   ],
   "source": [
    "%%writefile school/datascience/__init__.py\n",
    "\n",
    "__all__ = ['data', 'data2']"
   ]
  },
  {
   "cell_type": "code",
   "execution_count": 1,
   "metadata": {},
   "outputs": [],
   "source": [
    "from school.datascience import *"
   ]
  },
  {
   "cell_type": "code",
   "execution_count": 2,
   "metadata": {},
   "outputs": [
    {
     "name": "stdout",
     "output_type": "stream",
     "text": [
      "Variable   Type      Data/Info\n",
      "------------------------------\n",
      "data       module    <module 'school.datascien<...>ool/datascience/data.py'>\n",
      "data2      module    <module 'school.datascien<...>ol/datascience/data2.py'>\n"
     ]
    }
   ],
   "source": [
    "%whos"
   ]
  },
  {
   "cell_type": "markdown",
   "metadata": {},
   "source": [
    "### 2.3 global 영역 path 확인하기\n",
    "- jupyter notebook을 실행한 환경의 python에서 참고하고 있는 path들 체크\n",
    "- 같은 경로에 있지 않아도 이 path에 있으면 바로 import해서 사용 가능"
   ]
  },
  {
   "cell_type": "code",
   "execution_count": 3,
   "metadata": {},
   "outputs": [],
   "source": [
    "import sys"
   ]
  },
  {
   "cell_type": "code",
   "execution_count": 4,
   "metadata": {},
   "outputs": [
    {
     "name": "stdout",
     "output_type": "stream",
     "text": [
      "\n",
      "/usr/local/Cellar/python/3.6.5_1/Frameworks/Python.framework/Versions/3.6/lib/python36.zip\n",
      "/usr/local/Cellar/python/3.6.5_1/Frameworks/Python.framework/Versions/3.6/lib/python3.6\n",
      "/usr/local/Cellar/python/3.6.5_1/Frameworks/Python.framework/Versions/3.6/lib/python3.6/lib-dynload\n",
      "/usr/local/lib/python3.6/site-packages\n",
      "/usr/local/lib/python3.6/site-packages/IPython/extensions\n",
      "/Users/hyeshinoh/.ipython\n"
     ]
    }
   ],
   "source": [
    "for path in sys.path:\n",
    "    print(path)"
   ]
  },
  {
   "cell_type": "code",
   "execution_count": 5,
   "metadata": {},
   "outputs": [
    {
     "name": "stdout",
     "output_type": "stream",
     "text": [
      "\u001b[1m\u001b[36mAutomat-0.7.0.dist-info\u001b[m\u001b[m\n",
      "\u001b[1m\u001b[36mClick-7.0.dist-info\u001b[m\u001b[m\n",
      "\u001b[1m\u001b[36mConfigArgParse-0.12.0.dist-info\u001b[m\u001b[m\n",
      "\u001b[1m\u001b[36mFlask-1.0.2.dist-info\u001b[m\u001b[m\n",
      "\u001b[1m\u001b[36mIPython\u001b[m\u001b[m\n",
      "\u001b[1m\u001b[36mItsDangerous-1.0.0.dist-info\u001b[m\u001b[m\n",
      "\u001b[1m\u001b[36mJPype1-0.6.3.dist-info\u001b[m\u001b[m\n",
      "\u001b[1m\u001b[36mJinja2-2.10.dist-info\u001b[m\u001b[m\n",
      "\u001b[1m\u001b[36mKeras-2.2.2.dist-info\u001b[m\u001b[m\n",
      "\u001b[1m\u001b[36mKeras_Applications-1.0.4.dist-info\u001b[m\u001b[m\n",
      "\u001b[1m\u001b[36mKeras_Preprocessing-1.0.2.dist-info\u001b[m\u001b[m\n",
      "\u001b[1m\u001b[36mMarkdown-2.6.11.dist-info\u001b[m\u001b[m\n",
      "\u001b[1m\u001b[36mMarkupSafe-1.0.dist-info\u001b[m\u001b[m\n",
      "\u001b[1m\u001b[36mOpenSSL\u001b[m\u001b[m\n",
      "\u001b[1m\u001b[36mPIL\u001b[m\u001b[m\n",
      "\u001b[1m\u001b[36mPillow-5.3.0.dist-info\u001b[m\u001b[m\n",
      "\u001b[1m\u001b[36mPyDispatcher-2.0.5.dist-info\u001b[m\u001b[m\n",
      "\u001b[1m\u001b[36mPyHamcrest-1.9.0.dist-info\u001b[m\u001b[m\n",
      "\u001b[1m\u001b[36mPyYAML-3.13.dist-info\u001b[m\u001b[m\n",
      "\u001b[1m\u001b[36mPygments-2.2.0.dist-info\u001b[m\u001b[m\n",
      "\u001b[1m\u001b[36mScrapy-1.5.1.dist-info\u001b[m\u001b[m\n",
      "\u001b[1m\u001b[36mSend2Trash-1.5.0.dist-info\u001b[m\u001b[m\n",
      "\u001b[1m\u001b[36mTwisted-18.7.0.dist-info\u001b[m\u001b[m\n",
      "\u001b[1m\u001b[36mWerkzeug-0.14.1.dist-info\u001b[m\u001b[m\n",
      "\u001b[1m\u001b[36m__pycache__\u001b[m\u001b[m\n",
      "\u001b[31m_cffi_backend.cpython-36m-darwin.so\u001b[m\u001b[m\n",
      "\u001b[31m_jpype.cpython-36m-darwin.so\u001b[m\u001b[m\n",
      "\u001b[1m\u001b[36mabsl\u001b[m\u001b[m\n",
      "\u001b[1m\u001b[36mabsl_py-0.4.0.dist-info\u001b[m\u001b[m\n",
      "\u001b[1m\u001b[36mai\u001b[m\u001b[m\n",
      "\u001b[1m\u001b[36maiohttp\u001b[m\u001b[m\n",
      "\u001b[1m\u001b[36maiohttp-3.3.2.dist-info\u001b[m\u001b[m\n",
      "\u001b[1m\u001b[36mappnope\u001b[m\u001b[m\n",
      "\u001b[1m\u001b[36mappnope-0.1.0.dist-info\u001b[m\u001b[m\n",
      "\u001b[1m\u001b[36masn1crypto\u001b[m\u001b[m\n",
      "\u001b[1m\u001b[36masn1crypto-0.24.0.dist-info\u001b[m\u001b[m\n",
      "\u001b[1m\u001b[36mastor\u001b[m\u001b[m\n",
      "\u001b[1m\u001b[36mastor-0.7.1.dist-info\u001b[m\u001b[m\n",
      "\u001b[1m\u001b[36masync_timeout\u001b[m\u001b[m\n",
      "\u001b[1m\u001b[36masync_timeout-3.0.1.dist-info\u001b[m\u001b[m\n",
      "\u001b[1m\u001b[36mattr\u001b[m\u001b[m\n",
      "\u001b[1m\u001b[36mattrs-18.2.0.dist-info\u001b[m\u001b[m\n",
      "\u001b[1m\u001b[36mautocrop\u001b[m\u001b[m\n",
      "\u001b[1m\u001b[36mautocrop-0.3.0.dist-info\u001b[m\u001b[m\n",
      "\u001b[1m\u001b[36mautomat\u001b[m\u001b[m\n",
      "\u001b[1m\u001b[36mbackcall\u001b[m\u001b[m\n",
      "\u001b[1m\u001b[36mbackcall-0.1.0.dist-info\u001b[m\u001b[m\n",
      "\u001b[1m\u001b[36mbackend.ai_client-1.4.0.dist-info\u001b[m\u001b[m\n",
      "\u001b[1m\u001b[36mbeautifulsoup4-4.6.3.dist-info\u001b[m\u001b[m\n",
      "\u001b[1m\u001b[36mbleach\u001b[m\u001b[m\n",
      "\u001b[1m\u001b[36mbleach-2.1.4.dist-info\u001b[m\u001b[m\n",
      "\u001b[1m\u001b[36mboto\u001b[m\u001b[m\n",
      "\u001b[1m\u001b[36mboto-2.49.0.dist-info\u001b[m\u001b[m\n",
      "\u001b[1m\u001b[36mboto3\u001b[m\u001b[m\n",
      "\u001b[1m\u001b[36mboto3-1.9.37.dist-info\u001b[m\u001b[m\n",
      "\u001b[1m\u001b[36mbotocore\u001b[m\u001b[m\n",
      "\u001b[1m\u001b[36mbotocore-1.12.37.dist-info\u001b[m\u001b[m\n",
      "\u001b[1m\u001b[36mbs4\u001b[m\u001b[m\n",
      "\u001b[1m\u001b[36mbs4-0.0.1.dist-info\u001b[m\u001b[m\n",
      "\u001b[1m\u001b[36mbz2file-0.98.dist-info\u001b[m\u001b[m\n",
      "bz2file.py\n",
      "\u001b[1m\u001b[36mcertifi\u001b[m\u001b[m\n",
      "\u001b[1m\u001b[36mcertifi-2018.8.24.dist-info\u001b[m\u001b[m\n",
      "\u001b[1m\u001b[36mcffi\u001b[m\u001b[m\n",
      "\u001b[1m\u001b[36mcffi-1.11.5.dist-info\u001b[m\u001b[m\n",
      "\u001b[1m\u001b[36mchardet\u001b[m\u001b[m\n",
      "\u001b[1m\u001b[36mchardet-3.0.4.dist-info\u001b[m\u001b[m\n",
      "\u001b[1m\u001b[36mclick\u001b[m\u001b[m\n",
      "configargparse.py\n",
      "\u001b[1m\u001b[36mconstantly\u001b[m\u001b[m\n",
      "\u001b[1m\u001b[36mconstantly-15.1.0.dist-info\u001b[m\u001b[m\n",
      "\u001b[1m\u001b[36mcookies-2.2.1.dist-info\u001b[m\u001b[m\n",
      "cookies.py\n",
      "\u001b[1m\u001b[36mcryptography\u001b[m\u001b[m\n",
      "\u001b[1m\u001b[36mcryptography-2.3.1.dist-info\u001b[m\u001b[m\n",
      "\u001b[1m\u001b[36mcssselect\u001b[m\u001b[m\n",
      "\u001b[1m\u001b[36mcssselect-1.0.3.dist-info\u001b[m\u001b[m\n",
      "\u001b[1m\u001b[36mcv2\u001b[m\u001b[m\n",
      "\u001b[1m\u001b[36mcycler-0.10.0.dist-info\u001b[m\u001b[m\n",
      "cycler.py\n",
      "\u001b[1m\u001b[36mdateutil\u001b[m\u001b[m\n",
      "\u001b[1m\u001b[36mdecorator-4.3.0.dist-info\u001b[m\u001b[m\n",
      "decorator.py\n",
      "\u001b[1m\u001b[36mdefusedxml\u001b[m\u001b[m\n",
      "\u001b[1m\u001b[36mdefusedxml-0.5.0.dist-info\u001b[m\u001b[m\n",
      "\u001b[1m\u001b[36mdocs\u001b[m\u001b[m\n",
      "\u001b[1m\u001b[36mdocutils\u001b[m\u001b[m\n",
      "\u001b[1m\u001b[36mdocutils-0.14.dist-info\u001b[m\u001b[m\n",
      "easy_install.py\n",
      "\u001b[1m\u001b[36mentrypoints-0.2.3.dist-info\u001b[m\u001b[m\n",
      "entrypoints.py\n",
      "\u001b[1m\u001b[36mexampleproj\u001b[m\u001b[m\n",
      "\u001b[1m\u001b[36mflask\u001b[m\u001b[m\n",
      "\u001b[1m\u001b[36mforecastio\u001b[m\u001b[m\n",
      "\u001b[1m\u001b[36mgast\u001b[m\u001b[m\n",
      "\u001b[1m\u001b[36mgast-0.2.0.dist-info\u001b[m\u001b[m\n",
      "\u001b[1m\u001b[36mgensim\u001b[m\u001b[m\n",
      "\u001b[1m\u001b[36mgensim-3.6.0.dist-info\u001b[m\u001b[m\n",
      "\u001b[1m\u001b[36mgoogle\u001b[m\u001b[m\n",
      "\u001b[1m\u001b[36mgoogle_images_download\u001b[m\u001b[m\n",
      "\u001b[1m\u001b[36mgoogle_images_download-2.4.2.dist-info\u001b[m\u001b[m\n",
      "\u001b[1m\u001b[36mgrpc\u001b[m\u001b[m\n",
      "\u001b[1m\u001b[36mgrpcio-1.14.1.dist-info\u001b[m\u001b[m\n",
      "\u001b[1m\u001b[36mh5py\u001b[m\u001b[m\n",
      "\u001b[1m\u001b[36mh5py-2.8.0.dist-info\u001b[m\u001b[m\n",
      "\u001b[1m\u001b[36mhamcrest\u001b[m\u001b[m\n",
      "\u001b[1m\u001b[36mhtml5lib\u001b[m\u001b[m\n",
      "\u001b[1m\u001b[36mhtml5lib-1.0.1.dist-info\u001b[m\u001b[m\n",
      "\u001b[1m\u001b[36mhumanize\u001b[m\u001b[m\n",
      "\u001b[1m\u001b[36mhumanize-0.5.1.dist-info\u001b[m\u001b[m\n",
      "\u001b[1m\u001b[36mhyperlink\u001b[m\u001b[m\n",
      "\u001b[1m\u001b[36mhyperlink-18.0.0.dist-info\u001b[m\u001b[m\n",
      "\u001b[1m\u001b[36midna\u001b[m\u001b[m\n",
      "\u001b[1m\u001b[36midna-2.7.dist-info\u001b[m\u001b[m\n",
      "\u001b[1m\u001b[36midna_ssl-1.1.0.dist-info\u001b[m\u001b[m\n",
      "idna_ssl.py\n",
      "\u001b[1m\u001b[36mincremental\u001b[m\u001b[m\n",
      "\u001b[1m\u001b[36mincremental-17.5.0.dist-info\u001b[m\u001b[m\n",
      "\u001b[1m\u001b[36mipykernel\u001b[m\u001b[m\n",
      "\u001b[1m\u001b[36mipykernel-4.8.2.dist-info\u001b[m\u001b[m\n",
      "ipykernel_launcher.py\n",
      "\u001b[1m\u001b[36mipython-6.5.0.dist-info\u001b[m\u001b[m\n",
      "\u001b[1m\u001b[36mipython_genutils\u001b[m\u001b[m\n",
      "\u001b[1m\u001b[36mipython_genutils-0.2.0.dist-info\u001b[m\u001b[m\n",
      "\u001b[1m\u001b[36mipywidgets\u001b[m\u001b[m\n",
      "\u001b[1m\u001b[36mipywidgets-7.4.0.dist-info\u001b[m\u001b[m\n",
      "\u001b[1m\u001b[36mitsdangerous\u001b[m\u001b[m\n",
      "\u001b[1m\u001b[36mjedi\u001b[m\u001b[m\n",
      "\u001b[1m\u001b[36mjedi-0.12.1.dist-info\u001b[m\u001b[m\n",
      "\u001b[1m\u001b[36mjinja2\u001b[m\u001b[m\n",
      "\u001b[1m\u001b[36mjmespath\u001b[m\u001b[m\n",
      "\u001b[1m\u001b[36mjmespath-0.9.3.dist-info\u001b[m\u001b[m\n",
      "\u001b[1m\u001b[36mjpype\u001b[m\u001b[m\n",
      "\u001b[1m\u001b[36mjpypex\u001b[m\u001b[m\n",
      "\u001b[1m\u001b[36mjsonschema\u001b[m\u001b[m\n",
      "\u001b[1m\u001b[36mjsonschema-2.6.0.dist-info\u001b[m\u001b[m\n",
      "\u001b[1m\u001b[36mjupyter-1.0.0.dist-info\u001b[m\u001b[m\n",
      "jupyter.py\n",
      "\u001b[1m\u001b[36mjupyter_client\u001b[m\u001b[m\n",
      "\u001b[1m\u001b[36mjupyter_client-5.2.3.dist-info\u001b[m\u001b[m\n",
      "\u001b[1m\u001b[36mjupyter_console\u001b[m\u001b[m\n",
      "\u001b[1m\u001b[36mjupyter_console-5.2.0.dist-info\u001b[m\u001b[m\n",
      "\u001b[1m\u001b[36mjupyter_contrib_core\u001b[m\u001b[m\n",
      "\u001b[1m\u001b[36mjupyter_contrib_core-0.3.3.dist-info\u001b[m\u001b[m\n",
      "\u001b[1m\u001b[36mjupyter_contrib_nbextensions\u001b[m\u001b[m\n",
      "\u001b[1m\u001b[36mjupyter_contrib_nbextensions-0.5.0.dist-info\u001b[m\u001b[m\n",
      "\u001b[1m\u001b[36mjupyter_core\u001b[m\u001b[m\n",
      "\u001b[1m\u001b[36mjupyter_core-4.4.0.dist-info\u001b[m\u001b[m\n",
      "\u001b[1m\u001b[36mjupyter_highlight_selected_word\u001b[m\u001b[m\n",
      "\u001b[1m\u001b[36mjupyter_highlight_selected_word-0.2.0.dist-info\u001b[m\u001b[m\n",
      "\u001b[1m\u001b[36mjupyter_latex_envs-1.4.4.dist-info\u001b[m\u001b[m\n",
      "\u001b[1m\u001b[36mjupyter_nbextensions_configurator\u001b[m\u001b[m\n",
      "\u001b[1m\u001b[36mjupyter_nbextensions_configurator-0.4.0.dist-info\u001b[m\u001b[m\n",
      "\u001b[1m\u001b[36mjupyterlab\u001b[m\u001b[m\n",
      "\u001b[1m\u001b[36mjupyterlab-0.34.4.dist-info\u001b[m\u001b[m\n",
      "\u001b[1m\u001b[36mjupyterlab_launcher\u001b[m\u001b[m\n",
      "\u001b[1m\u001b[36mjupyterlab_launcher-0.13.1.dist-info\u001b[m\u001b[m\n",
      "\u001b[1m\u001b[36mkeras\u001b[m\u001b[m\n",
      "\u001b[1m\u001b[36mkeras_applications\u001b[m\u001b[m\n",
      "\u001b[1m\u001b[36mkeras_preprocessing\u001b[m\u001b[m\n",
      "\u001b[1m\u001b[36mkiwisolver-1.0.1.dist-info\u001b[m\u001b[m\n",
      "\u001b[31mkiwisolver.cpython-36m-darwin.so\u001b[m\u001b[m\n",
      "\u001b[1m\u001b[36mkonlpy\u001b[m\u001b[m\n",
      "\u001b[1m\u001b[36mkonlpy-0.5.1.dist-info\u001b[m\u001b[m\n",
      "\u001b[1m\u001b[36mlatex_envs\u001b[m\u001b[m\n",
      "\u001b[1m\u001b[36mlxml\u001b[m\u001b[m\n",
      "\u001b[1m\u001b[36mlxml-4.2.4.dist-info\u001b[m\u001b[m\n",
      "\u001b[1m\u001b[36mmarkdown\u001b[m\u001b[m\n",
      "\u001b[1m\u001b[36mmarkupsafe\u001b[m\u001b[m\n",
      "\u001b[1m\u001b[36mmatplotlib\u001b[m\u001b[m\n",
      "matplotlib-2.2.3-py3.6-nspkg.pth\n",
      "\u001b[1m\u001b[36mmatplotlib-2.2.3.dist-info\u001b[m\u001b[m\n",
      "\u001b[1m\u001b[36mmistune-0.8.3.dist-info\u001b[m\u001b[m\n",
      "mistune.py\n",
      "\u001b[1m\u001b[36mmpl_toolkits\u001b[m\u001b[m\n",
      "\u001b[1m\u001b[36mmultidict\u001b[m\u001b[m\n",
      "\u001b[1m\u001b[36mmultidict-4.4.2.dist-info\u001b[m\u001b[m\n",
      "\u001b[1m\u001b[36mnamedlist-1.7.dist-info\u001b[m\u001b[m\n",
      "namedlist.py\n",
      "\u001b[1m\u001b[36mnbconvert\u001b[m\u001b[m\n",
      "\u001b[1m\u001b[36mnbconvert-5.4.0.dist-info\u001b[m\u001b[m\n",
      "\u001b[1m\u001b[36mnbformat\u001b[m\u001b[m\n",
      "\u001b[1m\u001b[36mnbformat-4.4.0.dist-info\u001b[m\u001b[m\n",
      "\u001b[1m\u001b[36mnetworkx\u001b[m\u001b[m\n",
      "\u001b[1m\u001b[36mnetworkx-2.1.dist-info\u001b[m\u001b[m\n",
      "\u001b[1m\u001b[36mnltk\u001b[m\u001b[m\n",
      "\u001b[1m\u001b[36mnltk-3.3-py3.6.egg-info\u001b[m\u001b[m\n",
      "\u001b[1m\u001b[36mnotebook\u001b[m\u001b[m\n",
      "\u001b[1m\u001b[36mnotebook-5.6.0.dist-info\u001b[m\u001b[m\n",
      "\u001b[1m\u001b[36mnsml\u001b[m\u001b[m\n",
      "\u001b[1m\u001b[36mnsml-0.0.dist-info\u001b[m\u001b[m\n",
      "\u001b[1m\u001b[36mnumpy\u001b[m\u001b[m\n",
      "\u001b[1m\u001b[36mnumpy-1.14.5.dist-info\u001b[m\u001b[m\n",
      "\u001b[1m\u001b[36mopencv_python-3.4.2.17.dist-info\u001b[m\u001b[m\n",
      "\u001b[1m\u001b[36mpandas\u001b[m\u001b[m\n",
      "\u001b[1m\u001b[36mpandas-0.23.4.dist-info\u001b[m\u001b[m\n",
      "\u001b[1m\u001b[36mpandocfilters-1.4.2.dist-info\u001b[m\u001b[m\n",
      "pandocfilters.py\n",
      "\u001b[1m\u001b[36mparsel\u001b[m\u001b[m\n",
      "\u001b[1m\u001b[36mparsel-1.5.0.dist-info\u001b[m\u001b[m\n",
      "\u001b[1m\u001b[36mparso\u001b[m\u001b[m\n",
      "\u001b[1m\u001b[36mparso-0.3.1.dist-info\u001b[m\u001b[m\n",
      "\u001b[1m\u001b[36mpatsy\u001b[m\u001b[m\n",
      "\u001b[1m\u001b[36mpatsy-0.5.0.dist-info\u001b[m\u001b[m\n",
      "\u001b[1m\u001b[36mpexpect\u001b[m\u001b[m\n",
      "\u001b[1m\u001b[36mpexpect-4.6.0.dist-info\u001b[m\u001b[m\n",
      "\u001b[1m\u001b[36mpickleshare-0.7.4.dist-info\u001b[m\u001b[m\n",
      "pickleshare.py\n",
      "\u001b[1m\u001b[36mpip\u001b[m\u001b[m\n",
      "\u001b[1m\u001b[36mpip-18.1.dist-info\u001b[m\u001b[m\n",
      "\u001b[1m\u001b[36mpkg_resources\u001b[m\u001b[m\n",
      "\u001b[1m\u001b[36mprometheus_client\u001b[m\u001b[m\n",
      "\u001b[1m\u001b[36mprometheus_client-0.3.1.dist-info\u001b[m\u001b[m\n",
      "\u001b[1m\u001b[36mprompt_toolkit\u001b[m\u001b[m\n",
      "\u001b[1m\u001b[36mprompt_toolkit-1.0.15.dist-info\u001b[m\u001b[m\n",
      "protobuf-3.6.1-py3.6-nspkg.pth\n",
      "\u001b[1m\u001b[36mprotobuf-3.6.1.dist-info\u001b[m\u001b[m\n",
      "\u001b[1m\u001b[36mptyprocess\u001b[m\u001b[m\n",
      "\u001b[1m\u001b[36mptyprocess-0.6.0.dist-info\u001b[m\u001b[m\n",
      "\u001b[1m\u001b[36mpyOpenSSL-18.0.0.dist-info\u001b[m\u001b[m\n",
      "\u001b[1m\u001b[36mpyasn1\u001b[m\u001b[m\n",
      "\u001b[1m\u001b[36mpyasn1-0.4.4.dist-info\u001b[m\u001b[m\n",
      "\u001b[1m\u001b[36mpyasn1_modules\u001b[m\u001b[m\n",
      "\u001b[1m\u001b[36mpyasn1_modules-0.2.2.dist-info\u001b[m\u001b[m\n",
      "\u001b[1m\u001b[36mpycparser\u001b[m\u001b[m\n",
      "\u001b[1m\u001b[36mpycparser-2.19.dist-info\u001b[m\u001b[m\n",
      "\u001b[1m\u001b[36mpydispatch\u001b[m\u001b[m\n",
      "\u001b[1m\u001b[36mpygments\u001b[m\u001b[m\n",
      "pylab.py\n",
      "\u001b[1m\u001b[36mpyparsing-2.2.0.dist-info\u001b[m\u001b[m\n",
      "pyparsing.py\n",
      "\u001b[1m\u001b[36mpython_dateutil-2.7.3.dist-info\u001b[m\u001b[m\n",
      "\u001b[1m\u001b[36mpython_forecastio-1.4.0.dist-info\u001b[m\u001b[m\n",
      "\u001b[1m\u001b[36mpytz\u001b[m\u001b[m\n",
      "\u001b[1m\u001b[36mpytz-2018.5.dist-info\u001b[m\u001b[m\n",
      "\u001b[1m\u001b[36mpyzmq-17.1.2.dist-info\u001b[m\u001b[m\n",
      "\u001b[1m\u001b[36mqtconsole\u001b[m\u001b[m\n",
      "\u001b[1m\u001b[36mqtconsole-4.4.1.dist-info\u001b[m\u001b[m\n",
      "\u001b[1m\u001b[36mqueuelib\u001b[m\u001b[m\n",
      "\u001b[1m\u001b[36mqueuelib-1.5.0.dist-info\u001b[m\u001b[m\n",
      "\u001b[1m\u001b[36mrequests\u001b[m\u001b[m\n",
      "\u001b[1m\u001b[36mrequests-2.19.1.dist-info\u001b[m\u001b[m\n",
      "\u001b[1m\u001b[36mresponses-0.9.0.dist-info\u001b[m\u001b[m\n",
      "responses.py\n",
      "\u001b[1m\u001b[36ms3transfer\u001b[m\u001b[m\n",
      "\u001b[1m\u001b[36ms3transfer-0.1.13.dist-info\u001b[m\u001b[m\n",
      "\u001b[1m\u001b[36mscikit_learn-0.19.2.dist-info\u001b[m\u001b[m\n",
      "\u001b[1m\u001b[36mscipy\u001b[m\u001b[m\n",
      "\u001b[1m\u001b[36mscipy-1.1.0.dist-info\u001b[m\u001b[m\n",
      "\u001b[1m\u001b[36mscrapy\u001b[m\u001b[m\n",
      "\u001b[1m\u001b[36mseaborn\u001b[m\u001b[m\n",
      "\u001b[1m\u001b[36mseaborn-0.9.0.dist-info\u001b[m\u001b[m\n",
      "\u001b[1m\u001b[36mselenium\u001b[m\u001b[m\n",
      "\u001b[1m\u001b[36mselenium-3.14.0.dist-info\u001b[m\u001b[m\n",
      "\u001b[1m\u001b[36msend2trash\u001b[m\u001b[m\n",
      "\u001b[1m\u001b[36mservice_identity\u001b[m\u001b[m\n",
      "\u001b[1m\u001b[36mservice_identity-17.0.0.dist-info\u001b[m\u001b[m\n",
      "\u001b[1m\u001b[36msetuptools\u001b[m\u001b[m\n",
      "\u001b[1m\u001b[36msetuptools-39.1.0.dist-info\u001b[m\u001b[m\n",
      "\u001b[1m\u001b[36msimplegeneric-0.8.1.dist-info\u001b[m\u001b[m\n",
      "simplegeneric.py\n",
      "sitecustomize.py\n",
      "\u001b[1m\u001b[36msix-1.11.0.dist-info\u001b[m\u001b[m\n",
      "six.py\n",
      "\u001b[1m\u001b[36msklearn\u001b[m\u001b[m\n",
      "\u001b[1m\u001b[36msmart_open\u001b[m\u001b[m\n",
      "\u001b[1m\u001b[36msmart_open-1.7.1.dist-info\u001b[m\u001b[m\n",
      "\u001b[1m\u001b[36mstatsmodels\u001b[m\u001b[m\n",
      "\u001b[1m\u001b[36mstatsmodels-0.9.0.dist-info\u001b[m\u001b[m\n",
      "\u001b[1m\u001b[36mtabulate-0.8.2.dist-info\u001b[m\u001b[m\n",
      "tabulate.py\n",
      "\u001b[1m\u001b[36mtensorboard\u001b[m\u001b[m\n",
      "\u001b[1m\u001b[36mtensorboard-1.10.0.dist-info\u001b[m\u001b[m\n",
      "\u001b[1m\u001b[36mtensorflow\u001b[m\u001b[m\n",
      "\u001b[1m\u001b[36mtensorflow-1.10.1.dist-info\u001b[m\u001b[m\n",
      "\u001b[1m\u001b[36mtermcolor-1.1.0.dist-info\u001b[m\u001b[m\n",
      "termcolor.py\n",
      "\u001b[1m\u001b[36mterminado\u001b[m\u001b[m\n",
      "\u001b[1m\u001b[36mterminado-0.8.1.dist-info\u001b[m\u001b[m\n",
      "\u001b[1m\u001b[36mtest\u001b[m\u001b[m\n",
      "test_cookies.py\n",
      "test_responses.py\n",
      "\u001b[1m\u001b[36mtestpath\u001b[m\u001b[m\n",
      "\u001b[1m\u001b[36mtestpath-0.3.1.dist-info\u001b[m\u001b[m\n",
      "\u001b[1m\u001b[36mtornado\u001b[m\u001b[m\n",
      "\u001b[1m\u001b[36mtornado-5.1.dist-info\u001b[m\u001b[m\n",
      "\u001b[1m\u001b[36mtqdm\u001b[m\u001b[m\n",
      "\u001b[1m\u001b[36mtqdm-4.25.0.dist-info\u001b[m\u001b[m\n",
      "\u001b[1m\u001b[36mtraitlets\u001b[m\u001b[m\n",
      "\u001b[1m\u001b[36mtraitlets-4.3.2.dist-info\u001b[m\u001b[m\n",
      "\u001b[1m\u001b[36mtwisted\u001b[m\u001b[m\n",
      "\u001b[1m\u001b[36murllib3\u001b[m\u001b[m\n",
      "\u001b[1m\u001b[36murllib3-1.23.dist-info\u001b[m\u001b[m\n",
      "\u001b[1m\u001b[36mw3lib\u001b[m\u001b[m\n",
      "\u001b[1m\u001b[36mw3lib-1.19.0.dist-info\u001b[m\u001b[m\n",
      "\u001b[1m\u001b[36mwcwidth\u001b[m\u001b[m\n",
      "\u001b[1m\u001b[36mwcwidth-0.1.7.dist-info\u001b[m\u001b[m\n",
      "\u001b[1m\u001b[36mwebencodings\u001b[m\u001b[m\n",
      "\u001b[1m\u001b[36mwebencodings-0.5.1.dist-info\u001b[m\u001b[m\n",
      "\u001b[1m\u001b[36mwerkzeug\u001b[m\u001b[m\n",
      "\u001b[1m\u001b[36mwheel\u001b[m\u001b[m\n",
      "\u001b[1m\u001b[36mwheel-0.31.1-py3.6.egg-info\u001b[m\u001b[m\n",
      "\u001b[1m\u001b[36mwidgetsnbextension\u001b[m\u001b[m\n",
      "\u001b[1m\u001b[36mwidgetsnbextension-3.4.0.dist-info\u001b[m\u001b[m\n",
      "\u001b[1m\u001b[36mxgboost\u001b[m\u001b[m\n",
      "\u001b[1m\u001b[36mxgboost-0.81.dist-info\u001b[m\u001b[m\n",
      "\u001b[1m\u001b[36myaml\u001b[m\u001b[m\n",
      "\u001b[1m\u001b[36myarl\u001b[m\u001b[m\n",
      "\u001b[1m\u001b[36myarl-1.2.6.dist-info\u001b[m\u001b[m\n",
      "\u001b[1m\u001b[36mzmq\u001b[m\u001b[m\n",
      "\u001b[1m\u001b[36mzope\u001b[m\u001b[m\n",
      "zope.interface-4.5.0-py3.6-nspkg.pth\n",
      "\u001b[1m\u001b[36mzope.interface-4.5.0.dist-info\u001b[m\u001b[m\n"
     ]
    }
   ],
   "source": [
    "!ls /usr/local/lib/python3.6/site-packages"
   ]
  },
  {
   "cell_type": "markdown",
   "metadata": {},
   "source": [
    "#### 참고자료\n",
    "- 패스트캠퍼스, ⟪데이터사이언스스쿨 8기⟫ 수업자료"
   ]
  }
 ],
 "metadata": {
  "kernelspec": {
   "display_name": "Python 3",
   "language": "python",
   "name": "python3"
  },
  "language_info": {
   "codemirror_mode": {
    "name": "ipython",
    "version": 3
   },
   "file_extension": ".py",
   "mimetype": "text/x-python",
   "name": "python",
   "nbconvert_exporter": "python",
   "pygments_lexer": "ipython3",
   "version": "3.7.4"
  }
 },
 "nbformat": 4,
 "nbformat_minor": 4
}
